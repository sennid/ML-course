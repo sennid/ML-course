{
 "cells": [
  {
   "cell_type": "markdown",
   "id": "89925f0b",
   "metadata": {
    "id": "PGYjPLqXYCAH",
    "papermill": {
     "duration": 0.01192,
     "end_time": "2023-05-21T16:12:41.863883",
     "exception": false,
     "start_time": "2023-05-21T16:12:41.851963",
     "status": "completed"
    },
    "tags": []
   },
   "source": [
    "# Deep Q-Network implementation.\n",
    "\n",
    "This homework shamelessly demands you to implement DQN — an approximate Q-learning algorithm with experience replay and target networks — and see if it works any better this way.\n",
    "\n",
    "Original paper:\n",
    "https://arxiv.org/pdf/1312.5602.pdf"
   ]
  },
  {
   "cell_type": "markdown",
   "id": "21e1634c",
   "metadata": {
    "id": "VXqxgNy6YKR0",
    "papermill": {
     "duration": 0.011349,
     "end_time": "2023-05-21T16:12:41.886870",
     "exception": false,
     "start_time": "2023-05-21T16:12:41.875521",
     "status": "completed"
    },
    "tags": []
   },
   "source": [
    "Acknowledgements for this homework to the [Practical_RL](https://github.com/yandexdataschool/Practical_RL) course team."
   ]
  },
  {
   "cell_type": "markdown",
   "id": "d1b0ccbe",
   "metadata": {
    "id": "ccnKDS7jYCAP",
    "papermill": {
     "duration": 0.011107,
     "end_time": "2023-05-21T16:12:41.909388",
     "exception": false,
     "start_time": "2023-05-21T16:12:41.898281",
     "status": "completed"
    },
    "tags": []
   },
   "source": [
    "**This notebook is given for debug.** The main task is to solve [`Acrobot-v1`](https://gym.openai.com/envs/Acrobot-v1/) environment. The tasks are similar and share most of the code. The main difference is in environments. In main notebook it can take some time for the agent to start improving so it seems reasonable to launch the algorithm on a simpler env first. Here it is CartPole and it will train in several minutes.\n",
    "\n",
    "**We suggest the following pipeline:** First implement debug notebook then implement the main one.\n",
    "\n",
    "**About evaluation:** All points are given for the main notebook with one exception: if agent fails to beat the threshold in main notebook you can get 1 pt (instead of 3 pts) for beating the threshold in debug notebook."
   ]
  },
  {
   "cell_type": "code",
   "execution_count": 1,
   "id": "662089f7",
   "metadata": {
    "execution": {
     "iopub.execute_input": "2023-05-21T16:12:41.933621Z",
     "iopub.status.busy": "2023-05-21T16:12:41.933195Z",
     "iopub.status.idle": "2023-05-21T16:13:05.695412Z",
     "shell.execute_reply": "2023-05-21T16:13:05.693753Z"
    },
    "id": "H14myqeSYCAR",
    "outputId": "b309bd79-6131-462c-b64d-0d505b989264",
    "papermill": {
     "duration": 23.778074,
     "end_time": "2023-05-21T16:13:05.698785",
     "exception": false,
     "start_time": "2023-05-21T16:12:41.920711",
     "status": "completed"
    },
    "tags": []
   },
   "outputs": [
    {
     "name": "stdout",
     "output_type": "stream",
     "text": [
      "bash: line 9: gdown: command not found\r\n",
      "\u001b[33mWARNING: Running pip as the 'root' user can result in broken permissions and conflicting behaviour with the system package manager. It is recommended to use a virtual environment instead: https://pip.pypa.io/warnings/venv\u001b[0m\u001b[33m\r\n",
      "\u001b[0mStarting virtual X frame buffer: Xvfb.\r\n"
     ]
    }
   ],
   "source": [
    "import sys, os\n",
    "if not os.path.exists('.setup_complete'):\n",
    "    !wget -q https://raw.githubusercontent.com/yandexdataschool/Practical_RL/master/setup_colab.sh -O- | bash\n",
    "    !wget -q https://raw.githubusercontent.com/yandexdataschool/Practical_RL/master/week04_approx_rl/atari_wrappers.py\n",
    "    !wget -q https://raw.githubusercontent.com/girafe-ai/ml-course/22s_harbour_dlia/homeworks/lab02_dqn/utils.py\n",
    "    !wget -q https://raw.githubusercontent.com/yandexdataschool/Practical_RL/master/week04_approx_rl/replay_buffer.py\n",
    "    !wget -q https://raw.githubusercontent.com/yandexdataschool/Practical_RL/master/week04_approx_rl/framebuffer.py\n",
    "\n",
    "    \n",
    "    !touch .setup_complete\n",
    "\n",
    "# This code creates a virtual display to draw game images on.\n",
    "# It will have no effect if your machine has a monitor.\n",
    "if type(os.environ.get(\"DISPLAY\")) is not str or len(os.environ.get(\"DISPLAY\")) == 0:\n",
    "    !bash ../xvfb start\n",
    "    os.environ['DISPLAY'] = ':1'"
   ]
  },
  {
   "cell_type": "code",
   "execution_count": 2,
   "id": "73f41603",
   "metadata": {
    "execution": {
     "iopub.execute_input": "2023-05-21T16:13:05.752218Z",
     "iopub.status.busy": "2023-05-21T16:13:05.751661Z",
     "iopub.status.idle": "2023-05-21T16:13:17.959521Z",
     "shell.execute_reply": "2023-05-21T16:13:17.958364Z"
    },
    "id": "bo9NTzXTn4Uu",
    "outputId": "a3519765-a4e3-43e0-b5b8-59f4e7adb4ec",
    "papermill": {
     "duration": 12.237271,
     "end_time": "2023-05-21T16:13:17.962009",
     "exception": false,
     "start_time": "2023-05-21T16:13:05.724738",
     "status": "completed"
    },
    "tags": []
   },
   "outputs": [
    {
     "name": "stdout",
     "output_type": "stream",
     "text": [
      "Requirement already satisfied: gymnasium in /opt/conda/lib/python3.10/site-packages (0.26.3)\r\n",
      "Collecting gymnasium\r\n",
      "  Downloading gymnasium-0.28.1-py3-none-any.whl (925 kB)\r\n",
      "\u001b[2K     \u001b[90m━━━━━━━━━━━━━━━━━━━━━━━━━━━━━━━━━━━━━━\u001b[0m \u001b[32m925.5/925.5 kB\u001b[0m \u001b[31m29.0 MB/s\u001b[0m eta \u001b[36m0:00:00\u001b[0m\r\n",
      "\u001b[?25hRequirement already satisfied: typing-extensions>=4.3.0 in /opt/conda/lib/python3.10/site-packages (from gymnasium) (4.5.0)\r\n",
      "Requirement already satisfied: cloudpickle>=1.2.0 in /opt/conda/lib/python3.10/site-packages (from gymnasium) (2.2.1)\r\n",
      "Collecting farama-notifications>=0.0.1\r\n",
      "  Downloading Farama_Notifications-0.0.4-py3-none-any.whl (2.5 kB)\r\n",
      "Requirement already satisfied: numpy>=1.21.0 in /opt/conda/lib/python3.10/site-packages (from gymnasium) (1.23.5)\r\n",
      "Collecting jax-jumpy>=1.0.0\r\n",
      "  Downloading jax_jumpy-1.0.0-py3-none-any.whl (20 kB)\r\n",
      "Installing collected packages: farama-notifications, jax-jumpy, gymnasium\r\n",
      "  Attempting uninstall: gymnasium\r\n",
      "    Found existing installation: Gymnasium 0.26.3\r\n",
      "    Uninstalling Gymnasium-0.26.3:\r\n",
      "      Successfully uninstalled Gymnasium-0.26.3\r\n",
      "Successfully installed farama-notifications-0.0.4 gymnasium-0.28.1 jax-jumpy-1.0.0\r\n",
      "\u001b[33mWARNING: Running pip as the 'root' user can result in broken permissions and conflicting behaviour with the system package manager. It is recommended to use a virtual environment instead: https://pip.pypa.io/warnings/venv\u001b[0m\u001b[33m\r\n",
      "\u001b[0m"
     ]
    }
   ],
   "source": [
    "!pip install gymnasium --upgrade"
   ]
  },
  {
   "cell_type": "markdown",
   "id": "95ae0903",
   "metadata": {
    "id": "3RnxNXdzYCAW",
    "papermill": {
     "duration": 0.01279,
     "end_time": "2023-05-21T16:13:17.988191",
     "exception": false,
     "start_time": "2023-05-21T16:13:17.975401",
     "status": "completed"
    },
    "tags": []
   },
   "source": [
    "__Frameworks__ - we'll accept this homework in any deep learning framework. This particular notebook was designed for PyTorch, but you find it easy to adapt it to almost any Python-based deep learning framework."
   ]
  },
  {
   "cell_type": "code",
   "execution_count": 3,
   "id": "f4e1c5ad",
   "metadata": {
    "execution": {
     "iopub.execute_input": "2023-05-21T16:13:18.016310Z",
     "iopub.status.busy": "2023-05-21T16:13:18.014781Z",
     "iopub.status.idle": "2023-05-21T16:13:21.998996Z",
     "shell.execute_reply": "2023-05-21T16:13:21.997992Z"
    },
    "id": "e5mGHYPHYCAY",
    "papermill": {
     "duration": 4.000375,
     "end_time": "2023-05-21T16:13:22.001327",
     "exception": false,
     "start_time": "2023-05-21T16:13:18.000952",
     "status": "completed"
    },
    "tags": []
   },
   "outputs": [
    {
     "name": "stderr",
     "output_type": "stream",
     "text": [
      "/opt/conda/lib/python3.10/site-packages/scipy/__init__.py:146: UserWarning: A NumPy version >=1.16.5 and <1.23.0 is required for this version of SciPy (detected version 1.23.5\n",
      "  warnings.warn(f\"A NumPy version >={np_minversion} and <{np_maxversion}\"\n"
     ]
    }
   ],
   "source": [
    "import random\n",
    "import numpy as np\n",
    "import torch\n",
    "import utils"
   ]
  },
  {
   "cell_type": "code",
   "execution_count": 4,
   "id": "01ed13b0",
   "metadata": {
    "execution": {
     "iopub.execute_input": "2023-05-21T16:13:22.029382Z",
     "iopub.status.busy": "2023-05-21T16:13:22.028328Z",
     "iopub.status.idle": "2023-05-21T16:13:22.287703Z",
     "shell.execute_reply": "2023-05-21T16:13:22.286794Z"
    },
    "id": "II4B2fSlYCAa",
    "papermill": {
     "duration": 0.275494,
     "end_time": "2023-05-21T16:13:22.290006",
     "exception": false,
     "start_time": "2023-05-21T16:13:22.014512",
     "status": "completed"
    },
    "tags": []
   },
   "outputs": [],
   "source": [
    "import gymnasium as gym\n",
    "import numpy as np\n",
    "import matplotlib.pyplot as plt\n",
    "%matplotlib inline"
   ]
  },
  {
   "cell_type": "markdown",
   "id": "c9691b33",
   "metadata": {
    "id": "XNjOztmsYCAb",
    "papermill": {
     "duration": 0.01244,
     "end_time": "2023-05-21T16:13:22.315368",
     "exception": false,
     "start_time": "2023-05-21T16:13:22.302928",
     "status": "completed"
    },
    "tags": []
   },
   "source": [
    "### CartPole again\n",
    "\n",
    "Another env can be used without any modification of the code. State space should be a single vector, actions should be discrete.\n",
    "\n",
    "CartPole is the simplest one. It should take several minutes to solve it.\n",
    "\n",
    "For LunarLander it can take 1-2 hours to get 200 points (a good score) on Colab and training progress does not look informative."
   ]
  },
  {
   "cell_type": "code",
   "execution_count": 5,
   "id": "43f52b48",
   "metadata": {
    "execution": {
     "iopub.execute_input": "2023-05-21T16:13:22.342452Z",
     "iopub.status.busy": "2023-05-21T16:13:22.341573Z",
     "iopub.status.idle": "2023-05-21T16:13:22.346609Z",
     "shell.execute_reply": "2023-05-21T16:13:22.345789Z"
    },
    "id": "wArZzjpuYCAc",
    "papermill": {
     "duration": 0.020612,
     "end_time": "2023-05-21T16:13:22.348696",
     "exception": false,
     "start_time": "2023-05-21T16:13:22.328084",
     "status": "completed"
    },
    "tags": []
   },
   "outputs": [],
   "source": [
    "ENV_NAME = 'Acrobot-v1' # THIS IS A DEFAULT ENV FOR DEBUG\n",
    "# YOUR GOAL IS TO SOLV Acrobot-v1\n",
    "\n",
    "def make_env(seed=None):\n",
    "    env = gym.make(ENV_NAME)\n",
    "    # if seed is not None:\n",
    "        # env.seed(seed)\n",
    "    return env"
   ]
  },
  {
   "cell_type": "code",
   "execution_count": 6,
   "id": "0a0ec645",
   "metadata": {
    "execution": {
     "iopub.execute_input": "2023-05-21T16:13:22.375516Z",
     "iopub.status.busy": "2023-05-21T16:13:22.375255Z",
     "iopub.status.idle": "2023-05-21T16:13:22.383637Z",
     "shell.execute_reply": "2023-05-21T16:13:22.382845Z"
    },
    "id": "VuycxTwvYCAs",
    "papermill": {
     "duration": 0.024571,
     "end_time": "2023-05-21T16:13:22.385742",
     "exception": false,
     "start_time": "2023-05-21T16:13:22.361171",
     "status": "completed"
    },
    "tags": []
   },
   "outputs": [],
   "source": [
    "env = make_env(ENV_NAME)\n",
    "env.reset()\n",
    "n_actions = env.action_space.n\n",
    "state_shape= env.observation_space.shape\n",
    "\n",
    "env.close()"
   ]
  },
  {
   "cell_type": "markdown",
   "id": "b6ce2a3f",
   "metadata": {
    "id": "ynzwwqcjYCAy",
    "papermill": {
     "duration": 0.012343,
     "end_time": "2023-05-21T16:13:22.410521",
     "exception": false,
     "start_time": "2023-05-21T16:13:22.398178",
     "status": "completed"
    },
    "tags": []
   },
   "source": [
    "### Building a network"
   ]
  },
  {
   "cell_type": "markdown",
   "id": "d889bb87",
   "metadata": {
    "id": "ymMQ4J05YCA1",
    "papermill": {
     "duration": 0.012243,
     "end_time": "2023-05-21T16:13:22.435175",
     "exception": false,
     "start_time": "2023-05-21T16:13:22.422932",
     "status": "completed"
    },
    "tags": []
   },
   "source": [
    "We now need to build a neural network that can map observations to state q-values.\n",
    "The model does not have to be huge yet. 1-2 hidden layers with < 200 neurons and ReLU activation will probably be enough. Batch normalization and dropout can spoil everything here."
   ]
  },
  {
   "cell_type": "code",
   "execution_count": 7,
   "id": "d39b65d9",
   "metadata": {
    "execution": {
     "iopub.execute_input": "2023-05-21T16:13:22.461541Z",
     "iopub.status.busy": "2023-05-21T16:13:22.460760Z",
     "iopub.status.idle": "2023-05-21T16:13:22.527031Z",
     "shell.execute_reply": "2023-05-21T16:13:22.526173Z"
    },
    "id": "GknykcfjYCA3",
    "outputId": "0c8b276c-34b4-4cce-cee0-95482d077375",
    "papermill": {
     "duration": 0.081384,
     "end_time": "2023-05-21T16:13:22.528923",
     "exception": false,
     "start_time": "2023-05-21T16:13:22.447539",
     "status": "completed"
    },
    "tags": []
   },
   "outputs": [
    {
     "data": {
      "text/plain": [
       "device(type='cuda')"
      ]
     },
     "execution_count": 7,
     "metadata": {},
     "output_type": "execute_result"
    }
   ],
   "source": [
    "import torch\n",
    "import torch.nn as nn\n",
    "device = torch.device('cuda' if torch.cuda.is_available() else 'cpu')\n",
    "# those who have a GPU but feel unfair to use it can uncomment:\n",
    "# device = torch.device('cpu')\n",
    "device"
   ]
  },
  {
   "cell_type": "code",
   "execution_count": 8,
   "id": "b55688aa",
   "metadata": {
    "execution": {
     "iopub.execute_input": "2023-05-21T16:13:22.555424Z",
     "iopub.status.busy": "2023-05-21T16:13:22.555130Z",
     "iopub.status.idle": "2023-05-21T16:13:22.567317Z",
     "shell.execute_reply": "2023-05-21T16:13:22.566520Z"
    },
    "id": "HkPIvfMbYCA5",
    "papermill": {
     "duration": 0.027733,
     "end_time": "2023-05-21T16:13:22.569290",
     "exception": false,
     "start_time": "2023-05-21T16:13:22.541557",
     "status": "completed"
    },
    "tags": []
   },
   "outputs": [],
   "source": [
    "class DQNAgent(nn.Module):\n",
    "    def __init__(self, state_shape, n_actions, epsilon=0):\n",
    "\n",
    "        super().__init__()\n",
    "        self.epsilon = epsilon\n",
    "        self.n_actions = n_actions\n",
    "        self.state_shape = state_shape\n",
    "        # Define your network body here. Please make sure agent is fully contained here\n",
    "        assert len(state_shape) == 1\n",
    "        state_dim = state_shape[0]\n",
    "        self.model = nn.Sequential(\n",
    "            nn.Linear(state_dim, 64),\n",
    "            nn.ReLU(),\n",
    "            nn.Linear(64,64),\n",
    "            nn.ReLU(),\n",
    "            nn.Linear(64, n_actions)\n",
    "        )\n",
    "\n",
    "        \n",
    "    def forward(self, state_t):\n",
    "        \"\"\"\n",
    "        takes agent's observation (tensor), returns qvalues (tensor)\n",
    "        :param state_t: a batch states, shape = [batch_size, *state_dim=4]\n",
    "        \"\"\"\n",
    "        # Use your network to compute qvalues for given state\n",
    "        qvalues = self.model(state_t)\n",
    "\n",
    "        assert qvalues.requires_grad, \"qvalues must be a torch tensor with grad\"\n",
    "        assert (\n",
    "            len(qvalues.shape) == 2 and \n",
    "            qvalues.shape[0] == state_t.shape[0] and \n",
    "            qvalues.shape[1] == n_actions\n",
    "        )\n",
    "\n",
    "        return qvalues\n",
    "\n",
    "    def get_qvalues(self, states):\n",
    "        \"\"\"\n",
    "        like forward, but works on numpy arrays, not tensors\n",
    "        \"\"\"\n",
    "        model_device = next(self.parameters()).device\n",
    "        states = torch.tensor(states, device=model_device, dtype=torch.float32)\n",
    "        qvalues = self.forward(states)\n",
    "        return qvalues.data.cpu().numpy()\n",
    "\n",
    "    def sample_actions(self, qvalues):\n",
    "        \"\"\"pick actions given qvalues. Uses epsilon-greedy exploration strategy. \"\"\"\n",
    "        epsilon = self.epsilon\n",
    "        batch_size, n_actions = qvalues.shape\n",
    "\n",
    "        random_actions = np.random.choice(n_actions, size=batch_size)\n",
    "        best_actions = qvalues.argmax(axis=-1)\n",
    "\n",
    "        should_explore = np.random.choice(\n",
    "            [0, 1], batch_size, p=[1-epsilon, epsilon])\n",
    "        return np.where(should_explore, random_actions, best_actions)"
   ]
  },
  {
   "cell_type": "code",
   "execution_count": 9,
   "id": "df90de7f",
   "metadata": {
    "execution": {
     "iopub.execute_input": "2023-05-21T16:13:22.596266Z",
     "iopub.status.busy": "2023-05-21T16:13:22.595474Z",
     "iopub.status.idle": "2023-05-21T16:13:25.346384Z",
     "shell.execute_reply": "2023-05-21T16:13:25.345443Z"
    },
    "id": "NkMtfoO7YCA6",
    "papermill": {
     "duration": 2.766847,
     "end_time": "2023-05-21T16:13:25.348786",
     "exception": false,
     "start_time": "2023-05-21T16:13:22.581939",
     "status": "completed"
    },
    "tags": []
   },
   "outputs": [],
   "source": [
    "agent = DQNAgent(state_shape, n_actions, epsilon=0.5).to(device)"
   ]
  },
  {
   "cell_type": "markdown",
   "id": "f561e40c",
   "metadata": {
    "id": "jR9ky8D_YCA7",
    "papermill": {
     "duration": 0.012782,
     "end_time": "2023-05-21T16:13:25.374670",
     "exception": false,
     "start_time": "2023-05-21T16:13:25.361888",
     "status": "completed"
    },
    "tags": []
   },
   "source": [
    "Now let's try out our agent to see if it raises any errors."
   ]
  },
  {
   "cell_type": "code",
   "execution_count": 10,
   "id": "8ba60942",
   "metadata": {
    "execution": {
     "iopub.execute_input": "2023-05-21T16:13:25.402033Z",
     "iopub.status.busy": "2023-05-21T16:13:25.400817Z",
     "iopub.status.idle": "2023-05-21T16:13:25.408246Z",
     "shell.execute_reply": "2023-05-21T16:13:25.407445Z"
    },
    "id": "MQPYzuOFYCA8",
    "papermill": {
     "duration": 0.02299,
     "end_time": "2023-05-21T16:13:25.410179",
     "exception": false,
     "start_time": "2023-05-21T16:13:25.387189",
     "status": "completed"
    },
    "tags": []
   },
   "outputs": [],
   "source": [
    "def evaluate(env, agent, n_games=1, greedy=False, t_max=10000):\n",
    "    \"\"\" Plays n_games full games. If greedy, picks actions as argmax(qvalues). Returns mean reward. \"\"\"\n",
    "    rewards = []\n",
    "    for _ in range(n_games):\n",
    "        s = env.reset()[0]\n",
    "        reward = 0\n",
    "        for _ in range(t_max):\n",
    "            qvalues = agent.get_qvalues([s])\n",
    "            action = qvalues.argmax(axis=-1)[0] if greedy else agent.sample_actions(qvalues)[0]\n",
    "            s, r, done, _, _ = env.step(action)\n",
    "            reward += r\n",
    "            if done:\n",
    "                break\n",
    "\n",
    "        rewards.append(reward)\n",
    "    return np.mean(rewards)"
   ]
  },
  {
   "cell_type": "code",
   "execution_count": 11,
   "id": "6746fe50",
   "metadata": {
    "execution": {
     "iopub.execute_input": "2023-05-21T16:13:25.436596Z",
     "iopub.status.busy": "2023-05-21T16:13:25.436106Z",
     "iopub.status.idle": "2023-05-21T16:13:25.442179Z",
     "shell.execute_reply": "2023-05-21T16:13:25.441377Z"
    },
    "id": "xfr1O8FVllss",
    "outputId": "fa94faa9-3ba7-4a70-eb73-bfd5f09d133e",
    "papermill": {
     "duration": 0.021253,
     "end_time": "2023-05-21T16:13:25.444033",
     "exception": false,
     "start_time": "2023-05-21T16:13:25.422780",
     "status": "completed"
    },
    "tags": []
   },
   "outputs": [
    {
     "data": {
      "text/plain": [
       "(array([ 0.9959557 ,  0.08984578,  0.9988179 ,  0.04860851,  0.05690567,\n",
       "        -0.05817323], dtype=float32),\n",
       " {})"
      ]
     },
     "execution_count": 11,
     "metadata": {},
     "output_type": "execute_result"
    }
   ],
   "source": [
    "env.reset()"
   ]
  },
  {
   "cell_type": "code",
   "execution_count": 12,
   "id": "856f416a",
   "metadata": {
    "execution": {
     "iopub.execute_input": "2023-05-21T16:13:25.471198Z",
     "iopub.status.busy": "2023-05-21T16:13:25.470462Z",
     "iopub.status.idle": "2023-05-21T16:13:25.476979Z",
     "shell.execute_reply": "2023-05-21T16:13:25.476054Z"
    },
    "id": "SoznSKlDlvYN",
    "outputId": "9f140ada-e05d-43a6-a344-9ee369e35982",
    "papermill": {
     "duration": 0.021857,
     "end_time": "2023-05-21T16:13:25.478885",
     "exception": false,
     "start_time": "2023-05-21T16:13:25.457028",
     "status": "completed"
    },
    "tags": []
   },
   "outputs": [
    {
     "data": {
      "text/plain": [
       "(array([ 0.995882  ,  0.09065899,  0.9991579 ,  0.04102992, -0.04902551,\n",
       "        -0.01642537], dtype=float32),\n",
       " -1.0,\n",
       " False,\n",
       " False,\n",
       " {})"
      ]
     },
     "execution_count": 12,
     "metadata": {},
     "output_type": "execute_result"
    }
   ],
   "source": [
    "env.step(1)"
   ]
  },
  {
   "cell_type": "code",
   "execution_count": 13,
   "id": "03a94197",
   "metadata": {
    "execution": {
     "iopub.execute_input": "2023-05-21T16:13:25.506195Z",
     "iopub.status.busy": "2023-05-21T16:13:25.505467Z",
     "iopub.status.idle": "2023-05-21T16:13:27.385045Z",
     "shell.execute_reply": "2023-05-21T16:13:27.384095Z"
    },
    "id": "6NwkM5n8YCA8",
    "outputId": "9261e1ac-07b0-414d-ae4c-e467dcb24037",
    "papermill": {
     "duration": 1.895952,
     "end_time": "2023-05-21T16:13:27.387667",
     "exception": false,
     "start_time": "2023-05-21T16:13:25.491715",
     "status": "completed"
    },
    "tags": []
   },
   "outputs": [
    {
     "name": "stderr",
     "output_type": "stream",
     "text": [
      "/tmp/ipykernel_23/3299810071.py:42: UserWarning: Creating a tensor from a list of numpy.ndarrays is extremely slow. Please consider converting the list to a single numpy.ndarray with numpy.array() before converting to a tensor. (Triggered internally at /usr/local/src/pytorch/torch/csrc/utils/tensor_new.cpp:245.)\n",
      "  states = torch.tensor(states, device=model_device, dtype=torch.float32)\n"
     ]
    },
    {
     "data": {
      "text/plain": [
       "-677.0"
      ]
     },
     "execution_count": 13,
     "metadata": {},
     "output_type": "execute_result"
    }
   ],
   "source": [
    "evaluate(env, agent, n_games=1)"
   ]
  },
  {
   "cell_type": "markdown",
   "id": "1784422b",
   "metadata": {
    "id": "6Zsyy4eoYCA9",
    "papermill": {
     "duration": 0.012994,
     "end_time": "2023-05-21T16:13:27.414754",
     "exception": false,
     "start_time": "2023-05-21T16:13:27.401760",
     "status": "completed"
    },
    "tags": []
   },
   "source": [
    "### Experience replay\n",
    "For this assignment, we provide you with experience replay buffer. If you implemented experience replay buffer in last week's assignment, you can copy-paste it here in main notebook **to get 2 bonus points**.\n",
    "\n",
    "![img](https://github.com/yandexdataschool/Practical_RL/raw/master/yet_another_week/_resource/exp_replay.png)"
   ]
  },
  {
   "cell_type": "markdown",
   "id": "e407876b",
   "metadata": {
    "id": "klIugzNSYCBA",
    "papermill": {
     "duration": 0.012838,
     "end_time": "2023-05-21T16:13:27.440668",
     "exception": false,
     "start_time": "2023-05-21T16:13:27.427830",
     "status": "completed"
    },
    "tags": []
   },
   "source": [
    "#### The interface is fairly simple:\n",
    "* `exp_replay.add(obs, act, rw, next_obs, done)` - saves (s,a,r,s',done) tuple into the buffer\n",
    "* `exp_replay.sample(batch_size)` - returns observations, actions, rewards, next_observations and is_done for `batch_size` random samples.\n",
    "* `len(exp_replay)` - returns number of elements stored in replay buffer."
   ]
  },
  {
   "cell_type": "code",
   "execution_count": 14,
   "id": "edefabf7",
   "metadata": {
    "execution": {
     "iopub.execute_input": "2023-05-21T16:13:27.468185Z",
     "iopub.status.busy": "2023-05-21T16:13:27.467890Z",
     "iopub.status.idle": "2023-05-21T16:13:27.476901Z",
     "shell.execute_reply": "2023-05-21T16:13:27.476088Z"
    },
    "id": "WxyZA4JTYCBI",
    "papermill": {
     "duration": 0.024897,
     "end_time": "2023-05-21T16:13:27.478824",
     "exception": false,
     "start_time": "2023-05-21T16:13:27.453927",
     "status": "completed"
    },
    "tags": []
   },
   "outputs": [],
   "source": [
    "from replay_buffer import ReplayBuffer\n",
    "exp_replay = ReplayBuffer(10)\n",
    "\n",
    "for _ in range(30):\n",
    "    exp_replay.add(env.reset()[0], env.action_space.sample(), 1.0, env.reset()[0], done=False)\n",
    "\n",
    "obs_batch, act_batch, reward_batch, next_obs_batch, is_done_batch = exp_replay.sample(5)\n",
    "\n",
    "assert len(exp_replay) == 10, \"experience replay size should be 10 because that's what maximum capacity is\""
   ]
  },
  {
   "cell_type": "code",
   "execution_count": 15,
   "id": "561d1a25",
   "metadata": {
    "execution": {
     "iopub.execute_input": "2023-05-21T16:13:27.506629Z",
     "iopub.status.busy": "2023-05-21T16:13:27.505823Z",
     "iopub.status.idle": "2023-05-21T16:13:27.512697Z",
     "shell.execute_reply": "2023-05-21T16:13:27.511899Z"
    },
    "id": "wArmrRUsYCBK",
    "papermill": {
     "duration": 0.022831,
     "end_time": "2023-05-21T16:13:27.514599",
     "exception": false,
     "start_time": "2023-05-21T16:13:27.491768",
     "status": "completed"
    },
    "tags": []
   },
   "outputs": [],
   "source": [
    "def play_and_record(initial_state, agent, env, exp_replay, n_steps=1):\n",
    "    \"\"\"\n",
    "    Play the game for exactly n_steps, record every (s,a,r,s', done) to replay buffer. \n",
    "    Whenever game ends, add record with done=True and reset the game.\n",
    "    It is guaranteed that env has done=False when passed to this function.\n",
    "\n",
    "    PLEASE DO NOT RESET ENV UNLESS IT IS \"DONE\"\n",
    "\n",
    "    :returns: return sum of rewards over time and the state in which the env stays\n",
    "    \"\"\"\n",
    "    s = initial_state\n",
    "    sum_rewards = 0\n",
    "\n",
    "    # Play the game for n_steps as per instructions above\n",
    "    for i in range(n_steps):\n",
    "        a = agent.sample_actions(agent.get_qvalues([s]))[0]\n",
    "        new_s, r, done, _, _ = env.step(a)\n",
    "        exp_replay.add(s, a, r, new_s, done)\n",
    "        sum_rewards += r\n",
    "        if done:\n",
    "            s, _ = env.reset()\n",
    "        else:\n",
    "            s = new_s\n",
    "    return sum_rewards, s"
   ]
  },
  {
   "cell_type": "code",
   "execution_count": 16,
   "id": "1ee6fe01",
   "metadata": {
    "execution": {
     "iopub.execute_input": "2023-05-21T16:13:27.542102Z",
     "iopub.status.busy": "2023-05-21T16:13:27.541375Z",
     "iopub.status.idle": "2023-05-21T16:13:28.182814Z",
     "shell.execute_reply": "2023-05-21T16:13:28.181874Z"
    },
    "id": "ZxB-L1yaYCBL",
    "outputId": "ffc23c66-ef03-4ad6-aaee-440695b2b330",
    "papermill": {
     "duration": 0.657219,
     "end_time": "2023-05-21T16:13:28.184823",
     "exception": false,
     "start_time": "2023-05-21T16:13:27.527604",
     "status": "completed"
    },
    "tags": []
   },
   "outputs": [
    {
     "name": "stdout",
     "output_type": "stream",
     "text": [
      "Well done!\n"
     ]
    }
   ],
   "source": [
    "# testing your code.\n",
    "exp_replay = ReplayBuffer(2000)\n",
    "\n",
    "state, _ = env.reset()\n",
    "play_and_record(state, agent, env, exp_replay, n_steps=1000)\n",
    "\n",
    "# if you're using your own experience replay buffer, some of those tests may need correction.\n",
    "# just make sure you know what your code does\n",
    "assert len(exp_replay) == 1000, \\\n",
    "    \"play_and_record should have added exactly 1000 steps, \" \\\n",
    "    \"but instead added %i\" % len(exp_replay)\n",
    "is_dones = list(zip(*exp_replay._storage))[-1]\n",
    "\n",
    "# assert 0 < np.mean(is_dones) < 0.1, \\\n",
    "#     \"Please make sure you restart the game whenever it is 'done' and \" \\\n",
    "#     \"record the is_done correctly into the buffer. Got %f is_done rate over \" \\\n",
    "#     \"%i steps. [If you think it's your tough luck, just re-run the test]\" % (\n",
    "#         np.mean(is_dones), len(exp_replay))\n",
    "\n",
    "for _ in range(100):\n",
    "    obs_batch, act_batch, reward_batch, next_obs_batch, is_done_batch = exp_replay.sample(10)\n",
    "    assert obs_batch.shape == next_obs_batch.shape == (10,) + state_shape\n",
    "    assert act_batch.shape == (10,), \\\n",
    "        \"actions batch should have shape (10,) but is instead %s\" % str(act_batch.shape)\n",
    "    assert reward_batch.shape == (10,), \\\n",
    "        \"rewards batch should have shape (10,) but is instead %s\" % str(reward_batch.shape)\n",
    "    assert is_done_batch.shape == (10,), \\\n",
    "        \"is_done batch should have shape (10,) but is instead %s\" % str(is_done_batch.shape)\n",
    "    assert [int(i) in (0, 1) for i in is_dones], \\\n",
    "        \"is_done should be strictly True or False\"\n",
    "    assert [0 <= a < n_actions for a in act_batch], \"actions should be within [0, n_actions)\"\n",
    "\n",
    "print(\"Well done!\")"
   ]
  },
  {
   "cell_type": "markdown",
   "id": "03bcdda1",
   "metadata": {
    "id": "aT4bWKuUYCBM",
    "papermill": {
     "duration": 0.01304,
     "end_time": "2023-05-21T16:13:28.211230",
     "exception": false,
     "start_time": "2023-05-21T16:13:28.198190",
     "status": "completed"
    },
    "tags": []
   },
   "source": [
    "### Target networks\n",
    "\n",
    "We also employ the so called \"target network\" - a copy of neural network weights to be used for reference Q-values:\n",
    "\n",
    "The network itself is an exact copy of agent network, but it's parameters are not trained. Instead, they are moved here from agent's actual network every so often.\n",
    "\n",
    "$$ Q_{reference}(s,a) = r + \\gamma \\cdot \\max _{a'} Q_{target}(s',a') $$\n",
    "\n",
    "![img](https://github.com/yandexdataschool/Practical_RL/raw/master/yet_another_week/_resource/target_net.png)"
   ]
  },
  {
   "cell_type": "code",
   "execution_count": 17,
   "id": "8eb06d55",
   "metadata": {
    "execution": {
     "iopub.execute_input": "2023-05-21T16:13:28.238659Z",
     "iopub.status.busy": "2023-05-21T16:13:28.238104Z",
     "iopub.status.idle": "2023-05-21T16:13:28.247986Z",
     "shell.execute_reply": "2023-05-21T16:13:28.247024Z"
    },
    "id": "vQ5hL1qYYCBN",
    "outputId": "0d378727-3ad0-472e-b45e-097a4643c88f",
    "papermill": {
     "duration": 0.025732,
     "end_time": "2023-05-21T16:13:28.249956",
     "exception": false,
     "start_time": "2023-05-21T16:13:28.224224",
     "status": "completed"
    },
    "tags": []
   },
   "outputs": [
    {
     "data": {
      "text/plain": [
       "<All keys matched successfully>"
      ]
     },
     "execution_count": 17,
     "metadata": {},
     "output_type": "execute_result"
    }
   ],
   "source": [
    "target_network = DQNAgent(agent.state_shape, agent.n_actions, epsilon=0.5).to(device)\n",
    "# This is how you can load weights from agent into target network\n",
    "target_network.load_state_dict(agent.state_dict())"
   ]
  },
  {
   "cell_type": "markdown",
   "id": "cfb5921b",
   "metadata": {
    "id": "67N6h9ehYCBN",
    "papermill": {
     "duration": 0.012971,
     "end_time": "2023-05-21T16:13:28.276156",
     "exception": false,
     "start_time": "2023-05-21T16:13:28.263185",
     "status": "completed"
    },
    "tags": []
   },
   "source": [
    "### Learning with... Q-learning\n",
    "Here we write a function similar to `agent.update` from tabular q-learning."
   ]
  },
  {
   "cell_type": "markdown",
   "id": "f04c6842",
   "metadata": {
    "id": "qsSjmdhwYCBN",
    "papermill": {
     "duration": 0.013022,
     "end_time": "2023-05-21T16:13:28.302308",
     "exception": false,
     "start_time": "2023-05-21T16:13:28.289286",
     "status": "completed"
    },
    "tags": []
   },
   "source": [
    "Compute Q-learning TD error:\n",
    "\n",
    "$$ L = { 1 \\over N} \\sum_i [ Q_{\\theta}(s,a) - Q_{reference}(s,a) ] ^2 $$\n",
    "\n",
    "With Q-reference defined as\n",
    "\n",
    "$$ Q_{reference}(s,a) = r(s,a) + \\gamma \\cdot max_{a'} Q_{target}(s', a') $$\n",
    "\n",
    "Where\n",
    "* $Q_{target}(s',a')$ denotes Q-value of next state and next action predicted by __target_network__\n",
    "* $s, a, r, s'$ are current state, action, reward and next state respectively\n",
    "* $\\gamma$ is a discount factor defined two cells above.\n",
    "\n",
    "\n",
    "__Note 1:__ there's an example input below. Feel free to experiment with it before you write the function.\n",
    "\n",
    "__Note 2:__ compute_td_loss is a source of 99% of bugs in this homework. If reward doesn't improve, it often helps to go through it line by line [with a rubber duck](https://rubberduckdebugging.com/)."
   ]
  },
  {
   "cell_type": "code",
   "execution_count": 18,
   "id": "78391b84",
   "metadata": {
    "execution": {
     "iopub.execute_input": "2023-05-21T16:13:28.330159Z",
     "iopub.status.busy": "2023-05-21T16:13:28.329869Z",
     "iopub.status.idle": "2023-05-21T16:13:28.340059Z",
     "shell.execute_reply": "2023-05-21T16:13:28.339255Z"
    },
    "id": "YjyhJUlTYCBO",
    "papermill": {
     "duration": 0.026467,
     "end_time": "2023-05-21T16:13:28.341972",
     "exception": false,
     "start_time": "2023-05-21T16:13:28.315505",
     "status": "completed"
    },
    "tags": []
   },
   "outputs": [],
   "source": [
    "def compute_td_loss(states, actions, rewards, next_states, is_done,\n",
    "                    agent, target_network,\n",
    "                    gamma=0.99,\n",
    "                    check_shapes=False,\n",
    "                    device=device):\n",
    "    \"\"\" Compute td loss using torch operations only. Use the formulae above. \"\"\"\n",
    "    states = torch.tensor(states, device=device, dtype=torch.float32)    # shape: [batch_size, *state_shape]\n",
    "    actions = torch.tensor(actions, device=device, dtype=torch.int64)    # shape: [batch_size]\n",
    "    rewards = torch.tensor(rewards, device=device, dtype=torch.float32)  # shape: [batch_size]\n",
    "    # shape: [batch_size, *state_shape]\n",
    "    next_states = torch.tensor(next_states, device=device, dtype=torch.float)\n",
    "    is_done = torch.tensor(\n",
    "        is_done.astype('float32'),\n",
    "        device=device,\n",
    "        dtype=torch.float32,\n",
    "    )  # shape: [batch_size]\n",
    "    is_not_done = 1 - is_done\n",
    "\n",
    "    # get q-values for all actions in current states\n",
    "    predicted_qvalues = agent(states) # YOUR CODE HERE  # shape: [batch_size, n_actions]\n",
    "\n",
    "    # compute q-values for all actions in next states\n",
    "    predicted_next_qvalues = target_network(next_states) # YOUR CODE HERE  # shape: [batch_size, n_actions]\n",
    "    \n",
    "    # select q-values for chosen actions\n",
    "    predicted_qvalues_for_actions = predicted_qvalues[range(states.shape[0]), actions] # YOUR CODE HERE  # shape: [batch_size]\n",
    "\n",
    "    # compute V*(next_states) using predicted next q-values\n",
    "    next_state_values = predicted_next_qvalues.max(-1)[0] # YOUR CODE HERE\n",
    "\n",
    "    assert next_state_values.dim() == 1 and next_state_values.shape[0] == states.shape[0], \\\n",
    "        \"must predict one value per state\"\n",
    "\n",
    "    # compute \"target q-values\" for loss - it's what's inside square parentheses in the above formula.\n",
    "    # at the last state use the simplified formula: Q(s,a) = r(s,a) since s' doesn't exist\n",
    "    # you can multiply next state values by is_not_done to achieve this.\n",
    "    target_qvalues_for_actions = rewards + gamma * next_state_values * is_not_done# YOUR CODE HERE\n",
    "\n",
    "    # mean squared error loss to minimize\n",
    "    loss = torch.mean((predicted_qvalues_for_actions - target_qvalues_for_actions.detach()) ** 2) # YOUR CODE HERE\n",
    "\n",
    "    if check_shapes:\n",
    "        assert predicted_next_qvalues.data.dim() == 2, \\\n",
    "            \"make sure you predicted q-values for all actions in next state\"\n",
    "        assert next_state_values.data.dim() == 1, \\\n",
    "            \"make sure you computed V(s') as maximum over just the actions axis and not all axes\"\n",
    "        assert target_qvalues_for_actions.data.dim() == 1, \\\n",
    "            \"there's something wrong with target q-values, they must be a vector\"\n",
    "\n",
    "    return loss"
   ]
  },
  {
   "cell_type": "markdown",
   "id": "f5ebb1e7",
   "metadata": {
    "id": "4o1p4eJlYCBQ",
    "papermill": {
     "duration": 0.012954,
     "end_time": "2023-05-21T16:13:28.368035",
     "exception": false,
     "start_time": "2023-05-21T16:13:28.355081",
     "status": "completed"
    },
    "tags": []
   },
   "source": [
    "Sanity checks"
   ]
  },
  {
   "cell_type": "code",
   "execution_count": 19,
   "id": "c9ef1e28",
   "metadata": {
    "execution": {
     "iopub.execute_input": "2023-05-21T16:13:28.395691Z",
     "iopub.status.busy": "2023-05-21T16:13:28.395167Z",
     "iopub.status.idle": "2023-05-21T16:13:28.471276Z",
     "shell.execute_reply": "2023-05-21T16:13:28.470484Z"
    },
    "id": "ki5Fz1UaYCBR",
    "papermill": {
     "duration": 0.091933,
     "end_time": "2023-05-21T16:13:28.473153",
     "exception": false,
     "start_time": "2023-05-21T16:13:28.381220",
     "status": "completed"
    },
    "tags": []
   },
   "outputs": [],
   "source": [
    "obs_batch, act_batch, reward_batch, next_obs_batch, is_done_batch = exp_replay.sample(10)\n",
    "\n",
    "loss = compute_td_loss(obs_batch, act_batch, reward_batch, next_obs_batch, is_done_batch,\n",
    "                       agent, target_network,\n",
    "                       gamma=0.99, check_shapes=True)\n",
    "loss.backward()\n",
    "\n",
    "assert loss.requires_grad and tuple(loss.data.size()) == (), \\\n",
    "    \"you must return scalar loss - mean over batch\"\n",
    "assert np.any(next(agent.parameters()).grad.data.cpu().numpy() != 0), \\\n",
    "    \"loss must be differentiable w.r.t. network weights\"\n",
    "assert np.all(next(target_network.parameters()).grad is None), \\\n",
    "    \"target network should not have grads\""
   ]
  },
  {
   "cell_type": "markdown",
   "id": "ae17c4c4",
   "metadata": {
    "id": "2e2e-29eYCBR",
    "papermill": {
     "duration": 0.013034,
     "end_time": "2023-05-21T16:13:28.499349",
     "exception": false,
     "start_time": "2023-05-21T16:13:28.486315",
     "status": "completed"
    },
    "tags": []
   },
   "source": [
    "### Main loop\n",
    "\n",
    "It's time to put everything together and see if it learns anything."
   ]
  },
  {
   "cell_type": "code",
   "execution_count": 20,
   "id": "130c17a5",
   "metadata": {
    "execution": {
     "iopub.execute_input": "2023-05-21T16:13:28.527429Z",
     "iopub.status.busy": "2023-05-21T16:13:28.526692Z",
     "iopub.status.idle": "2023-05-21T16:13:28.530943Z",
     "shell.execute_reply": "2023-05-21T16:13:28.530053Z"
    },
    "id": "8p1OpKnAYCBS",
    "papermill": {
     "duration": 0.020156,
     "end_time": "2023-05-21T16:13:28.532865",
     "exception": false,
     "start_time": "2023-05-21T16:13:28.512709",
     "status": "completed"
    },
    "tags": []
   },
   "outputs": [],
   "source": [
    "from tqdm import trange\n",
    "from IPython.display import clear_output\n",
    "import matplotlib.pyplot as plt"
   ]
  },
  {
   "cell_type": "code",
   "execution_count": 21,
   "id": "b78e5eff",
   "metadata": {
    "execution": {
     "iopub.execute_input": "2023-05-21T16:13:28.560562Z",
     "iopub.status.busy": "2023-05-21T16:13:28.559851Z",
     "iopub.status.idle": "2023-05-21T16:13:28.568448Z",
     "shell.execute_reply": "2023-05-21T16:13:28.567557Z"
    },
    "id": "wePgNyLDYCBT",
    "outputId": "a058cd97-638f-470c-ea85-cb7da801a457",
    "papermill": {
     "duration": 0.024364,
     "end_time": "2023-05-21T16:13:28.570354",
     "exception": false,
     "start_time": "2023-05-21T16:13:28.545990",
     "status": "completed"
    },
    "tags": []
   },
   "outputs": [
    {
     "data": {
      "text/plain": [
       "<torch._C.Generator at 0x7e0e6d9ac070>"
      ]
     },
     "execution_count": 21,
     "metadata": {},
     "output_type": "execute_result"
    }
   ],
   "source": [
    "seed = 42 # <YOUR CODE: your favourite random seed>\n",
    "random.seed(seed)\n",
    "np.random.seed(seed)\n",
    "torch.manual_seed(seed)"
   ]
  },
  {
   "cell_type": "code",
   "execution_count": 22,
   "id": "a2fb5df8",
   "metadata": {
    "execution": {
     "iopub.execute_input": "2023-05-21T16:13:28.598398Z",
     "iopub.status.busy": "2023-05-21T16:13:28.597693Z",
     "iopub.status.idle": "2023-05-21T16:13:28.608357Z",
     "shell.execute_reply": "2023-05-21T16:13:28.607448Z"
    },
    "id": "nGaTOCx0YCBT",
    "outputId": "ed3257fc-b20b-43ab-d245-f88a05394e87",
    "papermill": {
     "duration": 0.026585,
     "end_time": "2023-05-21T16:13:28.610255",
     "exception": false,
     "start_time": "2023-05-21T16:13:28.583670",
     "status": "completed"
    },
    "tags": []
   },
   "outputs": [
    {
     "data": {
      "text/plain": [
       "<All keys matched successfully>"
      ]
     },
     "execution_count": 22,
     "metadata": {},
     "output_type": "execute_result"
    }
   ],
   "source": [
    "env = gym.make(ENV_NAME)\n",
    "state_dim = env.observation_space.shape\n",
    "n_actions = env.action_space.n\n",
    "state, _ = env.reset()\n",
    "\n",
    "agent = DQNAgent(state_dim, n_actions, epsilon=1).to(device)\n",
    "target_network = DQNAgent(state_dim, n_actions, epsilon=1).to(device)\n",
    "target_network.load_state_dict(agent.state_dict())"
   ]
  },
  {
   "cell_type": "code",
   "execution_count": 23,
   "id": "5700250d",
   "metadata": {
    "execution": {
     "iopub.execute_input": "2023-05-21T16:13:28.638540Z",
     "iopub.status.busy": "2023-05-21T16:13:28.637843Z",
     "iopub.status.idle": "2023-05-21T16:13:35.188215Z",
     "shell.execute_reply": "2023-05-21T16:13:35.186900Z"
    },
    "id": "tHwRQ3ylYCBV",
    "outputId": "f472012e-bad3-4fa2-925a-0fa51521e6fe",
    "papermill": {
     "duration": 6.566749,
     "end_time": "2023-05-21T16:13:35.190425",
     "exception": false,
     "start_time": "2023-05-21T16:13:28.623676",
     "status": "completed"
    },
    "tags": []
   },
   "outputs": [
    {
     "name": "stdout",
     "output_type": "stream",
     "text": [
      "10000\n"
     ]
    }
   ],
   "source": [
    "REPLAY_BUFFER_SIZE = 10**4\n",
    "\n",
    "exp_replay = ReplayBuffer(REPLAY_BUFFER_SIZE)\n",
    "for i in range(100):\n",
    "    if not utils.is_enough_ram(min_available_gb=0.1):\n",
    "        print(\"\"\"\n",
    "            Less than 100 Mb RAM available. \n",
    "            Make sure the buffer size in not too huge.\n",
    "            Also check, maybe other processes consume RAM heavily.\n",
    "            \"\"\"\n",
    "             )\n",
    "        break\n",
    "    play_and_record(state, agent, env, exp_replay, n_steps=10**2)\n",
    "    if len(exp_replay) == REPLAY_BUFFER_SIZE:\n",
    "        break\n",
    "print(len(exp_replay))"
   ]
  },
  {
   "cell_type": "code",
   "execution_count": 24,
   "id": "de9863b5",
   "metadata": {
    "execution": {
     "iopub.execute_input": "2023-05-21T16:13:35.219194Z",
     "iopub.status.busy": "2023-05-21T16:13:35.218908Z",
     "iopub.status.idle": "2023-05-21T16:13:35.224441Z",
     "shell.execute_reply": "2023-05-21T16:13:35.223545Z"
    },
    "id": "Z7bgUkooYCBY",
    "papermill": {
     "duration": 0.022059,
     "end_time": "2023-05-21T16:13:35.226434",
     "exception": false,
     "start_time": "2023-05-21T16:13:35.204375",
     "status": "completed"
    },
    "tags": []
   },
   "outputs": [],
   "source": [
    "# # for something more complicated than CartPole\n",
    "\n",
    "timesteps_per_epoch = 1\n",
    "batch_size = 32\n",
    "total_steps = 3 * 10**4\n",
    "decay_steps = 1 * 10**4\n",
    "\n",
    "opt = torch.optim.Adam(agent.parameters(), lr=1e-4)\n",
    "\n",
    "init_epsilon = 1\n",
    "final_epsilon = 0.1\n",
    "\n",
    "loss_freq = 20\n",
    "refresh_target_network_freq = 100\n",
    "eval_freq = 500\n",
    "\n",
    "max_grad_norm = 5000"
   ]
  },
  {
   "cell_type": "code",
   "execution_count": 25,
   "id": "5ac9b10a",
   "metadata": {
    "execution": {
     "iopub.execute_input": "2023-05-21T16:13:35.254788Z",
     "iopub.status.busy": "2023-05-21T16:13:35.254525Z",
     "iopub.status.idle": "2023-05-21T16:13:35.258675Z",
     "shell.execute_reply": "2023-05-21T16:13:35.257740Z"
    },
    "id": "1DA_RzvyYCBa",
    "papermill": {
     "duration": 0.020474,
     "end_time": "2023-05-21T16:13:35.260621",
     "exception": false,
     "start_time": "2023-05-21T16:13:35.240147",
     "status": "completed"
    },
    "tags": []
   },
   "outputs": [],
   "source": [
    "# timesteps_per_epoch = 1\n",
    "# batch_size = 32\n",
    "# total_steps = 4 * 10**4\n",
    "# decay_steps = 1 * 10**4\n",
    "\n",
    "# opt = torch.optim.Adam(agent.parameters(), lr=1e-4)\n",
    "\n",
    "# init_epsilon = 1\n",
    "# final_epsilon = 0.1\n",
    "\n",
    "# loss_freq = 20\n",
    "# refresh_target_network_freq = 100\n",
    "# eval_freq = 200\n",
    "\n",
    "# max_grad_norm = 5000"
   ]
  },
  {
   "cell_type": "code",
   "execution_count": 26,
   "id": "2b616882",
   "metadata": {
    "execution": {
     "iopub.execute_input": "2023-05-21T16:13:35.289149Z",
     "iopub.status.busy": "2023-05-21T16:13:35.288381Z",
     "iopub.status.idle": "2023-05-21T16:13:35.293218Z",
     "shell.execute_reply": "2023-05-21T16:13:35.292406Z"
    },
    "id": "ya8xal1XYCBa",
    "papermill": {
     "duration": 0.02105,
     "end_time": "2023-05-21T16:13:35.295148",
     "exception": false,
     "start_time": "2023-05-21T16:13:35.274098",
     "status": "completed"
    },
    "tags": []
   },
   "outputs": [],
   "source": [
    "mean_rw_history = []\n",
    "td_loss_history = []\n",
    "grad_norm_history = []\n",
    "initial_state_v_history = []\n",
    "step = 0"
   ]
  },
  {
   "cell_type": "code",
   "execution_count": 27,
   "id": "6e7fa0b3",
   "metadata": {
    "execution": {
     "iopub.execute_input": "2023-05-21T16:13:35.324590Z",
     "iopub.status.busy": "2023-05-21T16:13:35.323475Z",
     "iopub.status.idle": "2023-05-21T16:13:35.328828Z",
     "shell.execute_reply": "2023-05-21T16:13:35.327925Z"
    },
    "id": "6KK7mdiuYCBc",
    "papermill": {
     "duration": 0.022148,
     "end_time": "2023-05-21T16:13:35.330679",
     "exception": false,
     "start_time": "2023-05-21T16:13:35.308531",
     "status": "completed"
    },
    "tags": []
   },
   "outputs": [],
   "source": [
    "import time\n",
    "\n",
    "def wait_for_keyboard_interrupt():\n",
    "    try:\n",
    "        while True:\n",
    "            time.sleep(1)\n",
    "    except KeyboardInterrupt:\n",
    "        pass"
   ]
  },
  {
   "cell_type": "code",
   "execution_count": 28,
   "id": "f8f5a0ff",
   "metadata": {
    "execution": {
     "iopub.execute_input": "2023-05-21T16:13:35.358747Z",
     "iopub.status.busy": "2023-05-21T16:13:35.358498Z",
     "iopub.status.idle": "2023-05-21T20:46:22.050456Z",
     "shell.execute_reply": "2023-05-21T20:46:22.046858Z"
    },
    "id": "lDhuosSOYCBc",
    "outputId": "3da4f3e5-0a75-4f16-88e8-9a8f1d22ee2d",
    "papermill": {
     "duration": 16366.708428,
     "end_time": "2023-05-21T20:46:22.052463",
     "exception": false,
     "start_time": "2023-05-21T16:13:35.344035",
     "status": "completed"
    },
    "tags": []
   },
   "outputs": [
    {
     "name": "stdout",
     "output_type": "stream",
     "text": [
      "buffer size = 10000, epsilon = 0.10000\n"
     ]
    },
    {
     "data": {
      "image/png": "[encoded data removed]",
      "text/plain": [
       "<Figure size 1600x900 with 4 Axes>"
      ]
     },
     "metadata": {},
     "output_type": "display_data"
    },
    {
     "name": "stderr",
     "output_type": "stream",
     "text": [
      "100%|██████████| 30001/30001 [4:32:46<00:00,  1.83it/s]\n"
     ]
    }
   ],
   "source": [
    "state, _ = env.reset()\n",
    "with trange(step, total_steps + 1) as progress_bar:\n",
    "    for step in progress_bar:\n",
    "        if not utils.is_enough_ram():\n",
    "            print('less that 100 Mb RAM available, freezing')\n",
    "            print('make sure everything is ok and use KeyboardInterrupt to continue')\n",
    "            wait_for_keyboard_interrupt()\n",
    "\n",
    "        agent.epsilon = utils.linear_decay(init_epsilon, final_epsilon, step, decay_steps)\n",
    "\n",
    "        # play\n",
    "        _, state = play_and_record(state, agent, env, exp_replay, timesteps_per_epoch)\n",
    "\n",
    "        # train\n",
    "        obs_batch, act_batch, reward_batch, next_obs_batch, is_done_batch = exp_replay.sample(100000)\n",
    "\n",
    "        loss = compute_td_loss(obs_batch, act_batch, reward_batch, next_obs_batch, is_done_batch,\n",
    "                              agent, target_network,\n",
    "                              gamma=0.99, check_shapes=True)\n",
    "\n",
    "\n",
    "        loss.backward()\n",
    "        grad_norm = nn.utils.clip_grad_norm_(agent.parameters(), max_grad_norm)\n",
    "        opt.step()\n",
    "        opt.zero_grad()\n",
    "\n",
    "        if step % loss_freq == 0:\n",
    "            td_loss_history.append(loss.data.cpu().item())\n",
    "            grad_norm_history.append(grad_norm.cpu().item())\n",
    "\n",
    "        if step % refresh_target_network_freq == 0:\n",
    "            # Load agent weights into target_network\n",
    "             target_network.load_state_dict(agent.state_dict())\n",
    "\n",
    "        if step % eval_freq == 0:\n",
    "            torch.save(agent.state_dict(), \"checkpoint.pt\")\n",
    "            mean_rw_history.append(evaluate(\n",
    "                make_env(seed=step), agent, n_games=3, greedy=True, t_max=1000)\n",
    "            )\n",
    "            initial_state_q_values = agent.get_qvalues(\n",
    "                [make_env(seed=step).reset()[0]]\n",
    "            )\n",
    "            initial_state_v_history.append(np.max(initial_state_q_values))\n",
    "\n",
    "            clear_output(True)\n",
    "            print(\"buffer size = %i, epsilon = %.5f\" %\n",
    "                (len(exp_replay), agent.epsilon))\n",
    "\n",
    "            plt.figure(figsize=[16, 9])\n",
    "\n",
    "            plt.subplot(2, 2, 1)\n",
    "            plt.title(\"Mean reward per episode\")\n",
    "            plt.plot(mean_rw_history)\n",
    "            plt.grid()\n",
    "\n",
    "            assert not np.isnan(td_loss_history[-1])\n",
    "            plt.subplot(2, 2, 2)\n",
    "            plt.title(\"TD loss history (smoothened)\")\n",
    "            plt.plot(utils.smoothen(td_loss_history))\n",
    "            plt.grid()\n",
    "\n",
    "            plt.subplot(2, 2, 3)\n",
    "            plt.title(\"Initial state V\")\n",
    "            plt.plot(initial_state_v_history)\n",
    "            plt.grid()\n",
    "\n",
    "            plt.subplot(2, 2, 4)\n",
    "            plt.title(\"Grad norm history (smoothened)\")\n",
    "            plt.plot(utils.smoothen(grad_norm_history))\n",
    "            plt.grid()\n",
    "\n",
    "            plt.show()"
   ]
  },
  {
   "cell_type": "code",
   "execution_count": 29,
   "id": "5132a9b4",
   "metadata": {
    "execution": {
     "iopub.execute_input": "2023-05-21T20:46:22.085245Z",
     "iopub.status.busy": "2023-05-21T20:46:22.084930Z",
     "iopub.status.idle": "2023-05-21T20:46:23.364809Z",
     "shell.execute_reply": "2023-05-21T20:46:23.363618Z"
    },
    "id": "GIs1q-reYCBd",
    "papermill": {
     "duration": 1.298602,
     "end_time": "2023-05-21T20:46:23.366973",
     "exception": false,
     "start_time": "2023-05-21T20:46:22.068371",
     "status": "completed"
    },
    "tags": []
   },
   "outputs": [
    {
     "name": "stdout",
     "output_type": "stream",
     "text": [
      "final score: -84.66666666666667\n",
      "Well done\n"
     ]
    }
   ],
   "source": [
    "final_score = evaluate(\n",
    "  make_env(),\n",
    "  agent, n_games=30, greedy=True, t_max=1000\n",
    ")\n",
    "print('final score:', final_score)\n",
    "# assert final_score > 300, 'not good enough for DQN'\n",
    "print('Well done')"
   ]
  },
  {
   "cell_type": "markdown",
   "id": "93d9fb56",
   "metadata": {
    "id": "Z_Fz_WU2YCBe",
    "papermill": {
     "duration": 0.01517,
     "end_time": "2023-05-21T20:46:23.397826",
     "exception": false,
     "start_time": "2023-05-21T20:46:23.382656",
     "status": "completed"
    },
    "tags": []
   },
   "source": [
    "**Agent's predicted V-values vs their Monte-Carlo estimates**"
   ]
  },
  {
   "cell_type": "code",
   "execution_count": 30,
   "id": "55c4eeb3",
   "metadata": {
    "execution": {
     "iopub.execute_input": "2023-05-21T20:46:23.430234Z",
     "iopub.status.busy": "2023-05-21T20:46:23.429304Z",
     "iopub.status.idle": "2023-05-21T20:46:23.500606Z",
     "shell.execute_reply": "2023-05-21T20:46:23.499717Z"
    },
    "id": "J-OWsbs8YCBe",
    "papermill": {
     "duration": 0.089631,
     "end_time": "2023-05-21T20:46:23.502592",
     "exception": false,
     "start_time": "2023-05-21T20:46:23.412961",
     "status": "completed"
    },
    "tags": []
   },
   "outputs": [
    {
     "name": "stdout",
     "output_type": "stream",
     "text": [
      "total reward for life: -117.0\n",
      "states\n",
      "v_mc\n",
      "v_agent\n",
      "q_spreads\n",
      "td_errors\n",
      "rewards\n",
      "episode_finished\n"
     ]
    }
   ],
   "source": [
    "eval_env = make_env()\n",
    "record = utils.play_and_log_episode(eval_env, agent)\n",
    "print('total reward for life:', np.sum(record['rewards']))\n",
    "for key in record:\n",
    "    print(key)"
   ]
  },
  {
   "cell_type": "code",
   "execution_count": 31,
   "id": "77b99182",
   "metadata": {
    "execution": {
     "iopub.execute_input": "2023-05-21T20:46:23.534903Z",
     "iopub.status.busy": "2023-05-21T20:46:23.534032Z",
     "iopub.status.idle": "2023-05-21T20:46:23.797078Z",
     "shell.execute_reply": "2023-05-21T20:46:23.796093Z"
    },
    "id": "8fM4gM3mYCBf",
    "papermill": {
     "duration": 0.281787,
     "end_time": "2023-05-21T20:46:23.799616",
     "exception": false,
     "start_time": "2023-05-21T20:46:23.517829",
     "status": "completed"
    },
    "tags": []
   },
   "outputs": [
    {
     "data": {
      "image/png": "[encoded data removed]",
      "text/plain": [
       "<Figure size 500x500 with 1 Axes>"
      ]
     },
     "metadata": {},
     "output_type": "display_data"
    }
   ],
   "source": [
    "fig = plt.figure(figsize=(5, 5))\n",
    "ax = fig.add_subplot(1, 1, 1)\n",
    "\n",
    "ax.scatter(record['v_mc'], record['v_agent'])\n",
    "ax.plot(sorted(record['v_mc']), sorted(record['v_mc']),\n",
    "       'black', linestyle='--', label='x=y')\n",
    "\n",
    "ax.grid()\n",
    "ax.legend()\n",
    "ax.set_title('State Value Estimates')\n",
    "ax.set_xlabel('Monte-Carlo')\n",
    "ax.set_ylabel('Agent')\n",
    "\n",
    "plt.show()"
   ]
  },
  {
   "cell_type": "code",
   "execution_count": null,
   "id": "dcb287e3",
   "metadata": {
    "id": "jjLwWvn9p_0p",
    "papermill": {
     "duration": 0.015663,
     "end_time": "2023-05-21T20:46:23.831586",
     "exception": false,
     "start_time": "2023-05-21T20:46:23.815923",
     "status": "completed"
    },
    "tags": []
   },
   "outputs": [],
   "source": []
  },
  {
   "cell_type": "code",
   "execution_count": null,
   "id": "247f9cb1",
   "metadata": {
    "papermill": {
     "duration": 0.015596,
     "end_time": "2023-05-21T20:46:23.863064",
     "exception": false,
     "start_time": "2023-05-21T20:46:23.847468",
     "status": "completed"
    },
    "tags": []
   },
   "outputs": [],
   "source": []
  }
 ],
 "metadata": {
  "kernelspec": {
   "display_name": "Python 3",
   "language": "python",
   "name": "python3"
  },
  "language_info": {
   "codemirror_mode": {
    "name": "ipython",
    "version": 3
   },
   "file_extension": ".py",
   "mimetype": "text/x-python",
   "name": "python",
   "nbconvert_exporter": "python",
   "pygments_lexer": "ipython3",
   "version": "3.10.10"
  },
  "papermill": {
   "default_parameters": {},
   "duration": 16433.501264,
   "end_time": "2023-05-21T20:46:25.551003",
   "environment_variables": {},
   "exception": null,
   "input_path": "__notebook__.ipynb",
   "output_path": "__notebook__.ipynb",
   "parameters": {},
   "start_time": "2023-05-21T16:12:32.049739",
   "version": "2.4.0"
  }
 },
 "nbformat": 4,
 "nbformat_minor": 5
}
