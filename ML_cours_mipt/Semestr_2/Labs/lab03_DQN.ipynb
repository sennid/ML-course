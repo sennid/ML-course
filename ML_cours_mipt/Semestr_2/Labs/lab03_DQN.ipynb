{
 "cells": [
  {
   "cell_type": "markdown",
   "id": "b7da3044",
   "metadata": {
    "id": "PGYjPLqXYCAH",
    "papermill": {
     "duration": 0.011969,
     "end_time": "2023-05-12T20:55:06.213553",
     "exception": false,
     "start_time": "2023-05-12T20:55:06.201584",
     "status": "completed"
    },
    "tags": []
   },
   "source": [
    "# Deep Q-Network implementation.\n",
    "\n",
    "This homework shamelessly demands you to implement DQN — an approximate Q-learning algorithm with experience replay and target networks — and see if it works any better this way.\n",
    "\n",
    "Original paper:\n",
    "https://arxiv.org/pdf/1312.5602.pdf"
   ]
  },
  {
   "cell_type": "markdown",
   "id": "b8e50d7e",
   "metadata": {
    "id": "VXqxgNy6YKR0",
    "papermill": {
     "duration": 0.010949,
     "end_time": "2023-05-12T20:55:06.235877",
     "exception": false,
     "start_time": "2023-05-12T20:55:06.224928",
     "status": "completed"
    },
    "tags": []
   },
   "source": [
    "Acknowledgements for this homework to the [Practical_RL](https://github.com/yandexdataschool/Practical_RL) course team."
   ]
  },
  {
   "cell_type": "markdown",
   "id": "213f9c44",
   "metadata": {
    "id": "ccnKDS7jYCAP",
    "papermill": {
     "duration": 0.010994,
     "end_time": "2023-05-12T20:55:06.258069",
     "exception": false,
     "start_time": "2023-05-12T20:55:06.247075",
     "status": "completed"
    },
    "tags": []
   },
   "source": [
    "**This notebook is given for debug.** The main task is to solve [`Acrobot-v1`](https://gym.openai.com/envs/Acrobot-v1/) environment. The tasks are similar and share most of the code. The main difference is in environments. In main notebook it can take some time for the agent to start improving so it seems reasonable to launch the algorithm on a simpler env first. Here it is CartPole and it will train in several minutes.\n",
    "\n",
    "**We suggest the following pipeline:** First implement debug notebook then implement the main one.\n",
    "\n",
    "**About evaluation:** All points are given for the main notebook with one exception: if agent fails to beat the threshold in main notebook you can get 1 pt (instead of 3 pts) for beating the threshold in debug notebook."
   ]
  },
  {
   "cell_type": "code",
   "execution_count": 1,
   "id": "ddc7d6e2",
   "metadata": {
    "execution": {
     "iopub.execute_input": "2023-05-12T20:55:06.282589Z",
     "iopub.status.busy": "2023-05-12T20:55:06.281824Z",
     "iopub.status.idle": "2023-05-12T20:55:30.267530Z",
     "shell.execute_reply": "2023-05-12T20:55:30.265679Z"
    },
    "id": "H14myqeSYCAR",
    "outputId": "b309bd79-6131-462c-b64d-0d505b989264",
    "papermill": {
     "duration": 24.003315,
     "end_time": "2023-05-12T20:55:30.272517",
     "exception": false,
     "start_time": "2023-05-12T20:55:06.269202",
     "status": "completed"
    },
    "tags": []
   },
   "outputs": [
    {
     "name": "stdout",
     "output_type": "stream",
     "text": [
      "bash: line 9: gdown: command not found\r\n",
      "\u001b[33mWARNING: Running pip as the 'root' user can result in broken permissions and conflicting behaviour with the system package manager. It is recommended to use a virtual environment instead: https://pip.pypa.io/warnings/venv\u001b[0m\u001b[33m\r\n",
      "\u001b[0mStarting virtual X frame buffer: Xvfb.\r\n"
     ]
    }
   ],
   "source": [
    "import sys, os\n",
    "if not os.path.exists('.setup_complete'):\n",
    "    !wget -q https://raw.githubusercontent.com/yandexdataschool/Practical_RL/master/setup_colab.sh -O- | bash\n",
    "    !wget -q https://raw.githubusercontent.com/yandexdataschool/Practical_RL/master/week04_approx_rl/atari_wrappers.py\n",
    "    !wget -q https://raw.githubusercontent.com/girafe-ai/ml-course/22s_harbour_dlia/homeworks/lab02_dqn/utils.py\n",
    "    !wget -q https://raw.githubusercontent.com/yandexdataschool/Practical_RL/master/week04_approx_rl/replay_buffer.py\n",
    "    !wget -q https://raw.githubusercontent.com/yandexdataschool/Practical_RL/master/week04_approx_rl/framebuffer.py\n",
    "\n",
    "    \n",
    "    !touch .setup_complete\n",
    "\n",
    "# This code creates a virtual display to draw game images on.\n",
    "# It will have no effect if your machine has a monitor.\n",
    "if type(os.environ.get(\"DISPLAY\")) is not str or len(os.environ.get(\"DISPLAY\")) == 0:\n",
    "    !bash ../xvfb start\n",
    "    os.environ['DISPLAY'] = ':1'"
   ]
  },
  {
   "cell_type": "code",
   "execution_count": 2,
   "id": "d79c6b72",
   "metadata": {
    "execution": {
     "iopub.execute_input": "2023-05-12T20:55:30.327259Z",
     "iopub.status.busy": "2023-05-12T20:55:30.325847Z",
     "iopub.status.idle": "2023-05-12T20:55:42.801169Z",
     "shell.execute_reply": "2023-05-12T20:55:42.800009Z"
    },
    "id": "bo9NTzXTn4Uu",
    "outputId": "a3519765-a4e3-43e0-b5b8-59f4e7adb4ec",
    "papermill": {
     "duration": 12.505142,
     "end_time": "2023-05-12T20:55:42.803662",
     "exception": false,
     "start_time": "2023-05-12T20:55:30.298520",
     "status": "completed"
    },
    "tags": []
   },
   "outputs": [
    {
     "name": "stdout",
     "output_type": "stream",
     "text": [
      "Requirement already satisfied: gymnasium in /opt/conda/lib/python3.10/site-packages (0.26.3)\r\n",
      "Collecting gymnasium\r\n",
      "  Downloading gymnasium-0.28.1-py3-none-any.whl (925 kB)\r\n",
      "\u001b[2K     \u001b[90m━━━━━━━━━━━━━━━━━━━━━━━━━━━━━━━━━━━━━━\u001b[0m \u001b[32m925.5/925.5 kB\u001b[0m \u001b[31m14.2 MB/s\u001b[0m eta \u001b[36m0:00:00\u001b[0m\r\n",
      "\u001b[?25hCollecting jax-jumpy>=1.0.0\r\n",
      "  Downloading jax_jumpy-1.0.0-py3-none-any.whl (20 kB)\r\n",
      "Collecting farama-notifications>=0.0.1\r\n",
      "  Downloading Farama_Notifications-0.0.4-py3-none-any.whl (2.5 kB)\r\n",
      "Requirement already satisfied: typing-extensions>=4.3.0 in /opt/conda/lib/python3.10/site-packages (from gymnasium) (4.5.0)\r\n",
      "Requirement already satisfied: numpy>=1.21.0 in /opt/conda/lib/python3.10/site-packages (from gymnasium) (1.23.5)\r\n",
      "Requirement already satisfied: cloudpickle>=1.2.0 in /opt/conda/lib/python3.10/site-packages (from gymnasium) (2.2.1)\r\n",
      "Installing collected packages: farama-notifications, jax-jumpy, gymnasium\r\n",
      "  Attempting uninstall: gymnasium\r\n",
      "    Found existing installation: Gymnasium 0.26.3\r\n",
      "    Uninstalling Gymnasium-0.26.3:\r\n",
      "      Successfully uninstalled Gymnasium-0.26.3\r\n",
      "Successfully installed farama-notifications-0.0.4 gymnasium-0.28.1 jax-jumpy-1.0.0\r\n",
      "\u001b[33mWARNING: Running pip as the 'root' user can result in broken permissions and conflicting behaviour with the system package manager. It is recommended to use a virtual environment instead: https://pip.pypa.io/warnings/venv\u001b[0m\u001b[33m\r\n",
      "\u001b[0m"
     ]
    }
   ],
   "source": [
    "!pip install gymnasium --upgrade"
   ]
  },
  {
   "cell_type": "markdown",
   "id": "ebca287c",
   "metadata": {
    "id": "3RnxNXdzYCAW",
    "papermill": {
     "duration": 0.012283,
     "end_time": "2023-05-12T20:55:42.828830",
     "exception": false,
     "start_time": "2023-05-12T20:55:42.816547",
     "status": "completed"
    },
    "tags": []
   },
   "source": [
    "__Frameworks__ - we'll accept this homework in any deep learning framework. This particular notebook was designed for PyTorch, but you find it easy to adapt it to almost any Python-based deep learning framework."
   ]
  },
  {
   "cell_type": "code",
   "execution_count": 3,
   "id": "43e64f4a",
   "metadata": {
    "execution": {
     "iopub.execute_input": "2023-05-12T20:55:42.855351Z",
     "iopub.status.busy": "2023-05-12T20:55:42.855023Z",
     "iopub.status.idle": "2023-05-12T20:55:46.919077Z",
     "shell.execute_reply": "2023-05-12T20:55:46.918138Z"
    },
    "id": "e5mGHYPHYCAY",
    "papermill": {
     "duration": 4.080382,
     "end_time": "2023-05-12T20:55:46.921812",
     "exception": false,
     "start_time": "2023-05-12T20:55:42.841430",
     "status": "completed"
    },
    "tags": []
   },
   "outputs": [
    {
     "name": "stderr",
     "output_type": "stream",
     "text": [
      "/opt/conda/lib/python3.10/site-packages/scipy/__init__.py:146: UserWarning: A NumPy version >=1.16.5 and <1.23.0 is required for this version of SciPy (detected version 1.23.5\n",
      "  warnings.warn(f\"A NumPy version >={np_minversion} and <{np_maxversion}\"\n"
     ]
    }
   ],
   "source": [
    "import random\n",
    "import numpy as np\n",
    "import torch\n",
    "import utils"
   ]
  },
  {
   "cell_type": "code",
   "execution_count": 4,
   "id": "afef1cdf",
   "metadata": {
    "execution": {
     "iopub.execute_input": "2023-05-12T20:55:46.950164Z",
     "iopub.status.busy": "2023-05-12T20:55:46.948413Z",
     "iopub.status.idle": "2023-05-12T20:55:47.212290Z",
     "shell.execute_reply": "2023-05-12T20:55:47.211346Z"
    },
    "id": "II4B2fSlYCAa",
    "papermill": {
     "duration": 0.280009,
     "end_time": "2023-05-12T20:55:47.214751",
     "exception": false,
     "start_time": "2023-05-12T20:55:46.934742",
     "status": "completed"
    },
    "tags": []
   },
   "outputs": [],
   "source": [
    "import gymnasium as gym\n",
    "import numpy as np\n",
    "import matplotlib.pyplot as plt\n",
    "%matplotlib inline"
   ]
  },
  {
   "cell_type": "markdown",
   "id": "dd00c1c0",
   "metadata": {
    "id": "XNjOztmsYCAb",
    "papermill": {
     "duration": 0.012431,
     "end_time": "2023-05-12T20:55:47.240043",
     "exception": false,
     "start_time": "2023-05-12T20:55:47.227612",
     "status": "completed"
    },
    "tags": []
   },
   "source": [
    "### CartPole again\n",
    "\n",
    "Another env can be used without any modification of the code. State space should be a single vector, actions should be discrete.\n",
    "\n",
    "CartPole is the simplest one. It should take several minutes to solve it.\n",
    "\n",
    "For LunarLander it can take 1-2 hours to get 200 points (a good score) on Colab and training progress does not look informative."
   ]
  },
  {
   "cell_type": "code",
   "execution_count": 5,
   "id": "83555a28",
   "metadata": {
    "execution": {
     "iopub.execute_input": "2023-05-12T20:55:47.266145Z",
     "iopub.status.busy": "2023-05-12T20:55:47.265848Z",
     "iopub.status.idle": "2023-05-12T20:55:47.270337Z",
     "shell.execute_reply": "2023-05-12T20:55:47.269461Z"
    },
    "id": "wArZzjpuYCAc",
    "papermill": {
     "duration": 0.019978,
     "end_time": "2023-05-12T20:55:47.272391",
     "exception": false,
     "start_time": "2023-05-12T20:55:47.252413",
     "status": "completed"
    },
    "tags": []
   },
   "outputs": [],
   "source": [
    "ENV_NAME = 'CartPole-v1' # THIS IS A DEFAULT ENV FOR DEBUG\n",
    "# YOUR GOAL IS TO SOLV Acrobot-v1\n",
    "\n",
    "def make_env(seed=None):\n",
    "    env = gym.make(ENV_NAME)\n",
    "    # if seed is not None:\n",
    "        # env.seed(seed)\n",
    "    return env"
   ]
  },
  {
   "cell_type": "code",
   "execution_count": 6,
   "id": "bcb5f20b",
   "metadata": {
    "execution": {
     "iopub.execute_input": "2023-05-12T20:55:47.298345Z",
     "iopub.status.busy": "2023-05-12T20:55:47.298069Z",
     "iopub.status.idle": "2023-05-12T20:55:47.307105Z",
     "shell.execute_reply": "2023-05-12T20:55:47.306249Z"
    },
    "id": "VuycxTwvYCAs",
    "papermill": {
     "duration": 0.024273,
     "end_time": "2023-05-12T20:55:47.309062",
     "exception": false,
     "start_time": "2023-05-12T20:55:47.284789",
     "status": "completed"
    },
    "tags": []
   },
   "outputs": [],
   "source": [
    "env = make_env(ENV_NAME)\n",
    "env.reset()\n",
    "n_actions = env.action_space.n\n",
    "state_shape= env.observation_space.shape\n",
    "\n",
    "env.close()"
   ]
  },
  {
   "cell_type": "markdown",
   "id": "ddcba7bd",
   "metadata": {
    "id": "ynzwwqcjYCAy",
    "papermill": {
     "duration": 0.012136,
     "end_time": "2023-05-12T20:55:47.333942",
     "exception": false,
     "start_time": "2023-05-12T20:55:47.321806",
     "status": "completed"
    },
    "tags": []
   },
   "source": [
    "### Building a network"
   ]
  },
  {
   "cell_type": "markdown",
   "id": "5c64990d",
   "metadata": {
    "id": "ymMQ4J05YCA1",
    "papermill": {
     "duration": 0.012197,
     "end_time": "2023-05-12T20:55:47.358517",
     "exception": false,
     "start_time": "2023-05-12T20:55:47.346320",
     "status": "completed"
    },
    "tags": []
   },
   "source": [
    "We now need to build a neural network that can map observations to state q-values.\n",
    "The model does not have to be huge yet. 1-2 hidden layers with < 200 neurons and ReLU activation will probably be enough. Batch normalization and dropout can spoil everything here."
   ]
  },
  {
   "cell_type": "code",
   "execution_count": 7,
   "id": "daadd8e3",
   "metadata": {
    "execution": {
     "iopub.execute_input": "2023-05-12T20:55:47.384915Z",
     "iopub.status.busy": "2023-05-12T20:55:47.384137Z",
     "iopub.status.idle": "2023-05-12T20:55:47.452579Z",
     "shell.execute_reply": "2023-05-12T20:55:47.451698Z"
    },
    "id": "GknykcfjYCA3",
    "outputId": "0c8b276c-34b4-4cce-cee0-95482d077375",
    "papermill": {
     "duration": 0.083668,
     "end_time": "2023-05-12T20:55:47.454602",
     "exception": false,
     "start_time": "2023-05-12T20:55:47.370934",
     "status": "completed"
    },
    "tags": []
   },
   "outputs": [
    {
     "data": {
      "text/plain": [
       "device(type='cuda')"
      ]
     },
     "execution_count": 7,
     "metadata": {},
     "output_type": "execute_result"
    }
   ],
   "source": [
    "import torch\n",
    "import torch.nn as nn\n",
    "device = torch.device('cuda' if torch.cuda.is_available() else 'cpu')\n",
    "# those who have a GPU but feel unfair to use it can uncomment:\n",
    "# device = torch.device('cpu')\n",
    "device"
   ]
  },
  {
   "cell_type": "code",
   "execution_count": 8,
   "id": "9e0a01e9",
   "metadata": {
    "execution": {
     "iopub.execute_input": "2023-05-12T20:55:47.481291Z",
     "iopub.status.busy": "2023-05-12T20:55:47.481006Z",
     "iopub.status.idle": "2023-05-12T20:55:47.492030Z",
     "shell.execute_reply": "2023-05-12T20:55:47.491148Z"
    },
    "id": "HkPIvfMbYCA5",
    "papermill": {
     "duration": 0.026787,
     "end_time": "2023-05-12T20:55:47.494100",
     "exception": false,
     "start_time": "2023-05-12T20:55:47.467313",
     "status": "completed"
    },
    "tags": []
   },
   "outputs": [],
   "source": [
    "class DQNAgent(nn.Module):\n",
    "    def __init__(self, state_shape, n_actions, epsilon=0):\n",
    "\n",
    "        super().__init__()\n",
    "        self.epsilon = epsilon\n",
    "        self.n_actions = n_actions\n",
    "        self.state_shape = state_shape\n",
    "        # Define your network body here. Please make sure agent is fully contained here\n",
    "        assert len(state_shape) == 1\n",
    "        state_dim = state_shape[0]\n",
    "        self.model = nn.Sequential(\n",
    "            nn.Linear(state_dim, 64),\n",
    "            nn.ReLU(),\n",
    "            nn.Linear(64,64),\n",
    "            nn.ReLU(),\n",
    "            nn.Linear(64, n_actions)\n",
    "        )\n",
    "\n",
    "        \n",
    "    def forward(self, state_t):\n",
    "        \"\"\"\n",
    "        takes agent's observation (tensor), returns qvalues (tensor)\n",
    "        :param state_t: a batch states, shape = [batch_size, *state_dim=4]\n",
    "        \"\"\"\n",
    "        # Use your network to compute qvalues for given state\n",
    "        qvalues = self.model(state_t)\n",
    "\n",
    "        assert qvalues.requires_grad, \"qvalues must be a torch tensor with grad\"\n",
    "        assert (\n",
    "            len(qvalues.shape) == 2 and \n",
    "            qvalues.shape[0] == state_t.shape[0] and \n",
    "            qvalues.shape[1] == n_actions\n",
    "        )\n",
    "\n",
    "        return qvalues\n",
    "\n",
    "    def get_qvalues(self, states):\n",
    "        \"\"\"\n",
    "        like forward, but works on numpy arrays, not tensors\n",
    "        \"\"\"\n",
    "        model_device = next(self.parameters()).device\n",
    "        states = torch.tensor(states, device=model_device, dtype=torch.float32)\n",
    "        qvalues = self.forward(states)\n",
    "        return qvalues.data.cpu().numpy()\n",
    "\n",
    "    def sample_actions(self, qvalues):\n",
    "        \"\"\"pick actions given qvalues. Uses epsilon-greedy exploration strategy. \"\"\"\n",
    "        epsilon = self.epsilon\n",
    "        batch_size, n_actions = qvalues.shape\n",
    "\n",
    "        random_actions = np.random.choice(n_actions, size=batch_size)\n",
    "        best_actions = qvalues.argmax(axis=-1)\n",
    "\n",
    "        should_explore = np.random.choice(\n",
    "            [0, 1], batch_size, p=[1-epsilon, epsilon])\n",
    "        return np.where(should_explore, random_actions, best_actions)"
   ]
  },
  {
   "cell_type": "code",
   "execution_count": 9,
   "id": "4fbc87cd",
   "metadata": {
    "execution": {
     "iopub.execute_input": "2023-05-12T20:55:47.520483Z",
     "iopub.status.busy": "2023-05-12T20:55:47.520193Z",
     "iopub.status.idle": "2023-05-12T20:55:50.493199Z",
     "shell.execute_reply": "2023-05-12T20:55:50.492208Z"
    },
    "id": "NkMtfoO7YCA6",
    "papermill": {
     "duration": 2.988681,
     "end_time": "2023-05-12T20:55:50.495543",
     "exception": false,
     "start_time": "2023-05-12T20:55:47.506862",
     "status": "completed"
    },
    "tags": []
   },
   "outputs": [],
   "source": [
    "agent = DQNAgent(state_shape, n_actions, epsilon=0.5).to(device)"
   ]
  },
  {
   "cell_type": "markdown",
   "id": "b429f913",
   "metadata": {
    "id": "jR9ky8D_YCA7",
    "papermill": {
     "duration": 0.012442,
     "end_time": "2023-05-12T20:55:50.521387",
     "exception": false,
     "start_time": "2023-05-12T20:55:50.508945",
     "status": "completed"
    },
    "tags": []
   },
   "source": [
    "Now let's try out our agent to see if it raises any errors."
   ]
  },
  {
   "cell_type": "code",
   "execution_count": 10,
   "id": "0e105e78",
   "metadata": {
    "execution": {
     "iopub.execute_input": "2023-05-12T20:55:50.548887Z",
     "iopub.status.busy": "2023-05-12T20:55:50.548042Z",
     "iopub.status.idle": "2023-05-12T20:55:50.555243Z",
     "shell.execute_reply": "2023-05-12T20:55:50.554412Z"
    },
    "id": "MQPYzuOFYCA8",
    "papermill": {
     "duration": 0.02321,
     "end_time": "2023-05-12T20:55:50.557386",
     "exception": false,
     "start_time": "2023-05-12T20:55:50.534176",
     "status": "completed"
    },
    "tags": []
   },
   "outputs": [],
   "source": [
    "def evaluate(env, agent, n_games=1, greedy=False, t_max=10000):\n",
    "    \"\"\" Plays n_games full games. If greedy, picks actions as argmax(qvalues). Returns mean reward. \"\"\"\n",
    "    rewards = []\n",
    "    for _ in range(n_games):\n",
    "        s = env.reset()[0]\n",
    "        reward = 0\n",
    "        for _ in range(t_max):\n",
    "            qvalues = agent.get_qvalues([s])\n",
    "            action = qvalues.argmax(axis=-1)[0] if greedy else agent.sample_actions(qvalues)[0]\n",
    "            s, r, done, _, _ = env.step(action)\n",
    "            reward += r\n",
    "            if done:\n",
    "                break\n",
    "\n",
    "        rewards.append(reward)\n",
    "    return np.mean(rewards)"
   ]
  },
  {
   "cell_type": "code",
   "execution_count": 11,
   "id": "8bd5e935",
   "metadata": {
    "execution": {
     "iopub.execute_input": "2023-05-12T20:55:50.584582Z",
     "iopub.status.busy": "2023-05-12T20:55:50.583845Z",
     "iopub.status.idle": "2023-05-12T20:55:50.590648Z",
     "shell.execute_reply": "2023-05-12T20:55:50.589731Z"
    },
    "id": "xfr1O8FVllss",
    "outputId": "fa94faa9-3ba7-4a70-eb73-bfd5f09d133e",
    "papermill": {
     "duration": 0.022294,
     "end_time": "2023-05-12T20:55:50.592590",
     "exception": false,
     "start_time": "2023-05-12T20:55:50.570296",
     "status": "completed"
    },
    "tags": []
   },
   "outputs": [
    {
     "data": {
      "text/plain": [
       "(array([ 0.02970868,  0.04879314,  0.04884893, -0.01132626], dtype=float32),\n",
       " {})"
      ]
     },
     "execution_count": 11,
     "metadata": {},
     "output_type": "execute_result"
    }
   ],
   "source": [
    "env.reset()"
   ]
  },
  {
   "cell_type": "code",
   "execution_count": 12,
   "id": "c71e08b9",
   "metadata": {
    "execution": {
     "iopub.execute_input": "2023-05-12T20:55:50.619832Z",
     "iopub.status.busy": "2023-05-12T20:55:50.619109Z",
     "iopub.status.idle": "2023-05-12T20:55:50.626493Z",
     "shell.execute_reply": "2023-05-12T20:55:50.625619Z"
    },
    "id": "SoznSKlDlvYN",
    "outputId": "9f140ada-e05d-43a6-a344-9ee369e35982",
    "papermill": {
     "duration": 0.022902,
     "end_time": "2023-05-12T20:55:50.628409",
     "exception": false,
     "start_time": "2023-05-12T20:55:50.605507",
     "status": "completed"
    },
    "tags": []
   },
   "outputs": [
    {
     "data": {
      "text/plain": [
       "(array([ 0.03068454,  0.24318174,  0.04862241, -0.28820544], dtype=float32),\n",
       " 1.0,\n",
       " False,\n",
       " False,\n",
       " {})"
      ]
     },
     "execution_count": 12,
     "metadata": {},
     "output_type": "execute_result"
    }
   ],
   "source": [
    "env.step(1)"
   ]
  },
  {
   "cell_type": "code",
   "execution_count": 13,
   "id": "e3ce75e8",
   "metadata": {
    "execution": {
     "iopub.execute_input": "2023-05-12T20:55:50.655871Z",
     "iopub.status.busy": "2023-05-12T20:55:50.655080Z",
     "iopub.status.idle": "2023-05-12T20:55:52.053346Z",
     "shell.execute_reply": "2023-05-12T20:55:52.052412Z"
    },
    "id": "6NwkM5n8YCA8",
    "outputId": "9261e1ac-07b0-414d-ae4c-e467dcb24037",
    "papermill": {
     "duration": 1.414293,
     "end_time": "2023-05-12T20:55:52.055696",
     "exception": false,
     "start_time": "2023-05-12T20:55:50.641403",
     "status": "completed"
    },
    "tags": []
   },
   "outputs": [
    {
     "name": "stderr",
     "output_type": "stream",
     "text": [
      "/tmp/ipykernel_23/3299810071.py:42: UserWarning: Creating a tensor from a list of numpy.ndarrays is extremely slow. Please consider converting the list to a single numpy.ndarray with numpy.array() before converting to a tensor. (Triggered internally at /usr/local/src/pytorch/torch/csrc/utils/tensor_new.cpp:245.)\n",
      "  states = torch.tensor(states, device=model_device, dtype=torch.float32)\n"
     ]
    },
    {
     "data": {
      "text/plain": [
       "13.0"
      ]
     },
     "execution_count": 13,
     "metadata": {},
     "output_type": "execute_result"
    }
   ],
   "source": [
    "evaluate(env, agent, n_games=1)"
   ]
  },
  {
   "cell_type": "markdown",
   "id": "b59e1a94",
   "metadata": {
    "id": "6Zsyy4eoYCA9",
    "papermill": {
     "duration": 0.013026,
     "end_time": "2023-05-12T20:55:52.082354",
     "exception": false,
     "start_time": "2023-05-12T20:55:52.069328",
     "status": "completed"
    },
    "tags": []
   },
   "source": [
    "### Experience replay\n",
    "For this assignment, we provide you with experience replay buffer. If you implemented experience replay buffer in last week's assignment, you can copy-paste it here in main notebook **to get 2 bonus points**.\n",
    "\n",
    "![img](https://github.com/yandexdataschool/Practical_RL/raw/master/yet_another_week/_resource/exp_replay.png)"
   ]
  },
  {
   "cell_type": "markdown",
   "id": "eb9e296b",
   "metadata": {
    "id": "klIugzNSYCBA",
    "papermill": {
     "duration": 0.012888,
     "end_time": "2023-05-12T20:55:52.108230",
     "exception": false,
     "start_time": "2023-05-12T20:55:52.095342",
     "status": "completed"
    },
    "tags": []
   },
   "source": [
    "#### The interface is fairly simple:\n",
    "* `exp_replay.add(obs, act, rw, next_obs, done)` - saves (s,a,r,s',done) tuple into the buffer\n",
    "* `exp_replay.sample(batch_size)` - returns observations, actions, rewards, next_observations and is_done for `batch_size` random samples.\n",
    "* `len(exp_replay)` - returns number of elements stored in replay buffer."
   ]
  },
  {
   "cell_type": "code",
   "execution_count": 14,
   "id": "b569c912",
   "metadata": {
    "execution": {
     "iopub.execute_input": "2023-05-12T20:55:52.136011Z",
     "iopub.status.busy": "2023-05-12T20:55:52.135227Z",
     "iopub.status.idle": "2023-05-12T20:55:52.143709Z",
     "shell.execute_reply": "2023-05-12T20:55:52.142904Z"
    },
    "id": "WxyZA4JTYCBI",
    "papermill": {
     "duration": 0.024541,
     "end_time": "2023-05-12T20:55:52.145695",
     "exception": false,
     "start_time": "2023-05-12T20:55:52.121154",
     "status": "completed"
    },
    "tags": []
   },
   "outputs": [],
   "source": [
    "from replay_buffer import ReplayBuffer\n",
    "exp_replay = ReplayBuffer(10)\n",
    "\n",
    "for _ in range(30):\n",
    "    exp_replay.add(env.reset()[0], env.action_space.sample(), 1.0, env.reset()[0], done=False)\n",
    "\n",
    "obs_batch, act_batch, reward_batch, next_obs_batch, is_done_batch = exp_replay.sample(5)\n",
    "\n",
    "assert len(exp_replay) == 10, \"experience replay size should be 10 because that's what maximum capacity is\""
   ]
  },
  {
   "cell_type": "code",
   "execution_count": 15,
   "id": "f18e09ec",
   "metadata": {
    "execution": {
     "iopub.execute_input": "2023-05-12T20:55:52.173540Z",
     "iopub.status.busy": "2023-05-12T20:55:52.172792Z",
     "iopub.status.idle": "2023-05-12T20:55:52.179487Z",
     "shell.execute_reply": "2023-05-12T20:55:52.178699Z"
    },
    "id": "wArmrRUsYCBK",
    "papermill": {
     "duration": 0.023002,
     "end_time": "2023-05-12T20:55:52.181753",
     "exception": false,
     "start_time": "2023-05-12T20:55:52.158751",
     "status": "completed"
    },
    "tags": []
   },
   "outputs": [],
   "source": [
    "def play_and_record(initial_state, agent, env, exp_replay, n_steps=1):\n",
    "    \"\"\"\n",
    "    Play the game for exactly n_steps, record every (s,a,r,s', done) to replay buffer. \n",
    "    Whenever game ends, add record with done=True and reset the game.\n",
    "    It is guaranteed that env has done=False when passed to this function.\n",
    "\n",
    "    PLEASE DO NOT RESET ENV UNLESS IT IS \"DONE\"\n",
    "\n",
    "    :returns: return sum of rewards over time and the state in which the env stays\n",
    "    \"\"\"\n",
    "    s = initial_state\n",
    "    sum_rewards = 0\n",
    "\n",
    "    # Play the game for n_steps as per instructions above\n",
    "    for i in range(n_steps):\n",
    "        a = agent.sample_actions(agent.get_qvalues([s]))[0]\n",
    "        new_s, r, done, _, _ = env.step(a)\n",
    "        exp_replay.add(s, a, r, new_s, done)\n",
    "        sum_rewards += r\n",
    "        if done:\n",
    "            s, _ = env.reset()\n",
    "        else:\n",
    "            s = new_s\n",
    "    return sum_rewards, s"
   ]
  },
  {
   "cell_type": "code",
   "execution_count": 16,
   "id": "8c9e98ad",
   "metadata": {
    "execution": {
     "iopub.execute_input": "2023-05-12T20:55:52.209809Z",
     "iopub.status.busy": "2023-05-12T20:55:52.209075Z",
     "iopub.status.idle": "2023-05-12T20:55:52.745206Z",
     "shell.execute_reply": "2023-05-12T20:55:52.743893Z"
    },
    "id": "ZxB-L1yaYCBL",
    "outputId": "ffc23c66-ef03-4ad6-aaee-440695b2b330",
    "papermill": {
     "duration": 0.552868,
     "end_time": "2023-05-12T20:55:52.747984",
     "exception": false,
     "start_time": "2023-05-12T20:55:52.195116",
     "status": "completed"
    },
    "tags": []
   },
   "outputs": [
    {
     "name": "stdout",
     "output_type": "stream",
     "text": [
      "Well done!\n"
     ]
    }
   ],
   "source": [
    "# testing your code.\n",
    "exp_replay = ReplayBuffer(2000)\n",
    "\n",
    "state, _ = env.reset()\n",
    "play_and_record(state, agent, env, exp_replay, n_steps=1000)\n",
    "\n",
    "# if you're using your own experience replay buffer, some of those tests may need correction.\n",
    "# just make sure you know what your code does\n",
    "assert len(exp_replay) == 1000, \\\n",
    "    \"play_and_record should have added exactly 1000 steps, \" \\\n",
    "    \"but instead added %i\" % len(exp_replay)\n",
    "is_dones = list(zip(*exp_replay._storage))[-1]\n",
    "\n",
    "assert 0 < np.mean(is_dones) < 0.1, \\\n",
    "    \"Please make sure you restart the game whenever it is 'done' and \" \\\n",
    "    \"record the is_done correctly into the buffer. Got %f is_done rate over \" \\\n",
    "    \"%i steps. [If you think it's your tough luck, just re-run the test]\" % (\n",
    "        np.mean(is_dones), len(exp_replay))\n",
    "\n",
    "for _ in range(100):\n",
    "    obs_batch, act_batch, reward_batch, next_obs_batch, is_done_batch = exp_replay.sample(10)\n",
    "    assert obs_batch.shape == next_obs_batch.shape == (10,) + state_shape\n",
    "    assert act_batch.shape == (10,), \\\n",
    "        \"actions batch should have shape (10,) but is instead %s\" % str(act_batch.shape)\n",
    "    assert reward_batch.shape == (10,), \\\n",
    "        \"rewards batch should have shape (10,) but is instead %s\" % str(reward_batch.shape)\n",
    "    assert is_done_batch.shape == (10,), \\\n",
    "        \"is_done batch should have shape (10,) but is instead %s\" % str(is_done_batch.shape)\n",
    "    assert [int(i) in (0, 1) for i in is_dones], \\\n",
    "        \"is_done should be strictly True or False\"\n",
    "    assert [0 <= a < n_actions for a in act_batch], \"actions should be within [0, n_actions)\"\n",
    "\n",
    "print(\"Well done!\")"
   ]
  },
  {
   "cell_type": "markdown",
   "id": "f56fc439",
   "metadata": {
    "id": "aT4bWKuUYCBM",
    "papermill": {
     "duration": 0.013131,
     "end_time": "2023-05-12T20:55:52.774622",
     "exception": false,
     "start_time": "2023-05-12T20:55:52.761491",
     "status": "completed"
    },
    "tags": []
   },
   "source": [
    "### Target networks\n",
    "\n",
    "We also employ the so called \"target network\" - a copy of neural network weights to be used for reference Q-values:\n",
    "\n",
    "The network itself is an exact copy of agent network, but it's parameters are not trained. Instead, they are moved here from agent's actual network every so often.\n",
    "\n",
    "$$ Q_{reference}(s,a) = r + \\gamma \\cdot \\max _{a'} Q_{target}(s',a') $$\n",
    "\n",
    "![img](https://github.com/yandexdataschool/Practical_RL/raw/master/yet_another_week/_resource/target_net.png)"
   ]
  },
  {
   "cell_type": "code",
   "execution_count": 17,
   "id": "6d0acb25",
   "metadata": {
    "execution": {
     "iopub.execute_input": "2023-05-12T20:55:52.802721Z",
     "iopub.status.busy": "2023-05-12T20:55:52.801841Z",
     "iopub.status.idle": "2023-05-12T20:55:52.810913Z",
     "shell.execute_reply": "2023-05-12T20:55:52.809965Z"
    },
    "id": "vQ5hL1qYYCBN",
    "outputId": "0d378727-3ad0-472e-b45e-097a4643c88f",
    "papermill": {
     "duration": 0.024902,
     "end_time": "2023-05-12T20:55:52.812805",
     "exception": false,
     "start_time": "2023-05-12T20:55:52.787903",
     "status": "completed"
    },
    "tags": []
   },
   "outputs": [
    {
     "data": {
      "text/plain": [
       "<All keys matched successfully>"
      ]
     },
     "execution_count": 17,
     "metadata": {},
     "output_type": "execute_result"
    }
   ],
   "source": [
    "target_network = DQNAgent(agent.state_shape, agent.n_actions, epsilon=0.5).to(device)\n",
    "# This is how you can load weights from agent into target network\n",
    "target_network.load_state_dict(agent.state_dict())"
   ]
  },
  {
   "cell_type": "markdown",
   "id": "0783bf3e",
   "metadata": {
    "id": "67N6h9ehYCBN",
    "papermill": {
     "duration": 0.012902,
     "end_time": "2023-05-12T20:55:52.839058",
     "exception": false,
     "start_time": "2023-05-12T20:55:52.826156",
     "status": "completed"
    },
    "tags": []
   },
   "source": [
    "### Learning with... Q-learning\n",
    "Here we write a function similar to `agent.update` from tabular q-learning."
   ]
  },
  {
   "cell_type": "markdown",
   "id": "3ebe5dba",
   "metadata": {
    "id": "qsSjmdhwYCBN",
    "papermill": {
     "duration": 0.013081,
     "end_time": "2023-05-12T20:55:52.865663",
     "exception": false,
     "start_time": "2023-05-12T20:55:52.852582",
     "status": "completed"
    },
    "tags": []
   },
   "source": [
    "Compute Q-learning TD error:\n",
    "\n",
    "$$ L = { 1 \\over N} \\sum_i [ Q_{\\theta}(s,a) - Q_{reference}(s,a) ] ^2 $$\n",
    "\n",
    "With Q-reference defined as\n",
    "\n",
    "$$ Q_{reference}(s,a) = r(s,a) + \\gamma \\cdot max_{a'} Q_{target}(s', a') $$\n",
    "\n",
    "Where\n",
    "* $Q_{target}(s',a')$ denotes Q-value of next state and next action predicted by __target_network__\n",
    "* $s, a, r, s'$ are current state, action, reward and next state respectively\n",
    "* $\\gamma$ is a discount factor defined two cells above.\n",
    "\n",
    "\n",
    "__Note 1:__ there's an example input below. Feel free to experiment with it before you write the function.\n",
    "\n",
    "__Note 2:__ compute_td_loss is a source of 99% of bugs in this homework. If reward doesn't improve, it often helps to go through it line by line [with a rubber duck](https://rubberduckdebugging.com/)."
   ]
  },
  {
   "cell_type": "code",
   "execution_count": 18,
   "id": "68fbb4fc",
   "metadata": {
    "execution": {
     "iopub.execute_input": "2023-05-12T20:55:52.893599Z",
     "iopub.status.busy": "2023-05-12T20:55:52.893258Z",
     "iopub.status.idle": "2023-05-12T20:55:52.903464Z",
     "shell.execute_reply": "2023-05-12T20:55:52.902657Z"
    },
    "id": "YjyhJUlTYCBO",
    "papermill": {
     "duration": 0.027066,
     "end_time": "2023-05-12T20:55:52.905818",
     "exception": false,
     "start_time": "2023-05-12T20:55:52.878752",
     "status": "completed"
    },
    "tags": []
   },
   "outputs": [],
   "source": [
    "def compute_td_loss(states, actions, rewards, next_states, is_done,\n",
    "                    agent, target_network,\n",
    "                    gamma=0.99,\n",
    "                    check_shapes=False,\n",
    "                    device=device):\n",
    "    \"\"\" Compute td loss using torch operations only. Use the formulae above. \"\"\"\n",
    "    states = torch.tensor(states, device=device, dtype=torch.float32)    # shape: [batch_size, *state_shape]\n",
    "    actions = torch.tensor(actions, device=device, dtype=torch.int64)    # shape: [batch_size]\n",
    "    rewards = torch.tensor(rewards, device=device, dtype=torch.float32)  # shape: [batch_size]\n",
    "    # shape: [batch_size, *state_shape]\n",
    "    next_states = torch.tensor(next_states, device=device, dtype=torch.float)\n",
    "    is_done = torch.tensor(\n",
    "        is_done.astype('float32'),\n",
    "        device=device,\n",
    "        dtype=torch.float32,\n",
    "    )  # shape: [batch_size]\n",
    "    is_not_done = 1 - is_done\n",
    "\n",
    "    # get q-values for all actions in current states\n",
    "    predicted_qvalues = agent(states) # YOUR CODE HERE  # shape: [batch_size, n_actions]\n",
    "\n",
    "    # compute q-values for all actions in next states\n",
    "    predicted_next_qvalues = target_network(next_states) # YOUR CODE HERE  # shape: [batch_size, n_actions]\n",
    "    \n",
    "    # select q-values for chosen actions\n",
    "    predicted_qvalues_for_actions = predicted_qvalues[range(states.shape[0]), actions] # YOUR CODE HERE  # shape: [batch_size]\n",
    "\n",
    "    # compute V*(next_states) using predicted next q-values\n",
    "    next_state_values = predicted_next_qvalues.max(-1)[0] # YOUR CODE HERE\n",
    "\n",
    "    assert next_state_values.dim() == 1 and next_state_values.shape[0] == states.shape[0], \\\n",
    "        \"must predict one value per state\"\n",
    "\n",
    "    # compute \"target q-values\" for loss - it's what's inside square parentheses in the above formula.\n",
    "    # at the last state use the simplified formula: Q(s,a) = r(s,a) since s' doesn't exist\n",
    "    # you can multiply next state values by is_not_done to achieve this.\n",
    "    target_qvalues_for_actions = rewards + gamma * next_state_values * is_not_done# YOUR CODE HERE\n",
    "\n",
    "    # mean squared error loss to minimize\n",
    "    loss = torch.mean((predicted_qvalues_for_actions - target_qvalues_for_actions.detach()) ** 2) # YOUR CODE HERE\n",
    "\n",
    "    if check_shapes:\n",
    "        assert predicted_next_qvalues.data.dim() == 2, \\\n",
    "            \"make sure you predicted q-values for all actions in next state\"\n",
    "        assert next_state_values.data.dim() == 1, \\\n",
    "            \"make sure you computed V(s') as maximum over just the actions axis and not all axes\"\n",
    "        assert target_qvalues_for_actions.data.dim() == 1, \\\n",
    "            \"there's something wrong with target q-values, they must be a vector\"\n",
    "\n",
    "    return loss"
   ]
  },
  {
   "cell_type": "markdown",
   "id": "5b8c4cea",
   "metadata": {
    "id": "4o1p4eJlYCBQ",
    "papermill": {
     "duration": 0.013057,
     "end_time": "2023-05-12T20:55:52.932024",
     "exception": false,
     "start_time": "2023-05-12T20:55:52.918967",
     "status": "completed"
    },
    "tags": []
   },
   "source": [
    "Sanity checks"
   ]
  },
  {
   "cell_type": "code",
   "execution_count": 19,
   "id": "174e1245",
   "metadata": {
    "execution": {
     "iopub.execute_input": "2023-05-12T20:55:52.959630Z",
     "iopub.status.busy": "2023-05-12T20:55:52.959355Z",
     "iopub.status.idle": "2023-05-12T20:55:53.038394Z",
     "shell.execute_reply": "2023-05-12T20:55:53.037584Z"
    },
    "id": "ki5Fz1UaYCBR",
    "papermill": {
     "duration": 0.094994,
     "end_time": "2023-05-12T20:55:53.040506",
     "exception": false,
     "start_time": "2023-05-12T20:55:52.945512",
     "status": "completed"
    },
    "tags": []
   },
   "outputs": [],
   "source": [
    "obs_batch, act_batch, reward_batch, next_obs_batch, is_done_batch = exp_replay.sample(10)\n",
    "\n",
    "loss = compute_td_loss(obs_batch, act_batch, reward_batch, next_obs_batch, is_done_batch,\n",
    "                       agent, target_network,\n",
    "                       gamma=0.99, check_shapes=True)\n",
    "loss.backward()\n",
    "\n",
    "assert loss.requires_grad and tuple(loss.data.size()) == (), \\\n",
    "    \"you must return scalar loss - mean over batch\"\n",
    "assert np.any(next(agent.parameters()).grad.data.cpu().numpy() != 0), \\\n",
    "    \"loss must be differentiable w.r.t. network weights\"\n",
    "assert np.all(next(target_network.parameters()).grad is None), \\\n",
    "    \"target network should not have grads\""
   ]
  },
  {
   "cell_type": "markdown",
   "id": "78e0d6cf",
   "metadata": {
    "id": "2e2e-29eYCBR",
    "papermill": {
     "duration": 0.013235,
     "end_time": "2023-05-12T20:55:53.067153",
     "exception": false,
     "start_time": "2023-05-12T20:55:53.053918",
     "status": "completed"
    },
    "tags": []
   },
   "source": [
    "### Main loop\n",
    "\n",
    "It's time to put everything together and see if it learns anything."
   ]
  },
  {
   "cell_type": "code",
   "execution_count": 20,
   "id": "6d04a9b7",
   "metadata": {
    "execution": {
     "iopub.execute_input": "2023-05-12T20:55:53.095299Z",
     "iopub.status.busy": "2023-05-12T20:55:53.094418Z",
     "iopub.status.idle": "2023-05-12T20:55:53.099126Z",
     "shell.execute_reply": "2023-05-12T20:55:53.098323Z"
    },
    "id": "8p1OpKnAYCBS",
    "papermill": {
     "duration": 0.021098,
     "end_time": "2023-05-12T20:55:53.101353",
     "exception": false,
     "start_time": "2023-05-12T20:55:53.080255",
     "status": "completed"
    },
    "tags": []
   },
   "outputs": [],
   "source": [
    "from tqdm import trange\n",
    "from IPython.display import clear_output\n",
    "import matplotlib.pyplot as plt"
   ]
  },
  {
   "cell_type": "code",
   "execution_count": 21,
   "id": "2be1c7ff",
   "metadata": {
    "execution": {
     "iopub.execute_input": "2023-05-12T20:55:53.129257Z",
     "iopub.status.busy": "2023-05-12T20:55:53.128949Z",
     "iopub.status.idle": "2023-05-12T20:55:53.137191Z",
     "shell.execute_reply": "2023-05-12T20:55:53.136061Z"
    },
    "id": "wePgNyLDYCBT",
    "outputId": "a058cd97-638f-470c-ea85-cb7da801a457",
    "papermill": {
     "duration": 0.024663,
     "end_time": "2023-05-12T20:55:53.139232",
     "exception": false,
     "start_time": "2023-05-12T20:55:53.114569",
     "status": "completed"
    },
    "tags": []
   },
   "outputs": [
    {
     "data": {
      "text/plain": [
       "<torch._C.Generator at 0x7e951bdcdc10>"
      ]
     },
     "execution_count": 21,
     "metadata": {},
     "output_type": "execute_result"
    }
   ],
   "source": [
    "seed = 42 # <YOUR CODE: your favourite random seed>\n",
    "random.seed(seed)\n",
    "np.random.seed(seed)\n",
    "torch.manual_seed(seed)"
   ]
  },
  {
   "cell_type": "code",
   "execution_count": 22,
   "id": "d3ac92c7",
   "metadata": {
    "execution": {
     "iopub.execute_input": "2023-05-12T20:55:53.168320Z",
     "iopub.status.busy": "2023-05-12T20:55:53.167445Z",
     "iopub.status.idle": "2023-05-12T20:55:53.179803Z",
     "shell.execute_reply": "2023-05-12T20:55:53.178590Z"
    },
    "id": "nGaTOCx0YCBT",
    "outputId": "ed3257fc-b20b-43ab-d245-f88a05394e87",
    "papermill": {
     "duration": 0.029268,
     "end_time": "2023-05-12T20:55:53.182086",
     "exception": false,
     "start_time": "2023-05-12T20:55:53.152818",
     "status": "completed"
    },
    "tags": []
   },
   "outputs": [
    {
     "data": {
      "text/plain": [
       "<All keys matched successfully>"
      ]
     },
     "execution_count": 22,
     "metadata": {},
     "output_type": "execute_result"
    }
   ],
   "source": [
    "env = gym.make(ENV_NAME)\n",
    "state_dim = env.observation_space.shape\n",
    "n_actions = env.action_space.n\n",
    "state, _ = env.reset()\n",
    "\n",
    "agent = DQNAgent(state_dim, n_actions, epsilon=1).to(device)\n",
    "target_network = DQNAgent(state_dim, n_actions, epsilon=1).to(device)\n",
    "target_network.load_state_dict(agent.state_dict())"
   ]
  },
  {
   "cell_type": "code",
   "execution_count": 23,
   "id": "c8f918a2",
   "metadata": {
    "execution": {
     "iopub.execute_input": "2023-05-12T20:55:53.211277Z",
     "iopub.status.busy": "2023-05-12T20:55:53.210953Z",
     "iopub.status.idle": "2023-05-12T20:55:58.046634Z",
     "shell.execute_reply": "2023-05-12T20:55:58.045320Z"
    },
    "id": "tHwRQ3ylYCBV",
    "outputId": "f472012e-bad3-4fa2-925a-0fa51521e6fe",
    "papermill": {
     "duration": 4.853334,
     "end_time": "2023-05-12T20:55:58.049455",
     "exception": false,
     "start_time": "2023-05-12T20:55:53.196121",
     "status": "completed"
    },
    "tags": []
   },
   "outputs": [
    {
     "name": "stdout",
     "output_type": "stream",
     "text": [
      "10000\n"
     ]
    }
   ],
   "source": [
    "REPLAY_BUFFER_SIZE = 10**4\n",
    "\n",
    "exp_replay = ReplayBuffer(REPLAY_BUFFER_SIZE)\n",
    "for i in range(100):\n",
    "    if not utils.is_enough_ram(min_available_gb=0.1):\n",
    "        print(\"\"\"\n",
    "            Less than 100 Mb RAM available. \n",
    "            Make sure the buffer size in not too huge.\n",
    "            Also check, maybe other processes consume RAM heavily.\n",
    "            \"\"\"\n",
    "             )\n",
    "        break\n",
    "    play_and_record(state, agent, env, exp_replay, n_steps=10**2)\n",
    "    if len(exp_replay) == REPLAY_BUFFER_SIZE:\n",
    "        break\n",
    "print(len(exp_replay))"
   ]
  },
  {
   "cell_type": "code",
   "execution_count": 24,
   "id": "861d5cf3",
   "metadata": {
    "execution": {
     "iopub.execute_input": "2023-05-12T20:55:58.079042Z",
     "iopub.status.busy": "2023-05-12T20:55:58.078757Z",
     "iopub.status.idle": "2023-05-12T20:55:58.083318Z",
     "shell.execute_reply": "2023-05-12T20:55:58.082299Z"
    },
    "id": "Z7bgUkooYCBY",
    "papermill": {
     "duration": 0.02138,
     "end_time": "2023-05-12T20:55:58.085584",
     "exception": false,
     "start_time": "2023-05-12T20:55:58.064204",
     "status": "completed"
    },
    "tags": []
   },
   "outputs": [],
   "source": [
    "# # for something more complicated than CartPole\n",
    "\n",
    "# timesteps_per_epoch = 1\n",
    "# batch_size = 32\n",
    "# total_steps = 3 * 10**6\n",
    "# decay_steps = 1 * 10**6\n",
    "\n",
    "# opt = torch.optim.Adam(agent.parameters(), lr=1e-4)\n",
    "\n",
    "# init_epsilon = 1\n",
    "# final_epsilon = 0.1\n",
    "\n",
    "# loss_freq = 20\n",
    "# refresh_target_network_freq = 1000\n",
    "# eval_freq = 5000\n",
    "\n",
    "# max_grad_norm = 5000"
   ]
  },
  {
   "cell_type": "code",
   "execution_count": 25,
   "id": "1ce812ce",
   "metadata": {
    "execution": {
     "iopub.execute_input": "2023-05-12T20:55:58.114199Z",
     "iopub.status.busy": "2023-05-12T20:55:58.113339Z",
     "iopub.status.idle": "2023-05-12T20:55:58.119275Z",
     "shell.execute_reply": "2023-05-12T20:55:58.118510Z"
    },
    "id": "1DA_RzvyYCBa",
    "papermill": {
     "duration": 0.022315,
     "end_time": "2023-05-12T20:55:58.121222",
     "exception": false,
     "start_time": "2023-05-12T20:55:58.098907",
     "status": "completed"
    },
    "tags": []
   },
   "outputs": [],
   "source": [
    "timesteps_per_epoch = 1\n",
    "batch_size = 32\n",
    "total_steps = 4 * 10**4\n",
    "decay_steps = 1 * 10**4\n",
    "\n",
    "opt = torch.optim.Adam(agent.parameters(), lr=1e-4)\n",
    "\n",
    "init_epsilon = 1\n",
    "final_epsilon = 0.1\n",
    "\n",
    "loss_freq = 20\n",
    "refresh_target_network_freq = 100\n",
    "eval_freq = 200\n",
    "\n",
    "max_grad_norm = 5000"
   ]
  },
  {
   "cell_type": "code",
   "execution_count": 26,
   "id": "d90ac275",
   "metadata": {
    "execution": {
     "iopub.execute_input": "2023-05-12T20:55:58.149957Z",
     "iopub.status.busy": "2023-05-12T20:55:58.149237Z",
     "iopub.status.idle": "2023-05-12T20:55:58.153890Z",
     "shell.execute_reply": "2023-05-12T20:55:58.153104Z"
    },
    "id": "ya8xal1XYCBa",
    "papermill": {
     "duration": 0.020959,
     "end_time": "2023-05-12T20:55:58.155794",
     "exception": false,
     "start_time": "2023-05-12T20:55:58.134835",
     "status": "completed"
    },
    "tags": []
   },
   "outputs": [],
   "source": [
    "mean_rw_history = []\n",
    "td_loss_history = []\n",
    "grad_norm_history = []\n",
    "initial_state_v_history = []\n",
    "step = 0"
   ]
  },
  {
   "cell_type": "code",
   "execution_count": 27,
   "id": "883bb1e6",
   "metadata": {
    "execution": {
     "iopub.execute_input": "2023-05-12T20:55:58.185147Z",
     "iopub.status.busy": "2023-05-12T20:55:58.183707Z",
     "iopub.status.idle": "2023-05-12T20:55:58.188835Z",
     "shell.execute_reply": "2023-05-12T20:55:58.187952Z"
    },
    "id": "6KK7mdiuYCBc",
    "papermill": {
     "duration": 0.021485,
     "end_time": "2023-05-12T20:55:58.190779",
     "exception": false,
     "start_time": "2023-05-12T20:55:58.169294",
     "status": "completed"
    },
    "tags": []
   },
   "outputs": [],
   "source": [
    "import time\n",
    "\n",
    "def wait_for_keyboard_interrupt():\n",
    "    try:\n",
    "        while True:\n",
    "            time.sleep(1)\n",
    "    except KeyboardInterrupt:\n",
    "        pass"
   ]
  },
  {
   "cell_type": "code",
   "execution_count": 28,
   "id": "8127f0db",
   "metadata": {
    "execution": {
     "iopub.execute_input": "2023-05-12T20:55:58.219304Z",
     "iopub.status.busy": "2023-05-12T20:55:58.219045Z",
     "iopub.status.idle": "2023-05-13T03:06:01.905872Z",
     "shell.execute_reply": "2023-05-13T03:06:01.904684Z"
    },
    "id": "lDhuosSOYCBc",
    "outputId": "3da4f3e5-0a75-4f16-88e8-9a8f1d22ee2d",
    "papermill": {
     "duration": 22203.704423,
     "end_time": "2023-05-13T03:06:01.909181",
     "exception": false,
     "start_time": "2023-05-12T20:55:58.204758",
     "status": "completed"
    },
    "tags": []
   },
   "outputs": [
    {
     "name": "stdout",
     "output_type": "stream",
     "text": [
      "buffer size = 10000, epsilon = 0.10000\n"
     ]
    },
    {
     "data": {
      "image/png": "[encoded data removed]",
      "text/plain": [
       "<Figure size 1600x900 with 4 Axes>"
      ]
     },
     "metadata": {},
     "output_type": "display_data"
    },
    {
     "name": "stderr",
     "output_type": "stream",
     "text": [
      "100%|██████████| 40001/40001 [6:10:03<00:00,  1.80it/s]\n"
     ]
    }
   ],
   "source": [
    "state, _ = env.reset()\n",
    "with trange(step, total_steps + 1) as progress_bar:\n",
    "    for step in progress_bar:\n",
    "        if not utils.is_enough_ram():\n",
    "            print('less that 100 Mb RAM available, freezing')\n",
    "            print('make sure everything is ok and use KeyboardInterrupt to continue')\n",
    "            wait_for_keyboard_interrupt()\n",
    "\n",
    "        agent.epsilon = utils.linear_decay(init_epsilon, final_epsilon, step, decay_steps)\n",
    "\n",
    "        # play\n",
    "        _, state = play_and_record(state, agent, env, exp_replay, timesteps_per_epoch)\n",
    "\n",
    "        # train\n",
    "        obs_batch, act_batch, reward_batch, next_obs_batch, is_done_batch = exp_replay.sample(100000)\n",
    "\n",
    "        loss = compute_td_loss(obs_batch, act_batch, reward_batch, next_obs_batch, is_done_batch,\n",
    "                              agent, target_network,\n",
    "                              gamma=0.99, check_shapes=True)\n",
    "\n",
    "\n",
    "        loss.backward()\n",
    "        grad_norm = nn.utils.clip_grad_norm_(agent.parameters(), max_grad_norm)\n",
    "        opt.step()\n",
    "        opt.zero_grad()\n",
    "\n",
    "        if step % loss_freq == 0:\n",
    "            td_loss_history.append(loss.data.cpu().item())\n",
    "            grad_norm_history.append(grad_norm.cpu().item())\n",
    "\n",
    "        if step % refresh_target_network_freq == 0:\n",
    "            # Load agent weights into target_network\n",
    "             target_network.load_state_dict(agent.state_dict())\n",
    "\n",
    "        if step % eval_freq == 0:\n",
    "            torch.save(agent.state_dict(), \"checkpoint.pt\")\n",
    "            mean_rw_history.append(evaluate(\n",
    "                make_env(seed=step), agent, n_games=3, greedy=True, t_max=1000)\n",
    "            )\n",
    "            initial_state_q_values = agent.get_qvalues(\n",
    "                [make_env(seed=step).reset()[0]]\n",
    "            )\n",
    "            initial_state_v_history.append(np.max(initial_state_q_values))\n",
    "\n",
    "            clear_output(True)\n",
    "            print(\"buffer size = %i, epsilon = %.5f\" %\n",
    "                (len(exp_replay), agent.epsilon))\n",
    "\n",
    "            plt.figure(figsize=[16, 9])\n",
    "\n",
    "            plt.subplot(2, 2, 1)\n",
    "            plt.title(\"Mean reward per episode\")\n",
    "            plt.plot(mean_rw_history)\n",
    "            plt.grid()\n",
    "\n",
    "            assert not np.isnan(td_loss_history[-1])\n",
    "            plt.subplot(2, 2, 2)\n",
    "            plt.title(\"TD loss history (smoothened)\")\n",
    "            plt.plot(utils.smoothen(td_loss_history))\n",
    "            plt.grid()\n",
    "\n",
    "            plt.subplot(2, 2, 3)\n",
    "            plt.title(\"Initial state V\")\n",
    "            plt.plot(initial_state_v_history)\n",
    "            plt.grid()\n",
    "\n",
    "            plt.subplot(2, 2, 4)\n",
    "            plt.title(\"Grad norm history (smoothened)\")\n",
    "            plt.plot(utils.smoothen(grad_norm_history))\n",
    "            plt.grid()\n",
    "\n",
    "            plt.show()"
   ]
  },
  {
   "cell_type": "code",
   "execution_count": 29,
   "id": "79ed5e24",
   "metadata": {
    "execution": {
     "iopub.execute_input": "2023-05-13T03:06:01.943155Z",
     "iopub.status.busy": "2023-05-13T03:06:01.941603Z",
     "iopub.status.idle": "2023-05-13T03:06:07.564568Z",
     "shell.execute_reply": "2023-05-13T03:06:07.562810Z"
    },
    "id": "GIs1q-reYCBd",
    "papermill": {
     "duration": 5.641606,
     "end_time": "2023-05-13T03:06:07.566664",
     "exception": false,
     "start_time": "2023-05-13T03:06:01.925058",
     "status": "completed"
    },
    "tags": []
   },
   "outputs": [
    {
     "name": "stdout",
     "output_type": "stream",
     "text": [
      "final score: 559.4666666666667\n",
      "Well done\n"
     ]
    }
   ],
   "source": [
    "final_score = evaluate(\n",
    "  make_env(),\n",
    "  agent, n_games=30, greedy=True, t_max=1000\n",
    ")\n",
    "print('final score:', final_score)\n",
    "assert final_score > 300, 'not good enough for DQN'\n",
    "print('Well done')"
   ]
  },
  {
   "cell_type": "markdown",
   "id": "e2a9642f",
   "metadata": {
    "id": "Z_Fz_WU2YCBe",
    "papermill": {
     "duration": 0.015763,
     "end_time": "2023-05-13T03:06:07.598206",
     "exception": false,
     "start_time": "2023-05-13T03:06:07.582443",
     "status": "completed"
    },
    "tags": []
   },
   "source": [
    "**Agent's predicted V-values vs their Monte-Carlo estimates**"
   ]
  },
  {
   "cell_type": "code",
   "execution_count": 30,
   "id": "c9b9e685",
   "metadata": {
    "execution": {
     "iopub.execute_input": "2023-05-13T03:06:07.630750Z",
     "iopub.status.busy": "2023-05-13T03:06:07.629815Z",
     "iopub.status.idle": "2023-05-13T03:06:11.539169Z",
     "shell.execute_reply": "2023-05-13T03:06:11.537361Z"
    },
    "id": "J-OWsbs8YCBe",
    "papermill": {
     "duration": 3.927943,
     "end_time": "2023-05-13T03:06:11.541508",
     "exception": false,
     "start_time": "2023-05-13T03:06:07.613565",
     "status": "completed"
    },
    "tags": []
   },
   "outputs": [
    {
     "name": "stdout",
     "output_type": "stream",
     "text": [
      "total reward for life: 10000.0\n",
      "states\n",
      "v_mc\n",
      "v_agent\n",
      "q_spreads\n",
      "td_errors\n",
      "rewards\n",
      "episode_finished\n"
     ]
    }
   ],
   "source": [
    "eval_env = make_env()\n",
    "record = utils.play_and_log_episode(eval_env, agent)\n",
    "print('total reward for life:', np.sum(record['rewards']))\n",
    "for key in record:\n",
    "    print(key)"
   ]
  },
  {
   "cell_type": "code",
   "execution_count": 31,
   "id": "d8a0ad1a",
   "metadata": {
    "execution": {
     "iopub.execute_input": "2023-05-13T03:06:11.574034Z",
     "iopub.status.busy": "2023-05-13T03:06:11.573733Z",
     "iopub.status.idle": "2023-05-13T03:06:11.938411Z",
     "shell.execute_reply": "2023-05-13T03:06:11.937465Z"
    },
    "id": "8fM4gM3mYCBf",
    "papermill": {
     "duration": 0.383497,
     "end_time": "2023-05-13T03:06:11.940744",
     "exception": false,
     "start_time": "2023-05-13T03:06:11.557247",
     "status": "completed"
    },
    "tags": []
   },
   "outputs": [
    {
     "data": {
      "image/png": "[encoded data removed]",
      "text/plain": [
       "<Figure size 500x500 with 1 Axes>"
      ]
     },
     "metadata": {},
     "output_type": "display_data"
    }
   ],
   "source": [
    "fig = plt.figure(figsize=(5, 5))\n",
    "ax = fig.add_subplot(1, 1, 1)\n",
    "\n",
    "ax.scatter(record['v_mc'], record['v_agent'])\n",
    "ax.plot(sorted(record['v_mc']), sorted(record['v_mc']),\n",
    "       'black', linestyle='--', label='x=y')\n",
    "\n",
    "ax.grid()\n",
    "ax.legend()\n",
    "ax.set_title('State Value Estimates')\n",
    "ax.set_xlabel('Monte-Carlo')\n",
    "ax.set_ylabel('Agent')\n",
    "\n",
    "plt.show()"
   ]
  },
  {
   "cell_type": "code",
   "execution_count": null,
   "id": "8e83796d",
   "metadata": {
    "id": "jjLwWvn9p_0p",
    "papermill": {
     "duration": 0.015897,
     "end_time": "2023-05-13T03:06:11.973174",
     "exception": false,
     "start_time": "2023-05-13T03:06:11.957277",
     "status": "completed"
    },
    "tags": []
   },
   "outputs": [],
   "source": []
  }
 ],
 "metadata": {
  "kernelspec": {
   "display_name": "Python 3",
   "language": "python",
   "name": "python3"
  },
  "language_info": {
   "codemirror_mode": {
    "name": "ipython",
    "version": 3
   },
   "file_extension": ".py",
   "mimetype": "text/x-python",
   "name": "python",
   "nbconvert_exporter": "python",
   "pygments_lexer": "ipython3",
   "version": "3.10.10"
  },
  "papermill": {
   "default_parameters": {},
   "duration": 22278.338535,
   "end_time": "2023-05-13T03:06:13.762073",
   "environment_variables": {},
   "exception": null,
   "input_path": "__notebook__.ipynb",
   "output_path": "__notebook__.ipynb",
   "parameters": {},
   "start_time": "2023-05-12T20:54:55.423538",
   "version": "2.4.0"
  }
 },
 "nbformat": 4,
 "nbformat_minor": 5
}
