{
  "cells": [
    {
      "cell_type": "markdown",
      "metadata": {
        "nbgrader": {
          "grade": false,
          "grade_id": "cell-86e0de040aac317a",
          "locked": true,
          "schema_version": 2,
          "solution": false
        },
        "id": "bencUjgyVlvN"
      },
      "source": [
        "# Lab assignment №1, part 2\n",
        "\n",
        "This lab assignment consists of several parts. You are supposed to make some transformations, train some models, estimate the quality of the models and explain your results.\n",
        "\n",
        "Several comments:\n",
        "* Don't hesitate to ask questions, it's a good practice.\n",
        "* No private/public sharing, please. The copied assignments will be graded with 0 points.\n",
        "* Blocks of this lab will be graded separately."
      ]
    },
    {
      "cell_type": "markdown",
      "metadata": {
        "id": "EhllEUX_VlvS"
      },
      "source": [
        "__*This is the second part of the assignment. First and third parts are waiting for you in the same directory.*__"
      ]
    },
    {
      "cell_type": "markdown",
      "metadata": {
        "nbgrader": {
          "grade": false,
          "grade_id": "cell-512ba712fc0fc065",
          "locked": true,
          "schema_version": 2,
          "solution": false
        },
        "id": "GokZsxLpVlvV"
      },
      "source": [
        "## Part 2. Data preprocessing, model training and evaluation."
      ]
    },
    {
      "cell_type": "markdown",
      "metadata": {
        "nbgrader": {
          "grade": false,
          "grade_id": "cell-b656a4266174b009",
          "locked": true,
          "schema_version": 2,
          "solution": false
        },
        "id": "MVCoHQRaVlvY"
      },
      "source": [
        "### 1. Reading the data\n",
        "Today we work with the [dataset](https://archive.ics.uci.edu/ml/datasets/Statlog+%28Vehicle+Silhouettes%29), describing different cars for multiclass ($k=4$) classification problem. The data is available below."
      ]
    },
    {
      "cell_type": "code",
      "execution_count": 44,
      "metadata": {
        "colab": {
          "base_uri": "https://localhost:8080/"
        },
        "id": "1QWsAhsHVlva",
        "outputId": "4a7e1bc5-df63-446e-e7c1-c2f06a5a478b"
      },
      "outputs": [
        {
          "output_type": "stream",
          "name": "stdout",
          "text": [
            "--2022-11-18 20:45:28--  https://raw.githubusercontent.com/girafe-ai/ml-course/22f_made/homeworks/lab01_ml_pipeline/car_data.csv\n",
            "Resolving raw.githubusercontent.com (raw.githubusercontent.com)... 185.199.108.133, 185.199.109.133, 185.199.110.133, ...\n",
            "Connecting to raw.githubusercontent.com (raw.githubusercontent.com)|185.199.108.133|:443... connected.\n",
            "HTTP request sent, awaiting response... 200 OK\n",
            "Length: 58374 (57K) [text/plain]\n",
            "Saving to: ‘car_data.csv.2’\n",
            "\n",
            "\rcar_data.csv.2        0%[                    ]       0  --.-KB/s               \rcar_data.csv.2      100%[===================>]  57.01K  --.-KB/s    in 0.009s  \n",
            "\n",
            "2022-11-18 20:45:28 (6.08 MB/s) - ‘car_data.csv.2’ saved [58374/58374]\n",
            "\n"
          ]
        }
      ],
      "source": [
        "# If on colab, uncomment the following lines\n",
        "\n",
        "! wget https://raw.githubusercontent.com/girafe-ai/ml-course/22f_made/homeworks/lab01_ml_pipeline/car_data.csv"
      ]
    },
    {
      "cell_type": "code",
      "execution_count": 45,
      "metadata": {
        "nbgrader": {
          "grade": false,
          "grade_id": "cell-eebac6bfdf73d0bc",
          "locked": true,
          "schema_version": 2,
          "solution": false
        },
        "colab": {
          "base_uri": "https://localhost:8080/"
        },
        "id": "a5TN3v1wVlvd",
        "outputId": "8ec588cc-18e6-4d60-9a89-d606670c8c27"
      },
      "outputs": [
        {
          "output_type": "stream",
          "name": "stdout",
          "text": [
            "(846, 19) (846,)\n",
            "(549, 19) (549,) (297, 19) (297,)\n"
          ]
        }
      ],
      "source": [
        "import pandas as pd\n",
        "import numpy as np\n",
        "from sklearn.model_selection import train_test_split\n",
        "\n",
        "dataset = pd.read_csv('car_data.csv', delimiter=',', header=None).values\n",
        "data = dataset[:, :-1].astype(int)\n",
        "target = dataset[:, -1]\n",
        "\n",
        "print(data.shape, target.shape)\n",
        "\n",
        "X_train, X_test, y_train, y_test = train_test_split(data, target, test_size=0.35)\n",
        "print(X_train.shape, y_train.shape, X_test.shape, y_test.shape)"
      ]
    },
    {
      "cell_type": "markdown",
      "metadata": {
        "nbgrader": {
          "grade": false,
          "grade_id": "cell-88b1a0f688568f2c",
          "locked": true,
          "schema_version": 2,
          "solution": false
        },
        "id": "tku1D337Vlvf"
      },
      "source": [
        "To get some insights about the dataset, `pandas` might be used. The `train` part is transformed to `pd.DataFrame` below."
      ]
    },
    {
      "cell_type": "code",
      "execution_count": 46,
      "metadata": {
        "colab": {
          "base_uri": "https://localhost:8080/",
          "height": 520
        },
        "id": "XInMx9CEVlvh",
        "outputId": "5b922b14-9ece-41d6-be42-7f4437bd8cdb"
      },
      "outputs": [
        {
          "output_type": "execute_result",
          "data": {
            "text/plain": [
              "     0    1   2    3    4   5   6    7   8   9    10   11   12   13  14  15  \\\n",
              "0   328   93  43   88  170  66   9  150  45  19  147  164  334  143  65   2   \n",
              "1   813   90  48   77  132  56  10  157  44  20  164  169  354  187  78   1   \n",
              "2   777  106  53   98  154  47   4  237  28  26  164  263  838  222  82   4   \n",
              "3   427   86  38   89  176  59   9  169  39  20  132  190  428  148  67   7   \n",
              "4   585   85  35   64  129  57   6  116  57  17  125  138  200  123  65   1   \n",
              "5   611   90  49   85  141  57  11  159  43  20  167  173  365  186  75   1   \n",
              "6   499  102  54   98  167  53  10  217  31  24  174  228  692  223  72   0   \n",
              "7    65   89  41   75  143  56   7  146  46  19  137  170  317  156  76  18   \n",
              "8   141   81  42   63  125  55   8  149  46  19  145  166  320  172  86   7   \n",
              "9   401   85  37   80  158  59   8  153  44  19  126  179  348  136  69   6   \n",
              "10   84   89  40   76  188  76   7  150  44  19  136  174  342  148  72   3   \n",
              "11  739   96  44   85  166  66  10  155  43  19  150  167  355  159  67   3   \n",
              "12  563   89  42   75  140  55   6  145  46  19  139  170  312  166  71  15   \n",
              "13  144   95  45   80  186  62   7  164  40  20  145  188  406  178  65  11   \n",
              "14  586   98  55  108  168  53  11  224  30  25  178  231  737  217  73   8   \n",
              "\n",
              "    16   17   18  \n",
              "0   17  196  206  \n",
              "1    3  182  191  \n",
              "2   17  185  184  \n",
              "3   33  193  202  \n",
              "4   23  196  203  \n",
              "5   11  182  192  \n",
              "6   31  187  198  \n",
              "7    5  184  188  \n",
              "8    7  179  182  \n",
              "9   21  191  197  \n",
              "10   8  193  197  \n",
              "11  10  192  202  \n",
              "12  26  191  198  \n",
              "13  18  199  204  \n",
              "14  30  187  198  "
            ],
            "text/html": [
              "\n",
              "  <div id=\"df-e09f3bb3-3982-4ba6-b7a0-3935c4239a37\">\n",
              "    <div class=\"colab-df-container\">\n",
              "      <div>\n",
              "<style scoped>\n",
              "    .dataframe tbody tr th:only-of-type {\n",
              "        vertical-align: middle;\n",
              "    }\n",
              "\n",
              "    .dataframe tbody tr th {\n",
              "        vertical-align: top;\n",
              "    }\n",
              "\n",
              "    .dataframe thead th {\n",
              "        text-align: right;\n",
              "    }\n",
              "</style>\n",
              "<table border=\"1\" class=\"dataframe\">\n",
              "  <thead>\n",
              "    <tr style=\"text-align: right;\">\n",
              "      <th></th>\n",
              "      <th>0</th>\n",
              "      <th>1</th>\n",
              "      <th>2</th>\n",
              "      <th>3</th>\n",
              "      <th>4</th>\n",
              "      <th>5</th>\n",
              "      <th>6</th>\n",
              "      <th>7</th>\n",
              "      <th>8</th>\n",
              "      <th>9</th>\n",
              "      <th>10</th>\n",
              "      <th>11</th>\n",
              "      <th>12</th>\n",
              "      <th>13</th>\n",
              "      <th>14</th>\n",
              "      <th>15</th>\n",
              "      <th>16</th>\n",
              "      <th>17</th>\n",
              "      <th>18</th>\n",
              "    </tr>\n",
              "  </thead>\n",
              "  <tbody>\n",
              "    <tr>\n",
              "      <th>0</th>\n",
              "      <td>328</td>\n",
              "      <td>93</td>\n",
              "      <td>43</td>\n",
              "      <td>88</td>\n",
              "      <td>170</td>\n",
              "      <td>66</td>\n",
              "      <td>9</td>\n",
              "      <td>150</td>\n",
              "      <td>45</td>\n",
              "      <td>19</td>\n",
              "      <td>147</td>\n",
              "      <td>164</td>\n",
              "      <td>334</td>\n",
              "      <td>143</td>\n",
              "      <td>65</td>\n",
              "      <td>2</td>\n",
              "      <td>17</td>\n",
              "      <td>196</td>\n",
              "      <td>206</td>\n",
              "    </tr>\n",
              "    <tr>\n",
              "      <th>1</th>\n",
              "      <td>813</td>\n",
              "      <td>90</td>\n",
              "      <td>48</td>\n",
              "      <td>77</td>\n",
              "      <td>132</td>\n",
              "      <td>56</td>\n",
              "      <td>10</td>\n",
              "      <td>157</td>\n",
              "      <td>44</td>\n",
              "      <td>20</td>\n",
              "      <td>164</td>\n",
              "      <td>169</td>\n",
              "      <td>354</td>\n",
              "      <td>187</td>\n",
              "      <td>78</td>\n",
              "      <td>1</td>\n",
              "      <td>3</td>\n",
              "      <td>182</td>\n",
              "      <td>191</td>\n",
              "    </tr>\n",
              "    <tr>\n",
              "      <th>2</th>\n",
              "      <td>777</td>\n",
              "      <td>106</td>\n",
              "      <td>53</td>\n",
              "      <td>98</td>\n",
              "      <td>154</td>\n",
              "      <td>47</td>\n",
              "      <td>4</td>\n",
              "      <td>237</td>\n",
              "      <td>28</td>\n",
              "      <td>26</td>\n",
              "      <td>164</td>\n",
              "      <td>263</td>\n",
              "      <td>838</td>\n",
              "      <td>222</td>\n",
              "      <td>82</td>\n",
              "      <td>4</td>\n",
              "      <td>17</td>\n",
              "      <td>185</td>\n",
              "      <td>184</td>\n",
              "    </tr>\n",
              "    <tr>\n",
              "      <th>3</th>\n",
              "      <td>427</td>\n",
              "      <td>86</td>\n",
              "      <td>38</td>\n",
              "      <td>89</td>\n",
              "      <td>176</td>\n",
              "      <td>59</td>\n",
              "      <td>9</td>\n",
              "      <td>169</td>\n",
              "      <td>39</td>\n",
              "      <td>20</td>\n",
              "      <td>132</td>\n",
              "      <td>190</td>\n",
              "      <td>428</td>\n",
              "      <td>148</td>\n",
              "      <td>67</td>\n",
              "      <td>7</td>\n",
              "      <td>33</td>\n",
              "      <td>193</td>\n",
              "      <td>202</td>\n",
              "    </tr>\n",
              "    <tr>\n",
              "      <th>4</th>\n",
              "      <td>585</td>\n",
              "      <td>85</td>\n",
              "      <td>35</td>\n",
              "      <td>64</td>\n",
              "      <td>129</td>\n",
              "      <td>57</td>\n",
              "      <td>6</td>\n",
              "      <td>116</td>\n",
              "      <td>57</td>\n",
              "      <td>17</td>\n",
              "      <td>125</td>\n",
              "      <td>138</td>\n",
              "      <td>200</td>\n",
              "      <td>123</td>\n",
              "      <td>65</td>\n",
              "      <td>1</td>\n",
              "      <td>23</td>\n",
              "      <td>196</td>\n",
              "      <td>203</td>\n",
              "    </tr>\n",
              "    <tr>\n",
              "      <th>5</th>\n",
              "      <td>611</td>\n",
              "      <td>90</td>\n",
              "      <td>49</td>\n",
              "      <td>85</td>\n",
              "      <td>141</td>\n",
              "      <td>57</td>\n",
              "      <td>11</td>\n",
              "      <td>159</td>\n",
              "      <td>43</td>\n",
              "      <td>20</td>\n",
              "      <td>167</td>\n",
              "      <td>173</td>\n",
              "      <td>365</td>\n",
              "      <td>186</td>\n",
              "      <td>75</td>\n",
              "      <td>1</td>\n",
              "      <td>11</td>\n",
              "      <td>182</td>\n",
              "      <td>192</td>\n",
              "    </tr>\n",
              "    <tr>\n",
              "      <th>6</th>\n",
              "      <td>499</td>\n",
              "      <td>102</td>\n",
              "      <td>54</td>\n",
              "      <td>98</td>\n",
              "      <td>167</td>\n",
              "      <td>53</td>\n",
              "      <td>10</td>\n",
              "      <td>217</td>\n",
              "      <td>31</td>\n",
              "      <td>24</td>\n",
              "      <td>174</td>\n",
              "      <td>228</td>\n",
              "      <td>692</td>\n",
              "      <td>223</td>\n",
              "      <td>72</td>\n",
              "      <td>0</td>\n",
              "      <td>31</td>\n",
              "      <td>187</td>\n",
              "      <td>198</td>\n",
              "    </tr>\n",
              "    <tr>\n",
              "      <th>7</th>\n",
              "      <td>65</td>\n",
              "      <td>89</td>\n",
              "      <td>41</td>\n",
              "      <td>75</td>\n",
              "      <td>143</td>\n",
              "      <td>56</td>\n",
              "      <td>7</td>\n",
              "      <td>146</td>\n",
              "      <td>46</td>\n",
              "      <td>19</td>\n",
              "      <td>137</td>\n",
              "      <td>170</td>\n",
              "      <td>317</td>\n",
              "      <td>156</td>\n",
              "      <td>76</td>\n",
              "      <td>18</td>\n",
              "      <td>5</td>\n",
              "      <td>184</td>\n",
              "      <td>188</td>\n",
              "    </tr>\n",
              "    <tr>\n",
              "      <th>8</th>\n",
              "      <td>141</td>\n",
              "      <td>81</td>\n",
              "      <td>42</td>\n",
              "      <td>63</td>\n",
              "      <td>125</td>\n",
              "      <td>55</td>\n",
              "      <td>8</td>\n",
              "      <td>149</td>\n",
              "      <td>46</td>\n",
              "      <td>19</td>\n",
              "      <td>145</td>\n",
              "      <td>166</td>\n",
              "      <td>320</td>\n",
              "      <td>172</td>\n",
              "      <td>86</td>\n",
              "      <td>7</td>\n",
              "      <td>7</td>\n",
              "      <td>179</td>\n",
              "      <td>182</td>\n",
              "    </tr>\n",
              "    <tr>\n",
              "      <th>9</th>\n",
              "      <td>401</td>\n",
              "      <td>85</td>\n",
              "      <td>37</td>\n",
              "      <td>80</td>\n",
              "      <td>158</td>\n",
              "      <td>59</td>\n",
              "      <td>8</td>\n",
              "      <td>153</td>\n",
              "      <td>44</td>\n",
              "      <td>19</td>\n",
              "      <td>126</td>\n",
              "      <td>179</td>\n",
              "      <td>348</td>\n",
              "      <td>136</td>\n",
              "      <td>69</td>\n",
              "      <td>6</td>\n",
              "      <td>21</td>\n",
              "      <td>191</td>\n",
              "      <td>197</td>\n",
              "    </tr>\n",
              "    <tr>\n",
              "      <th>10</th>\n",
              "      <td>84</td>\n",
              "      <td>89</td>\n",
              "      <td>40</td>\n",
              "      <td>76</td>\n",
              "      <td>188</td>\n",
              "      <td>76</td>\n",
              "      <td>7</td>\n",
              "      <td>150</td>\n",
              "      <td>44</td>\n",
              "      <td>19</td>\n",
              "      <td>136</td>\n",
              "      <td>174</td>\n",
              "      <td>342</td>\n",
              "      <td>148</td>\n",
              "      <td>72</td>\n",
              "      <td>3</td>\n",
              "      <td>8</td>\n",
              "      <td>193</td>\n",
              "      <td>197</td>\n",
              "    </tr>\n",
              "    <tr>\n",
              "      <th>11</th>\n",
              "      <td>739</td>\n",
              "      <td>96</td>\n",
              "      <td>44</td>\n",
              "      <td>85</td>\n",
              "      <td>166</td>\n",
              "      <td>66</td>\n",
              "      <td>10</td>\n",
              "      <td>155</td>\n",
              "      <td>43</td>\n",
              "      <td>19</td>\n",
              "      <td>150</td>\n",
              "      <td>167</td>\n",
              "      <td>355</td>\n",
              "      <td>159</td>\n",
              "      <td>67</td>\n",
              "      <td>3</td>\n",
              "      <td>10</td>\n",
              "      <td>192</td>\n",
              "      <td>202</td>\n",
              "    </tr>\n",
              "    <tr>\n",
              "      <th>12</th>\n",
              "      <td>563</td>\n",
              "      <td>89</td>\n",
              "      <td>42</td>\n",
              "      <td>75</td>\n",
              "      <td>140</td>\n",
              "      <td>55</td>\n",
              "      <td>6</td>\n",
              "      <td>145</td>\n",
              "      <td>46</td>\n",
              "      <td>19</td>\n",
              "      <td>139</td>\n",
              "      <td>170</td>\n",
              "      <td>312</td>\n",
              "      <td>166</td>\n",
              "      <td>71</td>\n",
              "      <td>15</td>\n",
              "      <td>26</td>\n",
              "      <td>191</td>\n",
              "      <td>198</td>\n",
              "    </tr>\n",
              "    <tr>\n",
              "      <th>13</th>\n",
              "      <td>144</td>\n",
              "      <td>95</td>\n",
              "      <td>45</td>\n",
              "      <td>80</td>\n",
              "      <td>186</td>\n",
              "      <td>62</td>\n",
              "      <td>7</td>\n",
              "      <td>164</td>\n",
              "      <td>40</td>\n",
              "      <td>20</td>\n",
              "      <td>145</td>\n",
              "      <td>188</td>\n",
              "      <td>406</td>\n",
              "      <td>178</td>\n",
              "      <td>65</td>\n",
              "      <td>11</td>\n",
              "      <td>18</td>\n",
              "      <td>199</td>\n",
              "      <td>204</td>\n",
              "    </tr>\n",
              "    <tr>\n",
              "      <th>14</th>\n",
              "      <td>586</td>\n",
              "      <td>98</td>\n",
              "      <td>55</td>\n",
              "      <td>108</td>\n",
              "      <td>168</td>\n",
              "      <td>53</td>\n",
              "      <td>11</td>\n",
              "      <td>224</td>\n",
              "      <td>30</td>\n",
              "      <td>25</td>\n",
              "      <td>178</td>\n",
              "      <td>231</td>\n",
              "      <td>737</td>\n",
              "      <td>217</td>\n",
              "      <td>73</td>\n",
              "      <td>8</td>\n",
              "      <td>30</td>\n",
              "      <td>187</td>\n",
              "      <td>198</td>\n",
              "    </tr>\n",
              "  </tbody>\n",
              "</table>\n",
              "</div>\n",
              "      <button class=\"colab-df-convert\" onclick=\"convertToInteractive('df-e09f3bb3-3982-4ba6-b7a0-3935c4239a37')\"\n",
              "              title=\"Convert this dataframe to an interactive table.\"\n",
              "              style=\"display:none;\">\n",
              "        \n",
              "  <svg xmlns=\"http://www.w3.org/2000/svg\" height=\"24px\"viewBox=\"0 0 24 24\"\n",
              "       width=\"24px\">\n",
              "    <path d=\"M0 0h24v24H0V0z\" fill=\"none\"/>\n",
              "    <path d=\"M18.56 5.44l.94 2.06.94-2.06 2.06-.94-2.06-.94-.94-2.06-.94 2.06-2.06.94zm-11 1L8.5 8.5l.94-2.06 2.06-.94-2.06-.94L8.5 2.5l-.94 2.06-2.06.94zm10 10l.94 2.06.94-2.06 2.06-.94-2.06-.94-.94-2.06-.94 2.06-2.06.94z\"/><path d=\"M17.41 7.96l-1.37-1.37c-.4-.4-.92-.59-1.43-.59-.52 0-1.04.2-1.43.59L10.3 9.45l-7.72 7.72c-.78.78-.78 2.05 0 2.83L4 21.41c.39.39.9.59 1.41.59.51 0 1.02-.2 1.41-.59l7.78-7.78 2.81-2.81c.8-.78.8-2.07 0-2.86zM5.41 20L4 18.59l7.72-7.72 1.47 1.35L5.41 20z\"/>\n",
              "  </svg>\n",
              "      </button>\n",
              "      \n",
              "  <style>\n",
              "    .colab-df-container {\n",
              "      display:flex;\n",
              "      flex-wrap:wrap;\n",
              "      gap: 12px;\n",
              "    }\n",
              "\n",
              "    .colab-df-convert {\n",
              "      background-color: #E8F0FE;\n",
              "      border: none;\n",
              "      border-radius: 50%;\n",
              "      cursor: pointer;\n",
              "      display: none;\n",
              "      fill: #1967D2;\n",
              "      height: 32px;\n",
              "      padding: 0 0 0 0;\n",
              "      width: 32px;\n",
              "    }\n",
              "\n",
              "    .colab-df-convert:hover {\n",
              "      background-color: #E2EBFA;\n",
              "      box-shadow: 0px 1px 2px rgba(60, 64, 67, 0.3), 0px 1px 3px 1px rgba(60, 64, 67, 0.15);\n",
              "      fill: #174EA6;\n",
              "    }\n",
              "\n",
              "    [theme=dark] .colab-df-convert {\n",
              "      background-color: #3B4455;\n",
              "      fill: #D2E3FC;\n",
              "    }\n",
              "\n",
              "    [theme=dark] .colab-df-convert:hover {\n",
              "      background-color: #434B5C;\n",
              "      box-shadow: 0px 1px 3px 1px rgba(0, 0, 0, 0.15);\n",
              "      filter: drop-shadow(0px 1px 2px rgba(0, 0, 0, 0.3));\n",
              "      fill: #FFFFFF;\n",
              "    }\n",
              "  </style>\n",
              "\n",
              "      <script>\n",
              "        const buttonEl =\n",
              "          document.querySelector('#df-e09f3bb3-3982-4ba6-b7a0-3935c4239a37 button.colab-df-convert');\n",
              "        buttonEl.style.display =\n",
              "          google.colab.kernel.accessAllowed ? 'block' : 'none';\n",
              "\n",
              "        async function convertToInteractive(key) {\n",
              "          const element = document.querySelector('#df-e09f3bb3-3982-4ba6-b7a0-3935c4239a37');\n",
              "          const dataTable =\n",
              "            await google.colab.kernel.invokeFunction('convertToInteractive',\n",
              "                                                     [key], {});\n",
              "          if (!dataTable) return;\n",
              "\n",
              "          const docLinkHtml = 'Like what you see? Visit the ' +\n",
              "            '<a target=\"_blank\" href=https://colab.research.google.com/notebooks/data_table.ipynb>data table notebook</a>'\n",
              "            + ' to learn more about interactive tables.';\n",
              "          element.innerHTML = '';\n",
              "          dataTable['output_type'] = 'display_data';\n",
              "          await google.colab.output.renderOutput(dataTable, element);\n",
              "          const docLink = document.createElement('div');\n",
              "          docLink.innerHTML = docLinkHtml;\n",
              "          element.appendChild(docLink);\n",
              "        }\n",
              "      </script>\n",
              "    </div>\n",
              "  </div>\n",
              "  "
            ]
          },
          "metadata": {},
          "execution_count": 46
        }
      ],
      "source": [
        "X_train_pd = pd.DataFrame(X_train)\n",
        "\n",
        "# First 15 rows of our dataset.\n",
        "X_train_pd.head(15)"
      ]
    },
    {
      "cell_type": "markdown",
      "metadata": {
        "nbgrader": {
          "grade": false,
          "grade_id": "cell-98e7d91d77d65fcf",
          "locked": true,
          "schema_version": 2,
          "solution": false
        },
        "id": "vw5A0uUWVlvj"
      },
      "source": [
        "Methods `describe` and `info` deliver some useful information."
      ]
    },
    {
      "cell_type": "code",
      "execution_count": 47,
      "metadata": {
        "colab": {
          "base_uri": "https://localhost:8080/",
          "height": 364
        },
        "id": "ZaMR2hvkVlvl",
        "outputId": "0f1fea53-1c07-43c2-e50a-55a1df376106"
      },
      "outputs": [
        {
          "output_type": "execute_result",
          "data": {
            "text/plain": [
              "               0           1           2           3           4           5   \\\n",
              "count  549.000000  549.000000  549.000000  549.000000  549.000000  549.000000   \n",
              "mean   424.109290   93.544627   44.885246   82.327869  169.349727   61.786885   \n",
              "std    240.175025    7.843143    6.103094   15.401736   33.926952    8.386649   \n",
              "min      0.000000   77.000000   33.000000   40.000000  104.000000   47.000000   \n",
              "25%    227.000000   88.000000   40.000000   70.000000  142.000000   57.000000   \n",
              "50%    419.000000   92.000000   44.000000   80.000000  167.000000   61.000000   \n",
              "75%    626.000000   99.000000   49.000000   98.000000  195.000000   65.000000   \n",
              "max    845.000000  115.000000   59.000000  110.000000  333.000000  138.000000   \n",
              "\n",
              "               6           7           8           9           10          11  \\\n",
              "count  549.000000  549.000000  549.000000  549.000000  549.000000  549.000000   \n",
              "mean     8.726776  168.803279   40.905282   20.579235  148.069217  188.892532   \n",
              "std      5.071571   32.908875    7.748684    2.560153   14.380985   31.313713   \n",
              "min      3.000000  112.000000   26.000000   17.000000  118.000000  130.000000   \n",
              "25%      7.000000  147.000000   33.000000   19.000000  138.000000  168.000000   \n",
              "50%      8.000000  157.000000   43.000000   20.000000  146.000000  179.000000   \n",
              "75%     10.000000  198.000000   46.000000   23.000000  159.000000  217.000000   \n",
              "max     55.000000  265.000000   61.000000   29.000000  188.000000  320.000000   \n",
              "\n",
              "                12          13          14          15          16  \\\n",
              "count   549.000000  549.000000  549.000000  549.000000  549.000000   \n",
              "mean    439.296903  174.967213   72.411658    6.469945   12.710383   \n",
              "std     174.713857   31.884469    7.702849    4.909910    8.862386   \n",
              "min     184.000000  112.000000   60.000000    0.000000    0.000000   \n",
              "25%     321.000000  152.000000   67.000000    2.000000    6.000000   \n",
              "50%     365.000000  174.000000   71.000000    6.000000   11.000000   \n",
              "75%     587.000000  199.000000   75.000000    9.000000   19.000000   \n",
              "max    1018.000000  262.000000  135.000000   22.000000   41.000000   \n",
              "\n",
              "               17          18  \n",
              "count  549.000000  549.000000  \n",
              "mean   188.923497  195.657559  \n",
              "std      6.034691    7.302087  \n",
              "min    176.000000  181.000000  \n",
              "25%    185.000000  191.000000  \n",
              "50%    188.000000  197.000000  \n",
              "75%    193.000000  201.000000  \n",
              "max    206.000000  211.000000  "
            ],
            "text/html": [
              "\n",
              "  <div id=\"df-dac38f45-6df8-4492-a939-750c45f4a451\">\n",
              "    <div class=\"colab-df-container\">\n",
              "      <div>\n",
              "<style scoped>\n",
              "    .dataframe tbody tr th:only-of-type {\n",
              "        vertical-align: middle;\n",
              "    }\n",
              "\n",
              "    .dataframe tbody tr th {\n",
              "        vertical-align: top;\n",
              "    }\n",
              "\n",
              "    .dataframe thead th {\n",
              "        text-align: right;\n",
              "    }\n",
              "</style>\n",
              "<table border=\"1\" class=\"dataframe\">\n",
              "  <thead>\n",
              "    <tr style=\"text-align: right;\">\n",
              "      <th></th>\n",
              "      <th>0</th>\n",
              "      <th>1</th>\n",
              "      <th>2</th>\n",
              "      <th>3</th>\n",
              "      <th>4</th>\n",
              "      <th>5</th>\n",
              "      <th>6</th>\n",
              "      <th>7</th>\n",
              "      <th>8</th>\n",
              "      <th>9</th>\n",
              "      <th>10</th>\n",
              "      <th>11</th>\n",
              "      <th>12</th>\n",
              "      <th>13</th>\n",
              "      <th>14</th>\n",
              "      <th>15</th>\n",
              "      <th>16</th>\n",
              "      <th>17</th>\n",
              "      <th>18</th>\n",
              "    </tr>\n",
              "  </thead>\n",
              "  <tbody>\n",
              "    <tr>\n",
              "      <th>count</th>\n",
              "      <td>549.000000</td>\n",
              "      <td>549.000000</td>\n",
              "      <td>549.000000</td>\n",
              "      <td>549.000000</td>\n",
              "      <td>549.000000</td>\n",
              "      <td>549.000000</td>\n",
              "      <td>549.000000</td>\n",
              "      <td>549.000000</td>\n",
              "      <td>549.000000</td>\n",
              "      <td>549.000000</td>\n",
              "      <td>549.000000</td>\n",
              "      <td>549.000000</td>\n",
              "      <td>549.000000</td>\n",
              "      <td>549.000000</td>\n",
              "      <td>549.000000</td>\n",
              "      <td>549.000000</td>\n",
              "      <td>549.000000</td>\n",
              "      <td>549.000000</td>\n",
              "      <td>549.000000</td>\n",
              "    </tr>\n",
              "    <tr>\n",
              "      <th>mean</th>\n",
              "      <td>424.109290</td>\n",
              "      <td>93.544627</td>\n",
              "      <td>44.885246</td>\n",
              "      <td>82.327869</td>\n",
              "      <td>169.349727</td>\n",
              "      <td>61.786885</td>\n",
              "      <td>8.726776</td>\n",
              "      <td>168.803279</td>\n",
              "      <td>40.905282</td>\n",
              "      <td>20.579235</td>\n",
              "      <td>148.069217</td>\n",
              "      <td>188.892532</td>\n",
              "      <td>439.296903</td>\n",
              "      <td>174.967213</td>\n",
              "      <td>72.411658</td>\n",
              "      <td>6.469945</td>\n",
              "      <td>12.710383</td>\n",
              "      <td>188.923497</td>\n",
              "      <td>195.657559</td>\n",
              "    </tr>\n",
              "    <tr>\n",
              "      <th>std</th>\n",
              "      <td>240.175025</td>\n",
              "      <td>7.843143</td>\n",
              "      <td>6.103094</td>\n",
              "      <td>15.401736</td>\n",
              "      <td>33.926952</td>\n",
              "      <td>8.386649</td>\n",
              "      <td>5.071571</td>\n",
              "      <td>32.908875</td>\n",
              "      <td>7.748684</td>\n",
              "      <td>2.560153</td>\n",
              "      <td>14.380985</td>\n",
              "      <td>31.313713</td>\n",
              "      <td>174.713857</td>\n",
              "      <td>31.884469</td>\n",
              "      <td>7.702849</td>\n",
              "      <td>4.909910</td>\n",
              "      <td>8.862386</td>\n",
              "      <td>6.034691</td>\n",
              "      <td>7.302087</td>\n",
              "    </tr>\n",
              "    <tr>\n",
              "      <th>min</th>\n",
              "      <td>0.000000</td>\n",
              "      <td>77.000000</td>\n",
              "      <td>33.000000</td>\n",
              "      <td>40.000000</td>\n",
              "      <td>104.000000</td>\n",
              "      <td>47.000000</td>\n",
              "      <td>3.000000</td>\n",
              "      <td>112.000000</td>\n",
              "      <td>26.000000</td>\n",
              "      <td>17.000000</td>\n",
              "      <td>118.000000</td>\n",
              "      <td>130.000000</td>\n",
              "      <td>184.000000</td>\n",
              "      <td>112.000000</td>\n",
              "      <td>60.000000</td>\n",
              "      <td>0.000000</td>\n",
              "      <td>0.000000</td>\n",
              "      <td>176.000000</td>\n",
              "      <td>181.000000</td>\n",
              "    </tr>\n",
              "    <tr>\n",
              "      <th>25%</th>\n",
              "      <td>227.000000</td>\n",
              "      <td>88.000000</td>\n",
              "      <td>40.000000</td>\n",
              "      <td>70.000000</td>\n",
              "      <td>142.000000</td>\n",
              "      <td>57.000000</td>\n",
              "      <td>7.000000</td>\n",
              "      <td>147.000000</td>\n",
              "      <td>33.000000</td>\n",
              "      <td>19.000000</td>\n",
              "      <td>138.000000</td>\n",
              "      <td>168.000000</td>\n",
              "      <td>321.000000</td>\n",
              "      <td>152.000000</td>\n",
              "      <td>67.000000</td>\n",
              "      <td>2.000000</td>\n",
              "      <td>6.000000</td>\n",
              "      <td>185.000000</td>\n",
              "      <td>191.000000</td>\n",
              "    </tr>\n",
              "    <tr>\n",
              "      <th>50%</th>\n",
              "      <td>419.000000</td>\n",
              "      <td>92.000000</td>\n",
              "      <td>44.000000</td>\n",
              "      <td>80.000000</td>\n",
              "      <td>167.000000</td>\n",
              "      <td>61.000000</td>\n",
              "      <td>8.000000</td>\n",
              "      <td>157.000000</td>\n",
              "      <td>43.000000</td>\n",
              "      <td>20.000000</td>\n",
              "      <td>146.000000</td>\n",
              "      <td>179.000000</td>\n",
              "      <td>365.000000</td>\n",
              "      <td>174.000000</td>\n",
              "      <td>71.000000</td>\n",
              "      <td>6.000000</td>\n",
              "      <td>11.000000</td>\n",
              "      <td>188.000000</td>\n",
              "      <td>197.000000</td>\n",
              "    </tr>\n",
              "    <tr>\n",
              "      <th>75%</th>\n",
              "      <td>626.000000</td>\n",
              "      <td>99.000000</td>\n",
              "      <td>49.000000</td>\n",
              "      <td>98.000000</td>\n",
              "      <td>195.000000</td>\n",
              "      <td>65.000000</td>\n",
              "      <td>10.000000</td>\n",
              "      <td>198.000000</td>\n",
              "      <td>46.000000</td>\n",
              "      <td>23.000000</td>\n",
              "      <td>159.000000</td>\n",
              "      <td>217.000000</td>\n",
              "      <td>587.000000</td>\n",
              "      <td>199.000000</td>\n",
              "      <td>75.000000</td>\n",
              "      <td>9.000000</td>\n",
              "      <td>19.000000</td>\n",
              "      <td>193.000000</td>\n",
              "      <td>201.000000</td>\n",
              "    </tr>\n",
              "    <tr>\n",
              "      <th>max</th>\n",
              "      <td>845.000000</td>\n",
              "      <td>115.000000</td>\n",
              "      <td>59.000000</td>\n",
              "      <td>110.000000</td>\n",
              "      <td>333.000000</td>\n",
              "      <td>138.000000</td>\n",
              "      <td>55.000000</td>\n",
              "      <td>265.000000</td>\n",
              "      <td>61.000000</td>\n",
              "      <td>29.000000</td>\n",
              "      <td>188.000000</td>\n",
              "      <td>320.000000</td>\n",
              "      <td>1018.000000</td>\n",
              "      <td>262.000000</td>\n",
              "      <td>135.000000</td>\n",
              "      <td>22.000000</td>\n",
              "      <td>41.000000</td>\n",
              "      <td>206.000000</td>\n",
              "      <td>211.000000</td>\n",
              "    </tr>\n",
              "  </tbody>\n",
              "</table>\n",
              "</div>\n",
              "      <button class=\"colab-df-convert\" onclick=\"convertToInteractive('df-dac38f45-6df8-4492-a939-750c45f4a451')\"\n",
              "              title=\"Convert this dataframe to an interactive table.\"\n",
              "              style=\"display:none;\">\n",
              "        \n",
              "  <svg xmlns=\"http://www.w3.org/2000/svg\" height=\"24px\"viewBox=\"0 0 24 24\"\n",
              "       width=\"24px\">\n",
              "    <path d=\"M0 0h24v24H0V0z\" fill=\"none\"/>\n",
              "    <path d=\"M18.56 5.44l.94 2.06.94-2.06 2.06-.94-2.06-.94-.94-2.06-.94 2.06-2.06.94zm-11 1L8.5 8.5l.94-2.06 2.06-.94-2.06-.94L8.5 2.5l-.94 2.06-2.06.94zm10 10l.94 2.06.94-2.06 2.06-.94-2.06-.94-.94-2.06-.94 2.06-2.06.94z\"/><path d=\"M17.41 7.96l-1.37-1.37c-.4-.4-.92-.59-1.43-.59-.52 0-1.04.2-1.43.59L10.3 9.45l-7.72 7.72c-.78.78-.78 2.05 0 2.83L4 21.41c.39.39.9.59 1.41.59.51 0 1.02-.2 1.41-.59l7.78-7.78 2.81-2.81c.8-.78.8-2.07 0-2.86zM5.41 20L4 18.59l7.72-7.72 1.47 1.35L5.41 20z\"/>\n",
              "  </svg>\n",
              "      </button>\n",
              "      \n",
              "  <style>\n",
              "    .colab-df-container {\n",
              "      display:flex;\n",
              "      flex-wrap:wrap;\n",
              "      gap: 12px;\n",
              "    }\n",
              "\n",
              "    .colab-df-convert {\n",
              "      background-color: #E8F0FE;\n",
              "      border: none;\n",
              "      border-radius: 50%;\n",
              "      cursor: pointer;\n",
              "      display: none;\n",
              "      fill: #1967D2;\n",
              "      height: 32px;\n",
              "      padding: 0 0 0 0;\n",
              "      width: 32px;\n",
              "    }\n",
              "\n",
              "    .colab-df-convert:hover {\n",
              "      background-color: #E2EBFA;\n",
              "      box-shadow: 0px 1px 2px rgba(60, 64, 67, 0.3), 0px 1px 3px 1px rgba(60, 64, 67, 0.15);\n",
              "      fill: #174EA6;\n",
              "    }\n",
              "\n",
              "    [theme=dark] .colab-df-convert {\n",
              "      background-color: #3B4455;\n",
              "      fill: #D2E3FC;\n",
              "    }\n",
              "\n",
              "    [theme=dark] .colab-df-convert:hover {\n",
              "      background-color: #434B5C;\n",
              "      box-shadow: 0px 1px 3px 1px rgba(0, 0, 0, 0.15);\n",
              "      filter: drop-shadow(0px 1px 2px rgba(0, 0, 0, 0.3));\n",
              "      fill: #FFFFFF;\n",
              "    }\n",
              "  </style>\n",
              "\n",
              "      <script>\n",
              "        const buttonEl =\n",
              "          document.querySelector('#df-dac38f45-6df8-4492-a939-750c45f4a451 button.colab-df-convert');\n",
              "        buttonEl.style.display =\n",
              "          google.colab.kernel.accessAllowed ? 'block' : 'none';\n",
              "\n",
              "        async function convertToInteractive(key) {\n",
              "          const element = document.querySelector('#df-dac38f45-6df8-4492-a939-750c45f4a451');\n",
              "          const dataTable =\n",
              "            await google.colab.kernel.invokeFunction('convertToInteractive',\n",
              "                                                     [key], {});\n",
              "          if (!dataTable) return;\n",
              "\n",
              "          const docLinkHtml = 'Like what you see? Visit the ' +\n",
              "            '<a target=\"_blank\" href=https://colab.research.google.com/notebooks/data_table.ipynb>data table notebook</a>'\n",
              "            + ' to learn more about interactive tables.';\n",
              "          element.innerHTML = '';\n",
              "          dataTable['output_type'] = 'display_data';\n",
              "          await google.colab.output.renderOutput(dataTable, element);\n",
              "          const docLink = document.createElement('div');\n",
              "          docLink.innerHTML = docLinkHtml;\n",
              "          element.appendChild(docLink);\n",
              "        }\n",
              "      </script>\n",
              "    </div>\n",
              "  </div>\n",
              "  "
            ]
          },
          "metadata": {},
          "execution_count": 47
        }
      ],
      "source": [
        "X_train_pd.describe()"
      ]
    },
    {
      "cell_type": "code",
      "execution_count": 48,
      "metadata": {
        "colab": {
          "base_uri": "https://localhost:8080/"
        },
        "id": "i6hO14PaVlvm",
        "outputId": "3f1bc1d4-af7c-4507-b0b6-6eb3d09a6aec"
      },
      "outputs": [
        {
          "output_type": "stream",
          "name": "stdout",
          "text": [
            "<class 'pandas.core.frame.DataFrame'>\n",
            "RangeIndex: 549 entries, 0 to 548\n",
            "Data columns (total 19 columns):\n",
            " #   Column  Non-Null Count  Dtype\n",
            "---  ------  --------------  -----\n",
            " 0   0       549 non-null    int64\n",
            " 1   1       549 non-null    int64\n",
            " 2   2       549 non-null    int64\n",
            " 3   3       549 non-null    int64\n",
            " 4   4       549 non-null    int64\n",
            " 5   5       549 non-null    int64\n",
            " 6   6       549 non-null    int64\n",
            " 7   7       549 non-null    int64\n",
            " 8   8       549 non-null    int64\n",
            " 9   9       549 non-null    int64\n",
            " 10  10      549 non-null    int64\n",
            " 11  11      549 non-null    int64\n",
            " 12  12      549 non-null    int64\n",
            " 13  13      549 non-null    int64\n",
            " 14  14      549 non-null    int64\n",
            " 15  15      549 non-null    int64\n",
            " 16  16      549 non-null    int64\n",
            " 17  17      549 non-null    int64\n",
            " 18  18      549 non-null    int64\n",
            "dtypes: int64(19)\n",
            "memory usage: 81.6 KB\n"
          ]
        }
      ],
      "source": [
        "X_train_pd.info()"
      ]
    },
    {
      "cell_type": "markdown",
      "metadata": {
        "nbgrader": {
          "grade": false,
          "grade_id": "cell-be844269be69c387",
          "locked": true,
          "schema_version": 2,
          "solution": false
        },
        "id": "XUHqMNLfVlvn"
      },
      "source": [
        "### 2. Machine Learning pipeline\n",
        "Here you are supposed to perform the desired transformations. Please, explain your results briefly after each task."
      ]
    },
    {
      "cell_type": "markdown",
      "metadata": {
        "id": "3MM_9KzSVlvo"
      },
      "source": [
        "#### 2.0. Data preprocessing\n",
        "* Make some transformations of the dataset (if necessary). Briefly explain the transformations"
      ]
    },
    {
      "cell_type": "code",
      "execution_count": 15,
      "metadata": {
        "nbgrader": {
          "grade": true,
          "grade_id": "cell-a1514aa189a49fca",
          "locked": false,
          "points": 15,
          "schema_version": 2,
          "solution": true
        },
        "cellView": "code",
        "id": "4sMJ023hVlvo"
      },
      "outputs": [],
      "source": [
        "from sklearn.preprocessing import StandardScaler"
      ]
    },
    {
      "cell_type": "code",
      "source": [
        "scaler = StandardScaler()\n",
        "scaler.fit(X_train)\n",
        "X_train = scaler.transform(X_train)\n",
        "X_test = scaler.transform(X_test)"
      ],
      "metadata": {
        "id": "lGsBA8c1XAb7"
      },
      "execution_count": 16,
      "outputs": []
    },
    {
      "cell_type": "markdown",
      "metadata": {
        "id": "6mhHH4uWVlvp"
      },
      "source": [
        "#### 2.1. Basic logistic regression\n",
        "* Find optimal hyperparameters for logistic regression with cross-validation on the `train` data (small grid/random search is enough, no need to find the *best* parameters).\n",
        "\n",
        "* Estimate the model quality with `f1` and `accuracy` scores.\n",
        "* Plot a ROC-curve for the trained model. For the multiclass case you might use `scikitplot` library (e.g. `scikitplot.metrics.plot_roc(test_labels, predicted_proba)`).\n",
        "\n",
        "*Note: please, use the following hyperparameters for logistic regression: `multi_class='multinomial'`, `solver='saga'` `tol=1e-3` and ` max_iter=500`.*"
      ]
    },
    {
      "cell_type": "code",
      "execution_count": 17,
      "metadata": {
        "colab": {
          "base_uri": "https://localhost:8080/"
        },
        "id": "xV6BC1uTVlvq",
        "outputId": "ed7fa57c-9529-4667-d94f-fa786e24e378"
      },
      "outputs": [
        {
          "output_type": "stream",
          "name": "stdout",
          "text": [
            "Looking in indexes: https://pypi.org/simple, https://us-python.pkg.dev/colab-wheels/public/simple/\n",
            "Requirement already satisfied: scikit-plot in /usr/local/lib/python3.7/dist-packages (0.3.7)\n",
            "Requirement already satisfied: joblib>=0.10 in /usr/local/lib/python3.7/dist-packages (from scikit-plot) (1.2.0)\n",
            "Requirement already satisfied: scipy>=0.9 in /usr/local/lib/python3.7/dist-packages (from scikit-plot) (1.7.3)\n",
            "Requirement already satisfied: matplotlib>=1.4.0 in /usr/local/lib/python3.7/dist-packages (from scikit-plot) (3.2.2)\n",
            "Requirement already satisfied: scikit-learn>=0.18 in /usr/local/lib/python3.7/dist-packages (from scikit-plot) (1.0.2)\n",
            "Requirement already satisfied: kiwisolver>=1.0.1 in /usr/local/lib/python3.7/dist-packages (from matplotlib>=1.4.0->scikit-plot) (1.4.4)\n",
            "Requirement already satisfied: cycler>=0.10 in /usr/local/lib/python3.7/dist-packages (from matplotlib>=1.4.0->scikit-plot) (0.11.0)\n",
            "Requirement already satisfied: python-dateutil>=2.1 in /usr/local/lib/python3.7/dist-packages (from matplotlib>=1.4.0->scikit-plot) (2.8.2)\n",
            "Requirement already satisfied: pyparsing!=2.0.4,!=2.1.2,!=2.1.6,>=2.0.1 in /usr/local/lib/python3.7/dist-packages (from matplotlib>=1.4.0->scikit-plot) (3.0.9)\n",
            "Requirement already satisfied: numpy>=1.11 in /usr/local/lib/python3.7/dist-packages (from matplotlib>=1.4.0->scikit-plot) (1.21.6)\n",
            "Requirement already satisfied: typing-extensions in /usr/local/lib/python3.7/dist-packages (from kiwisolver>=1.0.1->matplotlib>=1.4.0->scikit-plot) (4.1.1)\n",
            "Requirement already satisfied: six>=1.5 in /usr/local/lib/python3.7/dist-packages (from python-dateutil>=2.1->matplotlib>=1.4.0->scikit-plot) (1.15.0)\n",
            "Requirement already satisfied: threadpoolctl>=2.0.0 in /usr/local/lib/python3.7/dist-packages (from scikit-learn>=0.18->scikit-plot) (3.1.0)\n"
          ]
        }
      ],
      "source": [
        "# You might use this command to install scikit-plot. \n",
        "# Warning, if you a running locally, don't call pip from within jupyter, call it from terminal in the corresponding \n",
        "# virtual environment instead\n",
        "! pip install scikit-plot"
      ]
    },
    {
      "cell_type": "code",
      "execution_count": 18,
      "metadata": {
        "nbgrader": {
          "grade": true,
          "grade_id": "cell-1dd5ad5d0845cbbb",
          "locked": false,
          "points": 5,
          "schema_version": 2,
          "solution": true
        },
        "id": "KzL-1xPpVlvp"
      },
      "outputs": [],
      "source": [
        "from sklearn.model_selection import GridSearchCV\n",
        "from sklearn.linear_model import LogisticRegression\n",
        "from sklearn.metrics import accuracy_score\n",
        "from sklearn.metrics import f1_score\n",
        "\n",
        "from scikitplot.metrics import plot_roc"
      ]
    },
    {
      "cell_type": "code",
      "source": [
        "log_reg = LogisticRegression(multi_class='multinomial', solver='saga', tol=1e-3, max_iter=500, n_jobs = -1)\n",
        "\n",
        "params = {\n",
        "    'penalty': ['l1', 'l2', 'elasticnet'],\n",
        "    'C': np.arange(0.1, 2, 0.1)}\n",
        "\n",
        "clf = GridSearchCV(estimator=log_reg, param_grid=params, n_jobs=-1)\n",
        "clf.fit(X_train, y_train)\n",
        "\n",
        "best_log_reg = clf.best_estimator_\n",
        "print(best_log_reg)"
      ],
      "metadata": {
        "colab": {
          "base_uri": "https://localhost:8080/"
        },
        "id": "q8DxRU9VZ7gg",
        "outputId": "99d34912-5917-459a-8f59-9c0b36cba0d8"
      },
      "execution_count": 19,
      "outputs": [
        {
          "output_type": "stream",
          "name": "stderr",
          "text": [
            "/usr/local/lib/python3.7/dist-packages/sklearn/model_selection/_validation.py:372: FitFailedWarning: \n",
            "95 fits failed out of a total of 285.\n",
            "The score on these train-test partitions for these parameters will be set to nan.\n",
            "If these failures are not expected, you can try to debug them by setting error_score='raise'.\n",
            "\n",
            "Below are more details about the failures:\n",
            "--------------------------------------------------------------------------------\n",
            "95 fits failed with the following error:\n",
            "Traceback (most recent call last):\n",
            "  File \"/usr/local/lib/python3.7/dist-packages/sklearn/model_selection/_validation.py\", line 680, in _fit_and_score\n",
            "    estimator.fit(X_train, y_train, **fit_params)\n",
            "  File \"/usr/local/lib/python3.7/dist-packages/sklearn/linear_model/_logistic.py\", line 1473, in fit\n",
            "    % self.l1_ratio\n",
            "ValueError: l1_ratio must be between 0 and 1; got (l1_ratio=None)\n",
            "\n",
            "  warnings.warn(some_fits_failed_message, FitFailedWarning)\n",
            "/usr/local/lib/python3.7/dist-packages/sklearn/model_selection/_search.py:972: UserWarning: One or more of the test scores are non-finite: [0.65211009 0.71404504        nan 0.69219349 0.72859049        nan\n",
            " 0.72138449 0.73771476        nan 0.73954962 0.74316931        nan\n",
            " 0.74136781 0.75774812        nan 0.74316931 0.75591326        nan\n",
            " 0.74862385 0.75044204        nan 0.74860717 0.75045872        nan\n",
            " 0.75589658 0.7522769         nan 0.75773144 0.7522769         nan\n",
            " 0.75591326 0.7522769         nan 0.75773144 0.75409508        nan\n",
            " 0.75591326 0.75409508        nan 0.75774812 0.75409508        nan\n",
            " 0.75956631 0.75591326        nan 0.75956631 0.75774812        nan\n",
            " 0.75774812 0.75956631        nan 0.75592994 0.75956631        nan\n",
            " 0.75411176 0.75774812        nan]\n",
            "  category=UserWarning,\n"
          ]
        },
        {
          "output_type": "stream",
          "name": "stdout",
          "text": [
            "LogisticRegression(C=1.5000000000000002, max_iter=500,\n",
            "                   multi_class='multinomial', n_jobs=-1, penalty='l1',\n",
            "                   solver='saga', tol=0.001)\n"
          ]
        }
      ]
    },
    {
      "cell_type": "code",
      "source": [
        "y_pred = clf.predict(X_test)\n",
        "\n",
        "print('accuracy = ', accuracy_score(y_test, y_pred))\n",
        "print('f1 = ', f1_score(y_test, y_pred, average='weighted'))"
      ],
      "metadata": {
        "colab": {
          "base_uri": "https://localhost:8080/"
        },
        "id": "C9dfjinBaEGI",
        "outputId": "9be67861-6181-4037-eb1e-bface1d9b796"
      },
      "execution_count": 20,
      "outputs": [
        {
          "output_type": "stream",
          "name": "stdout",
          "text": [
            "accuracy =  0.797979797979798\n",
            "f1 =  0.7944437864320858\n"
          ]
        }
      ]
    },
    {
      "cell_type": "code",
      "source": [
        "predicted_proba = clf.predict_proba(X_test)\n",
        "\n",
        "plot_roc(y_test, predicted_proba, figsize=(7, 6))"
      ],
      "metadata": {
        "colab": {
          "base_uri": "https://localhost:8080/",
          "height": 422
        },
        "id": "22avtEZ2aHEO",
        "outputId": "7b94f86b-b8d7-42e2-9d6b-53ff153808a1"
      },
      "execution_count": 21,
      "outputs": [
        {
          "output_type": "execute_result",
          "data": {
            "text/plain": [
              "<matplotlib.axes._subplots.AxesSubplot at 0x7f1ad42e7650>"
            ]
          },
          "metadata": {},
          "execution_count": 21
        },
        {
          "output_type": "display_data",
          "data": {
            "text/plain": [
              "<Figure size 504x432 with 1 Axes>"
            ],
            "image/png": "[encoded data removed]"
          },
          "metadata": {
            "needs_background": "light"
          }
        }
      ]
    },
    {
      "cell_type": "markdown",
      "metadata": {
        "id": "TJiHqYy-Vlvr"
      },
      "source": [
        "#### 2.2. PCA: explained variance plot\n",
        "* Apply the PCA to the train part of the data. Build the explaided variance plot. "
      ]
    },
    {
      "cell_type": "code",
      "execution_count": 22,
      "metadata": {
        "nbgrader": {
          "grade": true,
          "grade_id": "cell-c6c614740bce090e",
          "locked": false,
          "points": 10,
          "schema_version": 2,
          "solution": true
        },
        "id": "Nghxy-OVVlvs"
      },
      "outputs": [],
      "source": [
        "import matplotlib.pyplot as plt\n",
        "from sklearn.decomposition import PCA"
      ]
    },
    {
      "cell_type": "code",
      "source": [
        "n_components = list(range(1, X_train.shape[1]))\n",
        "\n",
        "ratio = []\n",
        "for n in n_components:\n",
        "    pca = PCA(n)\n",
        "    pca.fit(X_train)\n",
        "    ratio.append(np.sum(pca.explained_variance_ratio_))\n",
        "    \n",
        "plt.figure(figsize=(7, 6))\n",
        "plt.plot(n_components, ratio)\n",
        "plt.xlabel('features')\n",
        "plt.ylabel('variance ratio')"
      ],
      "metadata": {
        "colab": {
          "base_uri": "https://localhost:8080/",
          "height": 406
        },
        "id": "sJV8GmzJaKYe",
        "outputId": "c793aac8-d034-4f48-a1d2-ec69ecf9f741"
      },
      "execution_count": 23,
      "outputs": [
        {
          "output_type": "execute_result",
          "data": {
            "text/plain": [
              "Text(0, 0.5, 'variance ratio')"
            ]
          },
          "metadata": {},
          "execution_count": 23
        },
        {
          "output_type": "display_data",
          "data": {
            "text/plain": [
              "<Figure size 504x432 with 1 Axes>"
            ],
            "image/png": "[encoded data removed]"
          },
          "metadata": {
            "needs_background": "light"
          }
        }
      ]
    },
    {
      "cell_type": "markdown",
      "metadata": {
        "nbgrader": {
          "grade": false,
          "grade_id": "cell-0c1fe666f52fe53c",
          "locked": true,
          "schema_version": 2,
          "solution": false
        },
        "id": "TLsLBHatVlvs"
      },
      "source": [
        "#### 2.3. PCA trasformation\n",
        "* Select the appropriate number of components. Briefly explain your choice. Should you normalize the data?\n",
        "\n",
        "*Use `fit` and `transform` methods to transform the `train` and `test` parts.*"
      ]
    },
    {
      "cell_type": "markdown",
      "source": [
        "Из предыдущего графика видно, что ratio после 13-14 фичей перестает расти, с учетом этого возьмем:"
      ],
      "metadata": {
        "id": "A49z2BnFaQAD"
      }
    },
    {
      "cell_type": "code",
      "execution_count": 24,
      "metadata": {
        "nbgrader": {
          "grade": true,
          "grade_id": "cell-96ab18d96473ef71",
          "locked": false,
          "points": 5,
          "schema_version": 2,
          "solution": true
        },
        "id": "r83ln4mqVlvt"
      },
      "outputs": [],
      "source": [
        "pca = PCA(13)\n",
        "X_train_pca = pca.fit_transform(X_train)\n",
        "X_test_pca = pca.transform(X_test)"
      ]
    },
    {
      "cell_type": "markdown",
      "metadata": {
        "id": "Wd_qoDIgVlvt"
      },
      "source": [
        "**Note: From this point `sklearn` [Pipeline](https://scikit-learn.org/stable/modules/compose.html) might be useful to perform transformations on the data. Refer to the [docs](https://scikit-learn.org/stable/modules/generated/sklearn.pipeline.Pipeline.html) for more information.**"
      ]
    },
    {
      "cell_type": "markdown",
      "metadata": {
        "nbgrader": {
          "grade": false,
          "grade_id": "cell-d28b58a35c94e988",
          "locked": true,
          "schema_version": 2,
          "solution": false
        },
        "id": "pg6W1xyoVlvu"
      },
      "source": [
        "#### 2.4. Logistic regression on PCA-preprocessed data.\n",
        "* Find optimal hyperparameters for logistic regression with cross-validation on the transformed by PCA `train` data.\n",
        "\n",
        "* Estimate the model quality with `f1` and `accuracy` scores.\n",
        "* Plot a ROC-curve for the trained model. For the multiclass case you might use `scikitplot` library (e.g. `scikitplot.metrics.plot_roc(test_labels, predicted_proba)`).\n",
        "\n",
        "*Note: please, use the following hyperparameters for logistic regression: `multi_class='multinomial'`, `solver='saga'` and `tol=1e-3`*"
      ]
    },
    {
      "cell_type": "code",
      "execution_count": 25,
      "metadata": {
        "nbgrader": {
          "grade": true,
          "grade_id": "cell-12d53ea45258fa82",
          "locked": false,
          "points": 5,
          "schema_version": 2,
          "solution": true
        },
        "colab": {
          "base_uri": "https://localhost:8080/"
        },
        "id": "ZtwWv60nVlvu",
        "outputId": "586b6860-982d-4083-e231-8ab820811ce2"
      },
      "outputs": [
        {
          "output_type": "stream",
          "name": "stderr",
          "text": [
            "/usr/local/lib/python3.7/dist-packages/sklearn/model_selection/_validation.py:372: FitFailedWarning: \n",
            "95 fits failed out of a total of 285.\n",
            "The score on these train-test partitions for these parameters will be set to nan.\n",
            "If these failures are not expected, you can try to debug them by setting error_score='raise'.\n",
            "\n",
            "Below are more details about the failures:\n",
            "--------------------------------------------------------------------------------\n",
            "95 fits failed with the following error:\n",
            "Traceback (most recent call last):\n",
            "  File \"/usr/local/lib/python3.7/dist-packages/sklearn/model_selection/_validation.py\", line 680, in _fit_and_score\n",
            "    estimator.fit(X_train, y_train, **fit_params)\n",
            "  File \"/usr/local/lib/python3.7/dist-packages/sklearn/linear_model/_logistic.py\", line 1473, in fit\n",
            "    % self.l1_ratio\n",
            "ValueError: l1_ratio must be between 0 and 1; got (l1_ratio=None)\n",
            "\n",
            "  warnings.warn(some_fits_failed_message, FitFailedWarning)\n",
            "/usr/local/lib/python3.7/dist-packages/sklearn/model_selection/_search.py:972: UserWarning: One or more of the test scores are non-finite: [0.6647206  0.7176814         nan 0.721201   0.72495413        nan\n",
            " 0.733995   0.73404504        nan 0.75224354 0.7376814         nan\n",
            " 0.75224354 0.73949958        nan 0.74677231 0.74313595        nan\n",
            " 0.74495413 0.73949958        nan 0.74675563 0.73586322        nan\n",
            " 0.74675563 0.74133445        nan 0.74677231 0.73769808        nan\n",
            " 0.74678899 0.73951626        nan 0.74860717 0.74315263        nan\n",
            " 0.74860717 0.74497081        nan 0.74860717 0.74315263        nan\n",
            " 0.74860717 0.74497081        nan 0.75224354 0.74497081        nan\n",
            " 0.75224354 0.74678899        nan 0.75042535 0.74678899        nan\n",
            " 0.75042535 0.74678899        nan]\n",
            "  category=UserWarning,\n"
          ]
        },
        {
          "output_type": "stream",
          "name": "stdout",
          "text": [
            "LogisticRegression(C=0.4, max_iter=500, multi_class='multinomial', n_jobs=-1,\n",
            "                   penalty='l1', solver='saga', tol=0.001)\n"
          ]
        }
      ],
      "source": [
        "log_reg = LogisticRegression(multi_class='multinomial', solver='saga', tol=1e-3, max_iter=500, n_jobs=-1)\n",
        "\n",
        "params = {\n",
        "    'penalty': ['l1', 'l2', 'elasticnet'],\n",
        "    'C': np.arange(0.1, 2, 0.1)}\n",
        "\n",
        "clf = GridSearchCV(estimator=log_reg, param_grid=params, n_jobs=-1)\n",
        "clf.fit(X_train_pca, y_train)\n",
        "\n",
        "best_log_reg_pca = clf.best_estimator_\n",
        "print(best_log_reg_pca)"
      ]
    },
    {
      "cell_type": "code",
      "source": [
        "y_pred = clf.predict(X_test_pca)\n",
        "\n",
        "print('accuracy = ', accuracy_score(y_test, y_pred))\n",
        "print('f1 = ', f1_score(y_test, y_pred, average='weighted'))"
      ],
      "metadata": {
        "colab": {
          "base_uri": "https://localhost:8080/"
        },
        "id": "_YLFZaAWafxs",
        "outputId": "ecbc9d6f-09c5-4b09-a75d-df76d02113a5"
      },
      "execution_count": 26,
      "outputs": [
        {
          "output_type": "stream",
          "name": "stdout",
          "text": [
            "accuracy =  0.7575757575757576\n",
            "f1 =  0.7530166265675068\n"
          ]
        }
      ]
    },
    {
      "cell_type": "markdown",
      "source": [
        "Заметим, что ухудшилось качество модели, но это логично, так как уменьшили размерность пространства признаков.\n"
      ],
      "metadata": {
        "id": "5r8QzhDsamf7"
      }
    },
    {
      "cell_type": "code",
      "source": [
        "predicted_proba = clf.predict_proba(X_test_pca)\n",
        "\n",
        "plot_roc(y_test, predicted_proba, figsize=(7,6))"
      ],
      "metadata": {
        "colab": {
          "base_uri": "https://localhost:8080/",
          "height": 422
        },
        "id": "VLv4ssFvah5g",
        "outputId": "3c4bffbc-ed5e-42e3-9b1f-c2d72a3dfefe"
      },
      "execution_count": 27,
      "outputs": [
        {
          "output_type": "execute_result",
          "data": {
            "text/plain": [
              "<matplotlib.axes._subplots.AxesSubplot at 0x7f1ad1faa7d0>"
            ]
          },
          "metadata": {},
          "execution_count": 27
        },
        {
          "output_type": "display_data",
          "data": {
            "text/plain": [
              "<Figure size 504x432 with 1 Axes>"
            ],
            "image/png": "[encoded data removed]"
          },
          "metadata": {
            "needs_background": "light"
          }
        }
      ]
    },
    {
      "cell_type": "markdown",
      "metadata": {
        "nbgrader": {
          "grade": false,
          "grade_id": "cell-4fbf16c64076e139",
          "locked": true,
          "schema_version": 2,
          "solution": false
        },
        "id": "3rstZSfzVlvv"
      },
      "source": [
        "#### 2.5. Decision tree\n",
        "* Now train a desicion tree on the same data. Find optimal tree depth (`max_depth`) using cross-validation.\n",
        "\n",
        "* Measure the model quality using the same metrics you used above."
      ]
    },
    {
      "cell_type": "code",
      "execution_count": 28,
      "metadata": {
        "nbgrader": {
          "grade": true,
          "grade_id": "cell-748ed20b51c67fab",
          "locked": false,
          "points": 15,
          "schema_version": 2,
          "solution": true
        },
        "id": "eEjmTm5mVlvv"
      },
      "outputs": [],
      "source": [
        "from sklearn.tree import DecisionTreeClassifier\n",
        "\n",
        "# YOUR CODE HERE"
      ]
    },
    {
      "cell_type": "code",
      "source": [
        "tree = DecisionTreeClassifier()\n",
        "params = {'max_depth': list(range(1, 100))}\n",
        "\n",
        "clf = GridSearchCV(estimator=tree, param_grid=params, n_jobs=-1)\n",
        "clf.fit(X_train, y_train)\n",
        "\n",
        "best_tree = clf.best_estimator_\n",
        "print(best_tree)"
      ],
      "metadata": {
        "colab": {
          "base_uri": "https://localhost:8080/"
        },
        "id": "mi8sZHnoasUi",
        "outputId": "5d22ff0d-da7e-47e8-ad67-8a1242ff71d3"
      },
      "execution_count": 29,
      "outputs": [
        {
          "output_type": "stream",
          "name": "stdout",
          "text": [
            "DecisionTreeClassifier(max_depth=98)\n"
          ]
        }
      ]
    },
    {
      "cell_type": "code",
      "source": [
        "y_pred = clf.predict(X_test)\n",
        "\n",
        "print('accuracy = ', accuracy_score(y_test, y_pred))\n",
        "print('f1 = ', f1_score(y_test, y_pred, average='weighted'))"
      ],
      "metadata": {
        "colab": {
          "base_uri": "https://localhost:8080/"
        },
        "id": "ibIa9PqGaubM",
        "outputId": "136d335c-efa1-41ac-9612-057b5a177b6d"
      },
      "execution_count": 30,
      "outputs": [
        {
          "output_type": "stream",
          "name": "stdout",
          "text": [
            "accuracy =  0.7306397306397306\n",
            "f1 =  0.7306785932846286\n"
          ]
        }
      ]
    },
    {
      "cell_type": "code",
      "source": [
        "predicted_proba = clf.predict_proba(X_test)\n",
        "\n",
        "plot_roc(y_test, predicted_proba, figsize=(7,6))"
      ],
      "metadata": {
        "colab": {
          "base_uri": "https://localhost:8080/",
          "height": 107
        },
        "id": "SgU6a7IRaxBl",
        "outputId": "6642e39d-e855-4ab4-bd6e-71d09da355e8"
      },
      "execution_count": 31,
      "outputs": [
        {
          "output_type": "execute_result",
          "data": {
            "text/plain": [
              "<matplotlib.axes._subplots.AxesSubplot at 0x7f1ad0b96810>"
            ]
          },
          "metadata": {},
          "execution_count": 31
        },
        {
          "output_type": "display_data",
          "data": {
            "text/plain": [
              "<Figure size 504x432 with 1 Axes>"
            ],
            "image/png": "[encoded data removed]"
          },
          "metadata": {
            "needs_background": "light"
          }
        }
      ]
    },
    {
      "cell_type": "markdown",
      "source": [
        "До этого обучали на всех признаках, теперь применим pca"
      ],
      "metadata": {
        "id": "8_smsFTIazd1"
      }
    },
    {
      "cell_type": "code",
      "source": [
        "tree = DecisionTreeClassifier()\n",
        "params = {'max_depth': list(range(1, 100))}\n",
        "\n",
        "clf = GridSearchCV(estimator=tree, param_grid=params, n_jobs=-1)\n",
        "clf.fit(X_train_pca, y_train)\n",
        "\n",
        "best_tree_pca = clf.best_estimator_\n",
        "print(best_tree_pca)"
      ],
      "metadata": {
        "colab": {
          "base_uri": "https://localhost:8080/"
        },
        "id": "8MpVyJEsa2Iq",
        "outputId": "d5ff404e-e375-4e57-872d-e1dea4d30ebf"
      },
      "execution_count": 32,
      "outputs": [
        {
          "output_type": "stream",
          "name": "stdout",
          "text": [
            "DecisionTreeClassifier(max_depth=13)\n"
          ]
        }
      ]
    },
    {
      "cell_type": "code",
      "source": [
        "y_pred = clf.predict(X_test_pca)\n",
        "\n",
        "print('accuracy = ', accuracy_score(y_test, y_pred))\n",
        "print('f1 = ', f1_score(y_test, y_pred, average='weighted'))"
      ],
      "metadata": {
        "colab": {
          "base_uri": "https://localhost:8080/"
        },
        "id": "Z83hAf25a4Gc",
        "outputId": "3042fe76-34d8-40fd-b101-dbe012868786"
      },
      "execution_count": 33,
      "outputs": [
        {
          "output_type": "stream",
          "name": "stdout",
          "text": [
            "accuracy =  0.7104377104377104\n",
            "f1 =  0.7114948446584641\n"
          ]
        }
      ]
    },
    {
      "cell_type": "code",
      "source": [
        "predicted_proba = clf.predict_proba(X_test_pca)\n",
        "\n",
        "plot_roc(y_test, predicted_proba, figsize=(7,6))"
      ],
      "metadata": {
        "colab": {
          "base_uri": "https://localhost:8080/",
          "height": 107
        },
        "id": "u8tOUISVa55B",
        "outputId": "4a11d8d4-7b37-4d06-a6f4-4ff55a3474c7"
      },
      "execution_count": 34,
      "outputs": [
        {
          "output_type": "execute_result",
          "data": {
            "text/plain": [
              "<matplotlib.axes._subplots.AxesSubplot at 0x7f1ad3e76f10>"
            ]
          },
          "metadata": {},
          "execution_count": 34
        },
        {
          "output_type": "display_data",
          "data": {
            "text/plain": [
              "<Figure size 504x432 with 1 Axes>"
            ],
            "image/png": "[encoded data removed]"
          },
          "metadata": {
            "needs_background": "light"
          }
        }
      ]
    },
    {
      "cell_type": "markdown",
      "metadata": {
        "nbgrader": {
          "grade": false,
          "grade_id": "cell-9eadd4d8a03ae67a",
          "locked": true,
          "schema_version": 2,
          "solution": false
        },
        "id": "z9cUtp4JVlvw"
      },
      "source": [
        "#### 2.6. Bagging.\n",
        "Here starts the ensembling part.\n",
        "\n",
        "First we will use the __Bagging__ approach. Build an ensemble of $N$ algorithms varying N from $N_{min}=2$ to $N_{max}=100$ (with step 5).\n",
        "\n",
        "We will build two ensembles: of logistic regressions and of decision trees.\n",
        "\n",
        "*Comment: each ensemble should be constructed from models of the same family, so logistic regressions should not be mixed up with decision trees.*\n",
        "\n",
        "\n",
        "*Hint 1: To build a __Bagging__ ensebmle varying the ensemble size efficiently you might generate $N_{max}$ subsets of `train` data (of the same size as the original dataset) using bootstrap procedure once. Then you train a new instance of logistic regression/decision tree with optimal hyperparameters you estimated before on each subset (so you train it from scratch). Finally, to get an ensemble of $N$ models you average the $N$ out of $N_{max}$ models predictions.*\n",
        "\n",
        "*Hint 2: sklearn might help you with this taks. Some appropriate function/class might be out there.*\n",
        "\n",
        "* Plot `f1` and `accuracy` scores plots w.r.t. the size of the ensemble.\n",
        "\n",
        "* Briefly analyse the plot. What is the optimal number of algorithms? Explain your answer.\n",
        "\n",
        "* How do you think, are the hyperparameters for the decision trees you found in 2.5 optimal for trees used in ensemble? "
      ]
    },
    {
      "cell_type": "code",
      "execution_count": 35,
      "metadata": {
        "nbgrader": {
          "grade": true,
          "grade_id": "cell-8fc95a2b206bdae1",
          "locked": false,
          "points": 35,
          "schema_version": 2,
          "solution": true
        },
        "id": "dmJMsEAMVlvw"
      },
      "outputs": [],
      "source": [
        "from sklearn.ensemble import BaggingClassifier"
      ]
    },
    {
      "cell_type": "markdown",
      "metadata": {
        "id": "Ncd0sSMPbhzl"
      },
      "source": [
        "#### logreg"
      ]
    },
    {
      "cell_type": "code",
      "execution_count": 36,
      "metadata": {
        "colab": {
          "base_uri": "https://localhost:8080/",
          "height": 90
        },
        "id": "9eB7wwgdVlvw",
        "outputId": "69fb715c-ba42-4145-85a8-522d9d464310"
      },
      "outputs": [
        {
          "output_type": "execute_result",
          "data": {
            "text/plain": [
              "(0.0, 1.0)"
            ]
          },
          "metadata": {},
          "execution_count": 36
        },
        {
          "output_type": "display_data",
          "data": {
            "text/plain": [
              "<Figure size 1152x432 with 2 Axes>"
            ],
            "image/png": "[encoded data removed]"
          },
          "metadata": {
            "needs_background": "light"
          }
        }
      ],
      "source": [
        "n_algorithms = list(range(2, 100, 5))\n",
        "accuracy = []\n",
        "f1 = []\n",
        "\n",
        "for n in n_algorithms:\n",
        "    clf = BaggingClassifier(n_estimators=n, base_estimator=best_log_reg_pca)\n",
        "    clf.fit(X_train_pca, y_train)\n",
        "    \n",
        "    y_pred = clf.predict(X_test_pca)\n",
        "    accuracy.append(accuracy_score(y_test, y_pred))\n",
        "    f1.append(f1_score(y_test, y_pred, average='weighted'))\n",
        "    \n",
        "fig, (ax1, ax2) = plt.subplots(1, 2, figsize=(16, 6))\n",
        "fig.suptitle('logreg ensemble')\n",
        "ax1.plot(n_algorithms, accuracy)\n",
        "ax1.set_title('accuracy')\n",
        "ax1.set_ylim((0.0, 1.0))\n",
        "ax2.plot(n_algorithms, f1)\n",
        "ax2.set_title('f1')\n",
        "ax2.set_ylim((0.0, 1.0))"
      ]
    },
    {
      "cell_type": "markdown",
      "source": [],
      "metadata": {
        "id": "QY8ZL8sGbUQf"
      }
    },
    {
      "cell_type": "markdown",
      "metadata": {
        "id": "yOnL0x4PVvf9"
      },
      "source": [
        "#### decision tree"
      ]
    },
    {
      "cell_type": "code",
      "source": [
        "accuracy = []\n",
        "f1 = []\n",
        "\n",
        "for n in n_algorithms:\n",
        "    clf = BaggingClassifier(n_estimators=n, base_estimator=best_tree_pca)\n",
        "    clf.fit(X_train_pca, y_train)\n",
        "    \n",
        "    y_pred = clf.predict(X_test_pca)\n",
        "    accuracy.append(accuracy_score(y_test, y_pred))\n",
        "    f1.append(f1_score(y_test, y_pred, average='weighted'))"
      ],
      "metadata": {
        "id": "8bky8Thtbej2"
      },
      "execution_count": 37,
      "outputs": []
    },
    {
      "cell_type": "code",
      "source": [
        "fig, (ax1, ax2) = plt.subplots(1, 2, figsize=(16, 6))\n",
        "fig.suptitle('decision tree ensemble')\n",
        "ax1.plot(n_algorithms, accuracy)\n",
        "ax1.set_title('accuracy')\n",
        "ax1.set_ylim((0.0, 1.0))\n",
        "ax2.plot(n_algorithms, f1)\n",
        "ax2.set_title('f1')\n",
        "ax2.set_ylim((0.0, 1.0))"
      ],
      "metadata": {
        "colab": {
          "base_uri": "https://localhost:8080/",
          "height": 90
        },
        "id": "DGd2FdUVb0Y9",
        "outputId": "52ae70d8-649d-41c2-cc5b-4b96fb06416c"
      },
      "execution_count": 38,
      "outputs": [
        {
          "output_type": "execute_result",
          "data": {
            "text/plain": [
              "(0.0, 1.0)"
            ]
          },
          "metadata": {},
          "execution_count": 38
        },
        {
          "output_type": "display_data",
          "data": {
            "text/plain": [
              "<Figure size 1152x432 with 2 Axes>"
            ],
            "image/png": "[encoded data removed]"
          },
          "metadata": {
            "needs_background": "light"
          }
        }
      ]
    },
    {
      "cell_type": "markdown",
      "source": [
        "Воспользуемся найденными оптимальными параметрами, так bagging будет работать лучше"
      ],
      "metadata": {
        "id": "98g2MWT4b4fL"
      }
    },
    {
      "cell_type": "markdown",
      "metadata": {
        "nbgrader": {
          "grade": false,
          "grade_id": "cell-241b7691ab44cbfb",
          "locked": true,
          "schema_version": 2,
          "solution": false
        },
        "id": "9RhSKCM9Vlvw"
      },
      "source": [
        "#### 2.7. Random Forest\n",
        "Now we will work with the Random Forest (its `sklearn` implementation).\n",
        "\n",
        "* * Plot `f1` and `accuracy` scores plots w.r.t. the number of trees in Random Forest.\n",
        "\n",
        "* What is the optimal number of trees you've got? Is it different from the optimal number of logistic regressions/decision trees in 2.6? Explain the results briefly."
      ]
    },
    {
      "cell_type": "code",
      "execution_count": 39,
      "metadata": {
        "nbgrader": {
          "grade": true,
          "grade_id": "cell-888755d0f3d91620",
          "locked": false,
          "points": 15,
          "schema_version": 2,
          "solution": true
        },
        "id": "HuODmQKFVlvx"
      },
      "outputs": [],
      "source": [
        "from sklearn.ensemble import RandomForestClassifier\n",
        "\n",
        "# YOUR CODE HERE"
      ]
    },
    {
      "cell_type": "code",
      "source": [
        "accuracy = []\n",
        "f1 = []\n",
        "\n",
        "for n in n_algorithms:\n",
        "    clf = RandomForestClassifier(n_estimators=n)\n",
        "    clf.fit(X_train_pca, y_train)\n",
        "    y_pred = clf.predict(X_test_pca)\n",
        "    accuracy.append(accuracy_score(y_test, y_pred))\n",
        "    f1.append(f1_score(y_test, y_pred, average='weighted'))"
      ],
      "metadata": {
        "id": "x0zf9bHqb-0B"
      },
      "execution_count": 40,
      "outputs": []
    },
    {
      "cell_type": "code",
      "source": [
        "fig, (ax1, ax2) = plt.subplots(1, 2, figsize=(16, 6))\n",
        "fig.suptitle('random forest')\n",
        "ax1.plot(n_algorithms, accuracy)\n",
        "ax1.set_title('accuracy')\n",
        "ax2.plot(n_algorithms, f1)\n",
        "ax2.set_title('f1')"
      ],
      "metadata": {
        "colab": {
          "base_uri": "https://localhost:8080/",
          "height": 107
        },
        "id": "ttVlow-TcAyK",
        "outputId": "49183bad-3c21-4543-823b-a1d82d0b4a05"
      },
      "execution_count": 41,
      "outputs": [
        {
          "output_type": "execute_result",
          "data": {
            "text/plain": [
              "Text(0.5, 1.0, 'f1')"
            ]
          },
          "metadata": {},
          "execution_count": 41
        },
        {
          "output_type": "display_data",
          "data": {
            "text/plain": [
              "<Figure size 1152x432 with 2 Axes>"
            ],
            "image/png": "[encoded data removed]"
          },
          "metadata": {
            "needs_background": "light"
          }
        }
      ]
    },
    {
      "cell_type": "markdown",
      "source": [
        "Оптимальное количество деревьев для random forest от 15-20 до 100, что отличается от bagging. Мне кажется, что bagging требует большего числа алгоритмов (в нем алгоритмы полностью независимы)"
      ],
      "metadata": {
        "id": "nsZXx5s-cEdW"
      }
    },
    {
      "cell_type": "markdown",
      "metadata": {
        "nbgrader": {
          "grade": false,
          "grade_id": "cell-99191c0852538d4d",
          "locked": true,
          "schema_version": 2,
          "solution": false
        },
        "id": "RwhIn5swVlvx"
      },
      "source": [
        "#### 2.8. Learning curve\n",
        "Your goal is to estimate, how does the model behaviour change with the increase of the `train` dataset size.\n",
        "\n",
        "* Split the training data into 10 equal (almost) parts. Then train the models from above (Logistic regression, Desicion Tree, Random Forest) with optimal hyperparameters you have selected on 1 part, 2 parts (combined, so the train size in increased by 2 times), 3 parts and so on.\n",
        "\n",
        "* Build a plot of `accuracy` and `f1` scores on `test` part, varying the `train` dataset size (so the axes will be score - dataset size.\n",
        "\n",
        "* Analyse the final plot. Can you make any conlusions using it? "
      ]
    },
    {
      "cell_type": "code",
      "execution_count": 42,
      "metadata": {
        "nbgrader": {
          "grade": true,
          "grade_id": "cell-e39bc7e7dff61ff9",
          "locked": false,
          "points": 15,
          "schema_version": 2,
          "solution": true
        },
        "id": "i-CyK6BIVlvy"
      },
      "outputs": [],
      "source": [
        "part_size = len(X_train) // 10 \n",
        "models = [best_log_reg_pca, best_tree_pca, RandomForestClassifier(80)]\n",
        "\n",
        "accuracy_arr = np.zeros((10, 3))\n",
        "f1_arr = np.zeros((10, 3))\n",
        "\n",
        "for i in range(10):\n",
        "    X_train_split = X_train_pca[:min(part_size*(i+1), len(X_train))]\n",
        "    y_train_split = y_train[:min(part_size*(i+1), len(X_train))]\n",
        "    \n",
        "    for m in range(len(models)):\n",
        "        models[m].fit(X_train_split, y_train_split)\n",
        "        y_pred = models[m].predict(X_test_pca)\n",
        "        \n",
        "        accuracy_arr[i, m] = accuracy_score(y_test, y_pred)\n",
        "        f1_arr[i, m] = f1_score(y_test, y_pred, average='weighted')"
      ]
    },
    {
      "cell_type": "code",
      "source": [
        "fig, (ax1, ax2) = plt.subplots(1, 2, figsize = (16, 6))\n",
        "\n",
        "part = np.arange(1, 11) * 10\n",
        "\n",
        "ax1.plot(part, accuracy_arr[:, 0], label='logreg')\n",
        "ax1.plot(part, accuracy_arr[:, 1], label='decision tree')\n",
        "ax1.plot(part, accuracy_arr[:, 2], label='random forest')\n",
        "ax1.set_xlabel('% of data')\n",
        "ax1.set_title('accuracy')\n",
        "ax1.legend()\n",
        "\n",
        "ax2.plot(part, f1_arr[:, 0], label='logreg')\n",
        "ax2.plot(part, f1_arr[:, 1], label='decision tree')\n",
        "ax2.plot(part, f1_arr[:, 2], label='random Forest')\n",
        "ax2.set_xlabel('% of data')\n",
        "ax2.set_title('f1')\n",
        "ax2.legend()"
      ],
      "metadata": {
        "colab": {
          "base_uri": "https://localhost:8080/",
          "height": 422
        },
        "id": "N91lCsrpcQox",
        "outputId": "aaee758c-253c-4635-e614-d27139ce0e70"
      },
      "execution_count": 43,
      "outputs": [
        {
          "output_type": "execute_result",
          "data": {
            "text/plain": [
              "<matplotlib.legend.Legend at 0x7f1acd40ca10>"
            ]
          },
          "metadata": {},
          "execution_count": 43
        },
        {
          "output_type": "display_data",
          "data": {
            "text/plain": [
              "<Figure size 1152x432 with 2 Axes>"
            ],
            "image/png": "[encoded data removed]"
          },
          "metadata": {
            "needs_background": "light"
          }
        }
      ]
    },
    {
      "cell_type": "markdown",
      "source": [
        "Заметим, что сначале качество моделей довольно быстро увеличивается, но затем рост становится не такой большой, и в какой-то момент качество почти перестает изменяться.\n",
        "\n",
        "Хуже всех показал себя decision tree. logreg и random forest дают похожие результаты и подобно случайной величине то одна модель показывает чуть лучшие результат, то другая.\n"
      ],
      "metadata": {
        "id": "jTqdAwXRcYzH"
      }
    }
  ],
  "metadata": {
    "celltoolbar": "Create Assignment",
    "kernelspec": {
      "display_name": "Py3 Research",
      "language": "python",
      "name": "py3_research_kernel"
    },
    "language_info": {
      "codemirror_mode": {
        "name": "ipython",
        "version": 3
      },
      "file_extension": ".py",
      "mimetype": "text/x-python",
      "name": "python",
      "nbconvert_exporter": "python",
      "pygments_lexer": "ipython3",
      "version": "3.9.7"
    },
    "toc": {
      "base_numbering": 1,
      "nav_menu": {},
      "number_sections": false,
      "sideBar": true,
      "skip_h1_title": false,
      "title_cell": "Table of Contents",
      "title_sidebar": "Contents",
      "toc_cell": false,
      "toc_position": {},
      "toc_section_display": true,
      "toc_window_display": false
    },
    "colab": {
      "provenance": []
    }
  },
  "nbformat": 4,
  "nbformat_minor": 0
}