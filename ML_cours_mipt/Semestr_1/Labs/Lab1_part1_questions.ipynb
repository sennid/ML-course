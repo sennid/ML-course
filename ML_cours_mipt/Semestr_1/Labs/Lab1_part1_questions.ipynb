{
  "metadata": {
    "kernelspec": {
      "name": "python",
      "display_name": "Python (Pyodide)",
      "language": "python"
    },
    "language_info": {
      "codemirror_mode": {
        "name": "python",
        "version": 3
      },
      "file_extension": ".py",
      "mimetype": "text/x-python",
      "name": "python",
      "nbconvert_exporter": "python",
      "pygments_lexer": "ipython3",
      "version": "3.8"
    }
  },
  "nbformat_minor": 4,
  "nbformat": 4,
  "cells": [
    {
      "cell_type": "markdown",
      "source": "*Credits: materials from this notebook belong to YSDA [Practical DL](https://github.com/yandexdataschool/Practical_DL) course. Special thanks for making them available online.*",
      "metadata": {}
    },
    {
      "cell_type": "markdown",
      "source": "# Lab assignment №1, part 1\n\nThis lab assignment consists of several parts. You are supposed to make some transformations, train some models, estimate the quality of the models and explain your results.\n\nSeveral comments:\n* Don't hesitate to ask questions, it's a good practice.\n* No private/public sharing, please. The copied assignments will be graded with 0 points.\n* Blocks of this lab will be graded separately.",
      "metadata": {}
    },
    {
      "cell_type": "markdown",
      "source": "## 1. Matrix differentiation",
      "metadata": {}
    },
    {
      "cell_type": "markdown",
      "source": "Since it easy to google every task please please please try to undestand what's going on. The \"just answer\" thing will be not counted, make sure to present derivation of your solution. It is absolutely OK if you found an answer on web then just exercise in $\\LaTeX$ copying it into here.",
      "metadata": {}
    },
    {
      "cell_type": "markdown",
      "source": "Useful links: \n[1](http://www.machinelearning.ru/wiki/images/2/2a/Matrix-Gauss.pdf)\n[2](http://www.atmos.washington.edu/~dennis/MatrixCalculus.pdf)",
      "metadata": {}
    },
    {
      "cell_type": "markdown",
      "source": "## ex. 1",
      "metadata": {}
    },
    {
      "cell_type": "markdown",
      "source": "$$\ny = x^Tx,  \\quad x \\in \\mathbb{R}^N \n$$",
      "metadata": {}
    },
    {
      "cell_type": "markdown",
      "source": "$$\n\\frac{dy}{dx} = \n$$ ",
      "metadata": {}
    },
    {
      "cell_type": "markdown",
      "source": "Решение:\n1. распишем, что такое y\n$$\ny =  \n\\begin{pmatrix}\n  x_1 x_2 \\cdots x_n\n\\end{pmatrix}\n\\begin{pmatrix}\n  x_1\\\\\n  x_2\\\\\n  \\cdots\\\\\n  x_n\n\\end{pmatrix} = \\sum^{n}_{i = 1}x_i^2, \\quad x \\in \\mathbb{R}^N \n$$\n2. вычислим производную поэлементно\n$$\\forall i: \\; \\frac{\\partial y}{\\partial x} = \\frac{\\partial(\\sum^{n}_{i = 1}x_i^2)}{\\partial x_i} = 2x_i$$\n3. получили ответ\n$$\\frac{dy}{dx} = 2x$$",
      "metadata": {
        "tags": []
      }
    },
    {
      "cell_type": "markdown",
      "source": "## ex. 2",
      "metadata": {}
    },
    {
      "cell_type": "markdown",
      "source": "$$ y = tr(AB) \\quad A,B \\in \\mathbb{R}^{N \\times N} $$ ",
      "metadata": {}
    },
    {
      "cell_type": "markdown",
      "source": "$$\n\\frac{dy}{dA} =\n$$",
      "metadata": {}
    },
    {
      "cell_type": "markdown",
      "source": "Решение:\n1. распишем, что такое y\n$$\ny =  \n\\begin{pmatrix}\n  x_1 x_2 \\cdots x_n\n\\end{pmatrix}\n\\begin{pmatrix}\n  x_1\\\\\n  x_2\\\\\n  \\cdots\\\\\n  x_n\n\\end{pmatrix} = \\sum^{n}_{i = 1}x_i^2, \\quad x \\in \\mathbb{R}^N \n$$\n2. вычислим производную поэлементно\n$$\\forall i: \\; \\frac{\\partial y}{\\partial x} = \\frac{\\partial(\\sum^{n}_{i = 1}x_i^2)}{\\partial x_i} = 2x_i$$\n3. получили ответ\n$$\\frac{dy}{dx} = 2x$$",
      "metadata": {
        "jupyter": {
          "outputs_hidden": true
        }
      }
    },
    {
      "cell_type": "markdown",
      "source": "## ex. 3",
      "metadata": {}
    },
    {
      "cell_type": "markdown",
      "source": "$$  \ny = x^TAc , \\quad A\\in \\mathbb{R}^{N \\times N}, x\\in \\mathbb{R}^{N}, c\\in \\mathbb{R}^{N} \n$$",
      "metadata": {}
    },
    {
      "cell_type": "markdown",
      "source": "$$\n\\frac{dy}{dx} =\n$$",
      "metadata": {}
    },
    {
      "cell_type": "markdown",
      "source": "Решение:\n1. распишем, что такое y\n$$\ny = b_{1}x_{1} + b_{2}x_{2} + \\cdots + b_{n}x_{n},$$ где $b = Ac \\in \\mathbb{R}^{N}$\n2. вычислим производную поэлементно\n$$\n\\forall i,j: \\frac{\\partial y}{\\partial x} = \\frac{\\partial (\\sum_{i = 1}^{n} b_i x_i)}{\\partial x_j} = b_j\n$$\n3. получили ответ \n$$\n\\frac{dy}{dx} = Ac\n$$",
      "metadata": {}
    },
    {
      "cell_type": "markdown",
      "source": "$$\n\\frac{dy}{dA} =\n$$ ",
      "metadata": {}
    },
    {
      "cell_type": "markdown",
      "source": "Решение:\n1. распишем, что такое y\n$$\ny = c_1(x_1 x_2 \\cdots x_n) \n\\begin{pmatrix}\n  a_{11}\\\\\n  a_{21}\\\\\n  \\cdots\\\\\n  a_{n1}\n\\end{pmatrix} +\nc_2(x_1 x_2 \\cdots x_n) \n\\begin{pmatrix}\n  a_{12}\\\\\n  a_{22}\\\\\n  \\cdots\\\\\n  a_{n2}\n\\end{pmatrix} + \\cdots\nc_n(x_1 x_2 \\cdots x_n) \n\\begin{pmatrix}\n  a_{1n}\\\\\n  a_{2n}\\\\\n  \\cdots\\\\\n  a_{nn}\n\\end{pmatrix}\n$$\n2. вычислим производную поэлементно\n$$\n\\forall i,j: \\; \\frac{\\partial y}{\\partial A} = \\frac{\\partial (x^T (A c))}{a_{ij}} = \\frac{\\partial\nc_j\\left((x_1 x_2 \\cdots x_n) \n\\begin{pmatrix}\n  a_{1j}\\\\\n  a_{2j}\\\\\n  \\cdots\\\\\n  a_{nj}\n\\end{pmatrix} \\right )\n}{a_{ij}} = c_j x_i\n$$\n3. получили ответ \n$$\n\\frac{dy}{dA} = x c^T\n$$ ",
      "metadata": {}
    },
    {
      "cell_type": "markdown",
      "source": "Hint for the latter (one of the ways): use *ex. 2* result and the fact \n$$\ntr(ABC) = tr (CAB)\n$$",
      "metadata": {}
    },
    {
      "cell_type": "markdown",
      "source": "## ex. 4",
      "metadata": {}
    },
    {
      "cell_type": "markdown",
      "source": "Classic matrix factorization example. Given matrix $X$ you need to find $A$, $S$ to approximate $X$. This can be done by simple gradient descent iteratively alternating $A$ and $S$ updates.\n$$\nJ = || X - AS ||_F^2  , \\quad A\\in \\mathbb{R}^{N \\times R} , \\quad S\\in \\mathbb{R}^{R \\times M}\n$$\n$$\n\\frac{dJ}{dS} = ? \n$$\n\nYou may use one of the following approaches:",
      "metadata": {}
    },
    {
      "cell_type": "markdown",
      "source": "#### First approach\nUsing ex.2 and the fact:\n$$\n|| X ||_F^2 = tr(XX^T) \n$$ \nit is easy to derive gradients (you can find it in one of the refs). ",
      "metadata": {}
    },
    {
      "cell_type": "markdown",
      "source": "#### Second approach\nYou can use *slightly different techniques* if they suits you. Take a look at this derivation:\n<img src=\"grad.png\">\n(excerpt from [Handbook of blind source separation, Jutten, page 517](https://books.google.ru/books?id=PTbj03bYH6kC&printsec=frontcover&dq=Handbook+of+Blind+Source+Separation&hl=en&sa=X&ved=0ahUKEwi-q_apiJDLAhULvXIKHVXJDWcQ6AEIHDAA#v=onepage&q=Handbook%20of%20Blind%20Source%20Separation&f=false), open for better picture).",
      "metadata": {}
    },
    {
      "cell_type": "markdown",
      "source": "#### Third approach\nAnd finally we can use chain rule! \nlet $ F = AS $ \n\n**Find**\n$$\n\\frac{dJ}{dF} =  \n$$ \nand \n$$\n\\frac{dF}{dS} =  \n$$ \n(the shape should be $ NM \\times RM )$.\n\nNow it is easy do get desired gradients:\n$$\n\\frac{dJ}{dS} =  \n$$ ",
      "metadata": {}
    },
    {
      "cell_type": "markdown",
      "source": "## 2. kNN questions\nHere come the questions from the assignment0_01. Please, refer to the assignment0_01 to get the context of the questions.",
      "metadata": {
        "jupyter": {
          "outputs_hidden": true
        }
      }
    },
    {
      "cell_type": "markdown",
      "source": "### Question 1\n\nNotice the structured patterns in the distance matrix, where some rows or columns are visible brighter. (Note that with the default color scheme black indicates low distances while white indicates high distances.)\n\n- What in the data is the cause behind the distinctly bright rows?\n- What causes the columns?\n\n*Your Answer:*\nСветлые строки говорят о том, что интенсивность пикселей тестового и трейнингого изображений сильно отличается, например, белый и черный фон.\n\nСтолбцы вызваны тем, что среди тестовых изображений нет соответствующих этому трейнинговому изображению \n\n",
      "metadata": {}
    },
    {
      "cell_type": "markdown",
      "source": "### Question 2\n\nWe can also use other distance metrics such as L1 distance.\nFor pixel values $p_{ij}^{(k)}$ at location $(i,j)$ of some image $I_k$, \n\nthe mean $\\mu$ across all pixels over all images is $$\\mu=\\frac{1}{nhw}\\sum_{k=1}^n\\sum_{i=1}^{h}\\sum_{j=1}^{w}p_{ij}^{(k)}$$\nAnd the pixel-wise mean $\\mu_{ij}$ across all images is \n$$\\mu_{ij}=\\frac{1}{n}\\sum_{k=1}^np_{ij}^{(k)}.$$\nThe general standard deviation $\\sigma$ and pixel-wise standard deviation $\\sigma_{ij}$ is defined similarly.\n\nWhich of the following preprocessing steps will not change the performance of a Nearest Neighbor classifier that uses L1 distance? Select all that apply.\n1. Subtracting the mean $\\mu$ ($\\tilde{p}_{ij}^{(k)}=p_{ij}^{(k)}-\\mu$.)\n2. Subtracting the per pixel mean $\\mu_{ij}$  ($\\tilde{p}_{ij}^{(k)}=p_{ij}^{(k)}-\\mu_{ij}$.)\n3. Subtracting the mean $\\mu$ and dividing by the standard deviation $\\sigma$.\n4. Subtracting the pixel-wise mean $\\mu_{ij}$ and dividing by the pixel-wise standard deviation $\\sigma_{ij}$.\n5. Rotating the coordinate axes of the data.\n\n",
      "metadata": {}
    },
    {
      "cell_type": "code",
      "source": "*Your Answer:*\n 1, 2, 3\n\n*Your Explanation:*\n1. Да,\n2. Да,",
      "metadata": {},
      "execution_count": null,
      "outputs": []
    },
    {
      "cell_type": "markdown",
      "source": "## Question 3\n\nWhich of the following statements about $k$-Nearest Neighbor ($k$-NN) are true in a classification setting, and for all $k$? Select all that apply.\n1. The decision boundary (hyperplane between classes in feature space) of the k-NN classifier is linear.\n2. The training error of a 1-NN will always be lower than that of 5-NN.\n3. The test error of a 1-NN will always be lower than that of a 5-NN.\n4. The time needed to classify a test example with the k-NN classifier grows with the size of the training set.\n5. None of the above.\n\n",
      "metadata": {}
    },
    {
      "cell_type": "code",
      "source": "*Your Answer:*\n2, 4\n\n*Your Explanation:*",
      "metadata": {},
      "execution_count": null,
      "outputs": []
    }
  ]
}